{
 "cells": [
  {
   "cell_type": "markdown",
   "id": "incorporate-excess",
   "metadata": {},
   "source": [
    "# Predicting College Football\n",
    "\n",
    "## Wyatt Rasmussen\n",
    "## DSC 630"
   ]
  },
  {
   "cell_type": "markdown",
   "id": "three-festival",
   "metadata": {},
   "source": [
    "**Imports**"
   ]
  },
  {
   "cell_type": "code",
   "execution_count": 1,
   "id": "supposed-powder",
   "metadata": {},
   "outputs": [],
   "source": [
    "import cfbd\n",
    "import datetime\n",
    "import numpy as np\n",
    "import pandas as pd\n",
    "import seaborn as sns"
   ]
  },
  {
   "cell_type": "code",
   "execution_count": 2,
   "id": "charming-chicken",
   "metadata": {},
   "outputs": [],
   "source": [
    "# configure API key\n",
    "configuration = cfbd.Configuration()\n",
    "configuration.api_key['Authorization'] = 'T0SZdudSVeE5E5L1mImh1kShvc0t+1HPCXJQp14x+ii+7YN1HLepgNtbSuVCTjn6'\n",
    "configuration.api_key_prefix['Authorization'] = 'Bearer'"
   ]
  },
  {
   "cell_type": "code",
   "execution_count": 3,
   "id": "recreational-processor",
   "metadata": {},
   "outputs": [],
   "source": [
    "# create a games API instance\n",
    "api_config = cfbd.ApiClient(configuration)\n",
    "games_api = cfbd.GamesApi(cfbd.ApiClient(configuration))"
   ]
  },
  {
   "cell_type": "markdown",
   "id": "processed-parish",
   "metadata": {},
   "source": [
    "### Building an Elo Based Model"
   ]
  },
  {
   "cell_type": "code",
   "execution_count": 4,
   "id": "brilliant-conflict",
   "metadata": {},
   "outputs": [],
   "source": [
    "# create a logistic curve function to create rating win expectancy\n",
    "\n",
    "def get_expected_score(rating, opp_rating):\n",
    "    exp = (opp_rating - rating) / 300\n",
    "    return 1 / (1+10**exp)"
   ]
  },
  {
   "cell_type": "code",
   "execution_count": 5,
   "id": "rising-correspondence",
   "metadata": {},
   "outputs": [],
   "source": [
    "# creating a get_new_elos function to calculate the elo based on the result\n",
    "\n",
    "def get_new_elos(home_rating, away_rating, margin):\n",
    "     \n",
    "    # score of 0.5 for a tie\n",
    "    home_score = 0.5\n",
    "    if margin > 0:\n",
    "        # score of 1 for a win\n",
    "        home_score = 1\n",
    "    elif margin < 0:\n",
    "        #score of 0 for a loss\n",
    "        home_score = 0\n",
    "\n",
    "    # get expected home score\n",
    "    expected_home_score = get_expected_score(home_rating, away_rating)\n",
    "    # multiply difference of actual and expected score by k value and adjust home rating\n",
    "    # removed home_score -\n",
    "    new_home_score = home_rating + abs(margin) * (home_score - expected_home_score)\n",
    "\n",
    "    # repeat these steps for the away team\n",
    "    # away score is inverse of home score\n",
    "    away_score = 1 - home_score\n",
    "    expected_away_score = get_expected_score(away_rating, home_rating)\n",
    "    # removed away_score - expected_away_score\n",
    "    new_away_score = away_rating + abs(margin) * (away_score - expected_away_score)\n",
    "\n",
    "    # return a tuple\n",
    "    return (round(new_home_score), round(new_away_score))"
   ]
  },
  {
   "cell_type": "code",
   "execution_count": 6,
   "id": "settled-gardening",
   "metadata": {},
   "outputs": [],
   "source": [
    "# sorting the games so the elos are determined in chronological order\n",
    "\n",
    "def date_sort(game):\n",
    "    game_date = datetime.datetime.strptime(game['start_date'], \"%Y-%m-%dT%H:%M:%S.000Z\")\n",
    "    return game_date\n",
    "\n",
    "def elo_sort(team):\n",
    "    return team['elo']"
   ]
  },
  {
   "cell_type": "markdown",
   "id": "virtual-upper",
   "metadata": {},
   "source": [
    "**2017**\n",
    "  \n",
    "Grabbing each season from 2017-2021. This will give me 4 seasons that I can use to train the model that I eventually create and 1 season (2021) to test the model against."
   ]
  },
  {
   "cell_type": "code",
   "execution_count": 7,
   "id": "liable-crime",
   "metadata": {},
   "outputs": [],
   "source": [
    "games = []\n",
    "\n",
    "# was 2013\n",
    "for year in range(2017, 2018):\n",
    "    response = games_api.get_games(year=year)\n",
    "    games = [*games, *response]"
   ]
  },
  {
   "cell_type": "code",
   "execution_count": 8,
   "id": "raised-pepper",
   "metadata": {},
   "outputs": [
    {
     "data": {
      "text/plain": [
       "{'attendance': 37583,\n",
       " 'away_conference': 'Pac-12',\n",
       " 'away_id': 204,\n",
       " 'away_line_scores': [10, 10, 0, 7],\n",
       " 'away_points': 27,\n",
       " 'away_post_win_prob': 0.001059250629844466,\n",
       " 'away_postgame_elo': 1345,\n",
       " 'away_pregame_elo': 1412,\n",
       " 'away_team': 'Oregon State',\n",
       " 'conference_game': False,\n",
       " 'excitement_index': 4.9529115584,\n",
       " 'highlights': 'https://www.youtube.com/watch?v=vg6e0rzyt70',\n",
       " 'home_conference': 'Mountain West',\n",
       " 'home_id': 36,\n",
       " 'home_line_scores': [7, 17, 10, 24],\n",
       " 'home_points': 58,\n",
       " 'home_post_win_prob': 0.9989407493701555,\n",
       " 'home_postgame_elo': 1613,\n",
       " 'home_pregame_elo': 1546,\n",
       " 'home_team': 'Colorado State',\n",
       " 'id': 400935282,\n",
       " 'neutral_site': False,\n",
       " 'notes': None,\n",
       " 'season': 2017,\n",
       " 'season_type': 'regular',\n",
       " 'start_date': '2017-08-26T18:30:00.000Z',\n",
       " 'start_time_tbd': None,\n",
       " 'venue': 'Canvas Stadium',\n",
       " 'venue_id': 5388,\n",
       " 'week': 1}"
      ]
     },
     "execution_count": 8,
     "metadata": {},
     "output_type": "execute_result"
    }
   ],
   "source": [
    "games[0]"
   ]
  },
  {
   "cell_type": "code",
   "execution_count": 9,
   "id": "surface-humanitarian",
   "metadata": {},
   "outputs": [],
   "source": [
    "games = [dict(\n",
    "            game_id = g.id,\n",
    "            start_date = g.start_date,\n",
    "            season = g.season,\n",
    "            home_team = g.home_team,\n",
    "            home_conference = g.home_conference,\n",
    "            home_points = g.home_points,\n",
    "            away_team = g.away_team,\n",
    "            away_conference = g.away_conference,\n",
    "            away_points = g.away_points\n",
    "            ) for g in games if g.home_points is not None and g.away_points is not None]\n",
    "games.sort(key=date_sort)"
   ]
  },
  {
   "cell_type": "code",
   "execution_count": 10,
   "id": "conservative-partnership",
   "metadata": {},
   "outputs": [
    {
     "data": {
      "text/plain": [
       "{'game_id': 400935282,\n",
       " 'start_date': '2017-08-26T18:30:00.000Z',\n",
       " 'season': 2017,\n",
       " 'home_team': 'Colorado State',\n",
       " 'home_conference': 'Mountain West',\n",
       " 'home_points': 58,\n",
       " 'away_team': 'Oregon State',\n",
       " 'away_conference': 'Pac-12',\n",
       " 'away_points': 27}"
      ]
     },
     "execution_count": 10,
     "metadata": {},
     "output_type": "execute_result"
    }
   ],
   "source": [
    "games[0]"
   ]
  },
  {
   "cell_type": "code",
   "execution_count": 11,
   "id": "intelligent-attitude",
   "metadata": {},
   "outputs": [],
   "source": [
    "# dict object to hold current Elo rating for each team\n",
    "teams = dict()\n",
    "\n",
    "# loop through games in order\n",
    "for game in games:\n",
    "\n",
    "    # get current rating for home team\n",
    "    if game['home_team'] in teams:\n",
    "        home_elo = teams[game['home_team']]\n",
    "    # Power 5 get boost\n",
    "    elif game['home_conference'] is not None:\n",
    "        # if no rating, but FBS set to 1000\n",
    "        home_elo = 1000\n",
    "    else:\n",
    "        # otherwise, set initial rating to 500 for non-FBS teams\n",
    "        home_elo = 500\n",
    "\n",
    "    # get current rating for away team\n",
    "    if game['away_team'] in teams:\n",
    "        away_elo = teams[game['away_team']]\n",
    "    elif game['away_conference'] is not None:\n",
    "        # if no rating, but FBS set to 1000\n",
    "        away_elo = 1000\n",
    "    else:\n",
    "        # otherwise, set initial rating to 500 for non-FBS teams\n",
    "        away_elo = 500\n",
    "\n",
    "    # calculate score margin from game\n",
    "    margin = game['home_points'] - game['away_points']\n",
    "\n",
    "    # get new elo ratings\n",
    "    new_elos = get_new_elos(home_elo, away_elo, margin)\n",
    "\n",
    "    # set pregame elos on game dict\n",
    "    game['pregame_home_elo'] = home_elo\n",
    "    game['pregame_away_elo'] = away_elo\n",
    "\n",
    "    # set postgame elos on game dict\n",
    "    game['postgame_home_elo'] = new_elos[0]\n",
    "    game['postgame_away_elo'] = new_elos[1]\n",
    "\n",
    "    # set current elo values in teams dict\n",
    "    teams[game['home_team']] = new_elos[0]\n",
    "    teams[game['away_team']] = new_elos[1]"
   ]
  },
  {
   "cell_type": "code",
   "execution_count": 12,
   "id": "metric-suggestion",
   "metadata": {},
   "outputs": [],
   "source": [
    "end_elos = [dict(team=key, elo=teams[key]) for key in teams]\n",
    "end_elos.sort(key=elo_sort, reverse=True)"
   ]
  },
  {
   "cell_type": "code",
   "execution_count": 13,
   "id": "proved-attendance",
   "metadata": {},
   "outputs": [],
   "source": [
    "end_elos_df = pd.DataFrame(end_elos).set_index('elo')"
   ]
  },
  {
   "cell_type": "code",
   "execution_count": 14,
   "id": "tracked-clause",
   "metadata": {},
   "outputs": [
    {
     "data": {
      "text/html": [
       "<div>\n",
       "<style scoped>\n",
       "    .dataframe tbody tr th:only-of-type {\n",
       "        vertical-align: middle;\n",
       "    }\n",
       "\n",
       "    .dataframe tbody tr th {\n",
       "        vertical-align: top;\n",
       "    }\n",
       "\n",
       "    .dataframe thead th {\n",
       "        text-align: right;\n",
       "    }\n",
       "</style>\n",
       "<table border=\"1\" class=\"dataframe\">\n",
       "  <thead>\n",
       "    <tr style=\"text-align: right;\">\n",
       "      <th></th>\n",
       "      <th>team</th>\n",
       "    </tr>\n",
       "    <tr>\n",
       "      <th>elo</th>\n",
       "      <th></th>\n",
       "    </tr>\n",
       "  </thead>\n",
       "  <tbody>\n",
       "    <tr>\n",
       "      <th>1118</th>\n",
       "      <td>Penn State</td>\n",
       "    </tr>\n",
       "    <tr>\n",
       "      <th>1110</th>\n",
       "      <td>Alabama</td>\n",
       "    </tr>\n",
       "    <tr>\n",
       "      <th>1109</th>\n",
       "      <td>Ohio State</td>\n",
       "    </tr>\n",
       "    <tr>\n",
       "      <th>1107</th>\n",
       "      <td>Oklahoma</td>\n",
       "    </tr>\n",
       "    <tr>\n",
       "      <th>1106</th>\n",
       "      <td>Wisconsin</td>\n",
       "    </tr>\n",
       "    <tr>\n",
       "      <th>1105</th>\n",
       "      <td>Georgia</td>\n",
       "    </tr>\n",
       "    <tr>\n",
       "      <th>1104</th>\n",
       "      <td>Clemson</td>\n",
       "    </tr>\n",
       "    <tr>\n",
       "      <th>1096</th>\n",
       "      <td>UCF</td>\n",
       "    </tr>\n",
       "    <tr>\n",
       "      <th>1088</th>\n",
       "      <td>Auburn</td>\n",
       "    </tr>\n",
       "    <tr>\n",
       "      <th>1087</th>\n",
       "      <td>Washington</td>\n",
       "    </tr>\n",
       "    <tr>\n",
       "      <th>1073</th>\n",
       "      <td>Oklahoma State</td>\n",
       "    </tr>\n",
       "    <tr>\n",
       "      <th>1068</th>\n",
       "      <td>Florida Atlantic</td>\n",
       "    </tr>\n",
       "    <tr>\n",
       "      <th>1064</th>\n",
       "      <td>Stanford</td>\n",
       "    </tr>\n",
       "    <tr>\n",
       "      <th>1064</th>\n",
       "      <td>Notre Dame</td>\n",
       "    </tr>\n",
       "    <tr>\n",
       "      <th>1063</th>\n",
       "      <td>South Florida</td>\n",
       "    </tr>\n",
       "    <tr>\n",
       "      <th>1063</th>\n",
       "      <td>Memphis</td>\n",
       "    </tr>\n",
       "    <tr>\n",
       "      <th>1060</th>\n",
       "      <td>Virginia Tech</td>\n",
       "    </tr>\n",
       "    <tr>\n",
       "      <th>1056</th>\n",
       "      <td>TCU</td>\n",
       "    </tr>\n",
       "    <tr>\n",
       "      <th>1055</th>\n",
       "      <td>Toledo</td>\n",
       "    </tr>\n",
       "    <tr>\n",
       "      <th>1055</th>\n",
       "      <td>Northwestern</td>\n",
       "    </tr>\n",
       "    <tr>\n",
       "      <th>1051</th>\n",
       "      <td>Boise State</td>\n",
       "    </tr>\n",
       "    <tr>\n",
       "      <th>1051</th>\n",
       "      <td>USC</td>\n",
       "    </tr>\n",
       "    <tr>\n",
       "      <th>1047</th>\n",
       "      <td>Iowa</td>\n",
       "    </tr>\n",
       "    <tr>\n",
       "      <th>1046</th>\n",
       "      <td>Miami</td>\n",
       "    </tr>\n",
       "    <tr>\n",
       "      <th>1046</th>\n",
       "      <td>Troy</td>\n",
       "    </tr>\n",
       "  </tbody>\n",
       "</table>\n",
       "</div>"
      ],
      "text/plain": [
       "                  team\n",
       "elo                   \n",
       "1118        Penn State\n",
       "1110           Alabama\n",
       "1109        Ohio State\n",
       "1107          Oklahoma\n",
       "1106         Wisconsin\n",
       "1105           Georgia\n",
       "1104           Clemson\n",
       "1096               UCF\n",
       "1088            Auburn\n",
       "1087        Washington\n",
       "1073    Oklahoma State\n",
       "1068  Florida Atlantic\n",
       "1064          Stanford\n",
       "1064        Notre Dame\n",
       "1063     South Florida\n",
       "1063           Memphis\n",
       "1060     Virginia Tech\n",
       "1056               TCU\n",
       "1055            Toledo\n",
       "1055      Northwestern\n",
       "1051       Boise State\n",
       "1051               USC\n",
       "1047              Iowa\n",
       "1046             Miami\n",
       "1046              Troy"
      ]
     },
     "execution_count": 14,
     "metadata": {},
     "output_type": "execute_result"
    }
   ],
   "source": [
    "end_elos_df.head(25)"
   ]
  },
  {
   "cell_type": "code",
   "execution_count": 15,
   "id": "neutral-parameter",
   "metadata": {},
   "outputs": [],
   "source": [
    "games_df = pd.DataFrame(games)"
   ]
  },
  {
   "cell_type": "code",
   "execution_count": 16,
   "id": "stuffed-emission",
   "metadata": {},
   "outputs": [
    {
     "data": {
      "text/html": [
       "<div>\n",
       "<style scoped>\n",
       "    .dataframe tbody tr th:only-of-type {\n",
       "        vertical-align: middle;\n",
       "    }\n",
       "\n",
       "    .dataframe tbody tr th {\n",
       "        vertical-align: top;\n",
       "    }\n",
       "\n",
       "    .dataframe thead th {\n",
       "        text-align: right;\n",
       "    }\n",
       "</style>\n",
       "<table border=\"1\" class=\"dataframe\">\n",
       "  <thead>\n",
       "    <tr style=\"text-align: right;\">\n",
       "      <th></th>\n",
       "      <th>game_id</th>\n",
       "      <th>start_date</th>\n",
       "      <th>season</th>\n",
       "      <th>home_team</th>\n",
       "      <th>home_conference</th>\n",
       "      <th>home_points</th>\n",
       "      <th>away_team</th>\n",
       "      <th>away_conference</th>\n",
       "      <th>away_points</th>\n",
       "      <th>pregame_home_elo</th>\n",
       "      <th>pregame_away_elo</th>\n",
       "      <th>postgame_home_elo</th>\n",
       "      <th>postgame_away_elo</th>\n",
       "    </tr>\n",
       "  </thead>\n",
       "  <tbody>\n",
       "    <tr>\n",
       "      <th>525</th>\n",
       "      <td>400935393</td>\n",
       "      <td>2017-10-28T16:00:00.000Z</td>\n",
       "      <td>2017</td>\n",
       "      <td>Michigan</td>\n",
       "      <td>Big Ten</td>\n",
       "      <td>35</td>\n",
       "      <td>Rutgers</td>\n",
       "      <td>Big Ten</td>\n",
       "      <td>14</td>\n",
       "      <td>1024</td>\n",
       "      <td>971</td>\n",
       "      <td>1032</td>\n",
       "      <td>963</td>\n",
       "    </tr>\n",
       "    <tr>\n",
       "      <th>60</th>\n",
       "      <td>400934489</td>\n",
       "      <td>2017-09-02T23:00:00.000Z</td>\n",
       "      <td>2017</td>\n",
       "      <td>Baylor</td>\n",
       "      <td>Big 12</td>\n",
       "      <td>45</td>\n",
       "      <td>Liberty</td>\n",
       "      <td>None</td>\n",
       "      <td>48</td>\n",
       "      <td>1000</td>\n",
       "      <td>500</td>\n",
       "      <td>997</td>\n",
       "      <td>503</td>\n",
       "    </tr>\n",
       "    <tr>\n",
       "      <th>672</th>\n",
       "      <td>400938658</td>\n",
       "      <td>2017-11-11T22:00:00.000Z</td>\n",
       "      <td>2017</td>\n",
       "      <td>North Texas</td>\n",
       "      <td>Conference USA</td>\n",
       "      <td>45</td>\n",
       "      <td>UTEP</td>\n",
       "      <td>Conference USA</td>\n",
       "      <td>10</td>\n",
       "      <td>980</td>\n",
       "      <td>904</td>\n",
       "      <td>993</td>\n",
       "      <td>891</td>\n",
       "    </tr>\n",
       "  </tbody>\n",
       "</table>\n",
       "</div>"
      ],
      "text/plain": [
       "       game_id                start_date  season    home_team home_conference  \\\n",
       "525  400935393  2017-10-28T16:00:00.000Z    2017     Michigan         Big Ten   \n",
       "60   400934489  2017-09-02T23:00:00.000Z    2017       Baylor          Big 12   \n",
       "672  400938658  2017-11-11T22:00:00.000Z    2017  North Texas  Conference USA   \n",
       "\n",
       "     home_points away_team away_conference  away_points  pregame_home_elo  \\\n",
       "525           35   Rutgers         Big Ten           14              1024   \n",
       "60            45   Liberty            None           48              1000   \n",
       "672           45      UTEP  Conference USA           10               980   \n",
       "\n",
       "     pregame_away_elo  postgame_home_elo  postgame_away_elo  \n",
       "525               971               1032                963  \n",
       "60                500                997                503  \n",
       "672               904                993                891  "
      ]
     },
     "execution_count": 16,
     "metadata": {},
     "output_type": "execute_result"
    }
   ],
   "source": [
    "games_df.sample(3)"
   ]
  },
  {
   "cell_type": "code",
   "execution_count": 17,
   "id": "alike-intellectual",
   "metadata": {},
   "outputs": [],
   "source": [
    "games_df['margin'] = games_df['home_points'] - games_df['away_points']"
   ]
  },
  {
   "cell_type": "code",
   "execution_count": 18,
   "id": "consecutive-labor",
   "metadata": {
    "scrolled": true
   },
   "outputs": [
    {
     "data": {
      "text/html": [
       "<div>\n",
       "<style scoped>\n",
       "    .dataframe tbody tr th:only-of-type {\n",
       "        vertical-align: middle;\n",
       "    }\n",
       "\n",
       "    .dataframe tbody tr th {\n",
       "        vertical-align: top;\n",
       "    }\n",
       "\n",
       "    .dataframe thead th {\n",
       "        text-align: right;\n",
       "    }\n",
       "</style>\n",
       "<table border=\"1\" class=\"dataframe\">\n",
       "  <thead>\n",
       "    <tr style=\"text-align: right;\">\n",
       "      <th></th>\n",
       "      <th>game_id</th>\n",
       "      <th>start_date</th>\n",
       "      <th>season</th>\n",
       "      <th>home_team</th>\n",
       "      <th>home_conference</th>\n",
       "      <th>home_points</th>\n",
       "      <th>away_team</th>\n",
       "      <th>away_conference</th>\n",
       "      <th>away_points</th>\n",
       "      <th>pregame_home_elo</th>\n",
       "      <th>pregame_away_elo</th>\n",
       "      <th>postgame_home_elo</th>\n",
       "      <th>postgame_away_elo</th>\n",
       "      <th>margin</th>\n",
       "    </tr>\n",
       "  </thead>\n",
       "  <tbody>\n",
       "    <tr>\n",
       "      <th>8</th>\n",
       "      <td>400941787</td>\n",
       "      <td>2017-08-31T23:00:00.000Z</td>\n",
       "      <td>2017</td>\n",
       "      <td>Cincinnati</td>\n",
       "      <td>American Athletic</td>\n",
       "      <td>26</td>\n",
       "      <td>Austin Peay</td>\n",
       "      <td>None</td>\n",
       "      <td>14</td>\n",
       "      <td>1000</td>\n",
       "      <td>500</td>\n",
       "      <td>1000</td>\n",
       "      <td>500</td>\n",
       "      <td>12</td>\n",
       "    </tr>\n",
       "    <tr>\n",
       "      <th>68</th>\n",
       "      <td>400934491</td>\n",
       "      <td>2017-09-02T23:10:00.000Z</td>\n",
       "      <td>2017</td>\n",
       "      <td>Kansas State</td>\n",
       "      <td>Big 12</td>\n",
       "      <td>55</td>\n",
       "      <td>Central Arkansas</td>\n",
       "      <td>None</td>\n",
       "      <td>19</td>\n",
       "      <td>1000</td>\n",
       "      <td>500</td>\n",
       "      <td>1001</td>\n",
       "      <td>499</td>\n",
       "      <td>36</td>\n",
       "    </tr>\n",
       "    <tr>\n",
       "      <th>261</th>\n",
       "      <td>400934515</td>\n",
       "      <td>2017-09-23T22:30:00.000Z</td>\n",
       "      <td>2017</td>\n",
       "      <td>Baylor</td>\n",
       "      <td>Big 12</td>\n",
       "      <td>41</td>\n",
       "      <td>Oklahoma</td>\n",
       "      <td>Big 12</td>\n",
       "      <td>49</td>\n",
       "      <td>988</td>\n",
       "      <td>1050</td>\n",
       "      <td>985</td>\n",
       "      <td>1053</td>\n",
       "      <td>-8</td>\n",
       "    </tr>\n",
       "    <tr>\n",
       "      <th>808</th>\n",
       "      <td>400935327</td>\n",
       "      <td>2017-11-26T00:00:00.000Z</td>\n",
       "      <td>2017</td>\n",
       "      <td>Oregon</td>\n",
       "      <td>Pac-12</td>\n",
       "      <td>69</td>\n",
       "      <td>Oregon State</td>\n",
       "      <td>Pac-12</td>\n",
       "      <td>10</td>\n",
       "      <td>1001</td>\n",
       "      <td>914</td>\n",
       "      <td>1021</td>\n",
       "      <td>894</td>\n",
       "      <td>59</td>\n",
       "    </tr>\n",
       "    <tr>\n",
       "      <th>244</th>\n",
       "      <td>400933869</td>\n",
       "      <td>2017-09-23T19:30:00.000Z</td>\n",
       "      <td>2017</td>\n",
       "      <td>South Carolina</td>\n",
       "      <td>SEC</td>\n",
       "      <td>17</td>\n",
       "      <td>Louisiana Tech</td>\n",
       "      <td>Conference USA</td>\n",
       "      <td>16</td>\n",
       "      <td>1008</td>\n",
       "      <td>984</td>\n",
       "      <td>1008</td>\n",
       "      <td>984</td>\n",
       "      <td>1</td>\n",
       "    </tr>\n",
       "  </tbody>\n",
       "</table>\n",
       "</div>"
      ],
      "text/plain": [
       "       game_id                start_date  season       home_team  \\\n",
       "8    400941787  2017-08-31T23:00:00.000Z    2017      Cincinnati   \n",
       "68   400934491  2017-09-02T23:10:00.000Z    2017    Kansas State   \n",
       "261  400934515  2017-09-23T22:30:00.000Z    2017          Baylor   \n",
       "808  400935327  2017-11-26T00:00:00.000Z    2017          Oregon   \n",
       "244  400933869  2017-09-23T19:30:00.000Z    2017  South Carolina   \n",
       "\n",
       "       home_conference  home_points         away_team away_conference  \\\n",
       "8    American Athletic           26       Austin Peay            None   \n",
       "68              Big 12           55  Central Arkansas            None   \n",
       "261             Big 12           41          Oklahoma          Big 12   \n",
       "808             Pac-12           69      Oregon State          Pac-12   \n",
       "244                SEC           17    Louisiana Tech  Conference USA   \n",
       "\n",
       "     away_points  pregame_home_elo  pregame_away_elo  postgame_home_elo  \\\n",
       "8             14              1000               500               1000   \n",
       "68            19              1000               500               1001   \n",
       "261           49               988              1050                985   \n",
       "808           10              1001               914               1021   \n",
       "244           16              1008               984               1008   \n",
       "\n",
       "     postgame_away_elo  margin  \n",
       "8                  500      12  \n",
       "68                 499      36  \n",
       "261               1053      -8  \n",
       "808                894      59  \n",
       "244                984       1  "
      ]
     },
     "execution_count": 18,
     "metadata": {},
     "output_type": "execute_result"
    }
   ],
   "source": [
    "games_df.sample(5)"
   ]
  },
  {
   "cell_type": "code",
   "execution_count": 19,
   "id": "german-boutique",
   "metadata": {},
   "outputs": [
    {
     "data": {
      "text/html": [
       "<div>\n",
       "<style scoped>\n",
       "    .dataframe tbody tr th:only-of-type {\n",
       "        vertical-align: middle;\n",
       "    }\n",
       "\n",
       "    .dataframe tbody tr th {\n",
       "        vertical-align: top;\n",
       "    }\n",
       "\n",
       "    .dataframe thead th {\n",
       "        text-align: right;\n",
       "    }\n",
       "</style>\n",
       "<table border=\"1\" class=\"dataframe\">\n",
       "  <thead>\n",
       "    <tr style=\"text-align: right;\">\n",
       "      <th></th>\n",
       "      <th>game_id</th>\n",
       "      <th>start_date</th>\n",
       "      <th>season</th>\n",
       "      <th>home_team</th>\n",
       "      <th>home_conference</th>\n",
       "      <th>home_points</th>\n",
       "      <th>away_team</th>\n",
       "      <th>away_conference</th>\n",
       "      <th>away_points</th>\n",
       "      <th>pregame_home_elo</th>\n",
       "      <th>pregame_away_elo</th>\n",
       "      <th>postgame_home_elo</th>\n",
       "      <th>postgame_away_elo</th>\n",
       "      <th>margin</th>\n",
       "    </tr>\n",
       "  </thead>\n",
       "  <tbody>\n",
       "    <tr>\n",
       "      <th>829</th>\n",
       "      <td>400944885</td>\n",
       "      <td>2017-12-03T00:30:00.000Z</td>\n",
       "      <td>2017</td>\n",
       "      <td>Arkansas State</td>\n",
       "      <td>Sun Belt</td>\n",
       "      <td>25</td>\n",
       "      <td>Troy</td>\n",
       "      <td>Sun Belt</td>\n",
       "      <td>32</td>\n",
       "      <td>1045</td>\n",
       "      <td>1042</td>\n",
       "      <td>1041</td>\n",
       "      <td>1046</td>\n",
       "      <td>-7</td>\n",
       "    </tr>\n",
       "    <tr>\n",
       "      <th>830</th>\n",
       "      <td>400955154</td>\n",
       "      <td>2017-12-03T00:45:00.000Z</td>\n",
       "      <td>2017</td>\n",
       "      <td>Boise State</td>\n",
       "      <td>Mountain West</td>\n",
       "      <td>17</td>\n",
       "      <td>Fresno State</td>\n",
       "      <td>Mountain West</td>\n",
       "      <td>14</td>\n",
       "      <td>1050</td>\n",
       "      <td>1030</td>\n",
       "      <td>1051</td>\n",
       "      <td>1029</td>\n",
       "      <td>3</td>\n",
       "    </tr>\n",
       "    <tr>\n",
       "      <th>831</th>\n",
       "      <td>400955155</td>\n",
       "      <td>2017-12-03T01:00:00.000Z</td>\n",
       "      <td>2017</td>\n",
       "      <td>Clemson</td>\n",
       "      <td>ACC</td>\n",
       "      <td>38</td>\n",
       "      <td>Miami</td>\n",
       "      <td>ACC</td>\n",
       "      <td>3</td>\n",
       "      <td>1088</td>\n",
       "      <td>1062</td>\n",
       "      <td>1104</td>\n",
       "      <td>1046</td>\n",
       "      <td>35</td>\n",
       "    </tr>\n",
       "    <tr>\n",
       "      <th>832</th>\n",
       "      <td>400955156</td>\n",
       "      <td>2017-12-03T01:00:00.000Z</td>\n",
       "      <td>2017</td>\n",
       "      <td>Wisconsin</td>\n",
       "      <td>Big Ten</td>\n",
       "      <td>21</td>\n",
       "      <td>Ohio State</td>\n",
       "      <td>Big Ten</td>\n",
       "      <td>27</td>\n",
       "      <td>1109</td>\n",
       "      <td>1106</td>\n",
       "      <td>1106</td>\n",
       "      <td>1109</td>\n",
       "      <td>-6</td>\n",
       "    </tr>\n",
       "    <tr>\n",
       "      <th>833</th>\n",
       "      <td>400934572</td>\n",
       "      <td>2017-12-09T20:00:00.000Z</td>\n",
       "      <td>2017</td>\n",
       "      <td>Navy</td>\n",
       "      <td>American Athletic</td>\n",
       "      <td>13</td>\n",
       "      <td>Army</td>\n",
       "      <td>FBS Independents</td>\n",
       "      <td>14</td>\n",
       "      <td>1007</td>\n",
       "      <td>1018</td>\n",
       "      <td>1007</td>\n",
       "      <td>1018</td>\n",
       "      <td>-1</td>\n",
       "    </tr>\n",
       "  </tbody>\n",
       "</table>\n",
       "</div>"
      ],
      "text/plain": [
       "       game_id                start_date  season       home_team  \\\n",
       "829  400944885  2017-12-03T00:30:00.000Z    2017  Arkansas State   \n",
       "830  400955154  2017-12-03T00:45:00.000Z    2017     Boise State   \n",
       "831  400955155  2017-12-03T01:00:00.000Z    2017         Clemson   \n",
       "832  400955156  2017-12-03T01:00:00.000Z    2017       Wisconsin   \n",
       "833  400934572  2017-12-09T20:00:00.000Z    2017            Navy   \n",
       "\n",
       "       home_conference  home_points     away_team   away_conference  \\\n",
       "829           Sun Belt           25          Troy          Sun Belt   \n",
       "830      Mountain West           17  Fresno State     Mountain West   \n",
       "831                ACC           38         Miami               ACC   \n",
       "832            Big Ten           21    Ohio State           Big Ten   \n",
       "833  American Athletic           13          Army  FBS Independents   \n",
       "\n",
       "     away_points  pregame_home_elo  pregame_away_elo  postgame_home_elo  \\\n",
       "829           32              1045              1042               1041   \n",
       "830           14              1050              1030               1051   \n",
       "831            3              1088              1062               1104   \n",
       "832           27              1109              1106               1106   \n",
       "833           14              1007              1018               1007   \n",
       "\n",
       "     postgame_away_elo  margin  \n",
       "829               1046      -7  \n",
       "830               1029       3  \n",
       "831               1046      35  \n",
       "832               1109      -6  \n",
       "833               1018      -1  "
      ]
     },
     "execution_count": 19,
     "metadata": {},
     "output_type": "execute_result"
    }
   ],
   "source": [
    "games_df.tail()"
   ]
  },
  {
   "cell_type": "code",
   "execution_count": 20,
   "id": "educational-magazine",
   "metadata": {},
   "outputs": [
    {
     "data": {
      "text/plain": [
       "game_id               int64\n",
       "start_date           object\n",
       "season                int64\n",
       "home_team            object\n",
       "home_conference      object\n",
       "home_points           int64\n",
       "away_team            object\n",
       "away_conference      object\n",
       "away_points           int64\n",
       "pregame_home_elo      int64\n",
       "pregame_away_elo      int64\n",
       "postgame_home_elo     int64\n",
       "postgame_away_elo     int64\n",
       "margin                int64\n",
       "dtype: object"
      ]
     },
     "execution_count": 20,
     "metadata": {},
     "output_type": "execute_result"
    }
   ],
   "source": [
    "games_df.dtypes"
   ]
  },
  {
   "cell_type": "code",
   "execution_count": 21,
   "id": "expanded-algebra",
   "metadata": {},
   "outputs": [],
   "source": [
    "games2017 = games_df.loc[games_df['season'] == 2017]"
   ]
  },
  {
   "cell_type": "code",
   "execution_count": 22,
   "id": "conceptual-horror",
   "metadata": {},
   "outputs": [
    {
     "data": {
      "text/html": [
       "<div>\n",
       "<style scoped>\n",
       "    .dataframe tbody tr th:only-of-type {\n",
       "        vertical-align: middle;\n",
       "    }\n",
       "\n",
       "    .dataframe tbody tr th {\n",
       "        vertical-align: top;\n",
       "    }\n",
       "\n",
       "    .dataframe thead th {\n",
       "        text-align: right;\n",
       "    }\n",
       "</style>\n",
       "<table border=\"1\" class=\"dataframe\">\n",
       "  <thead>\n",
       "    <tr style=\"text-align: right;\">\n",
       "      <th></th>\n",
       "      <th>game_id</th>\n",
       "      <th>start_date</th>\n",
       "      <th>season</th>\n",
       "      <th>home_team</th>\n",
       "      <th>home_conference</th>\n",
       "      <th>home_points</th>\n",
       "      <th>away_team</th>\n",
       "      <th>away_conference</th>\n",
       "      <th>away_points</th>\n",
       "      <th>pregame_home_elo</th>\n",
       "      <th>pregame_away_elo</th>\n",
       "      <th>postgame_home_elo</th>\n",
       "      <th>postgame_away_elo</th>\n",
       "      <th>margin</th>\n",
       "    </tr>\n",
       "  </thead>\n",
       "  <tbody>\n",
       "    <tr>\n",
       "      <th>0</th>\n",
       "      <td>400935282</td>\n",
       "      <td>2017-08-26T18:30:00.000Z</td>\n",
       "      <td>2017</td>\n",
       "      <td>Colorado State</td>\n",
       "      <td>Mountain West</td>\n",
       "      <td>58</td>\n",
       "      <td>Oregon State</td>\n",
       "      <td>Pac-12</td>\n",
       "      <td>27</td>\n",
       "      <td>1000</td>\n",
       "      <td>1000</td>\n",
       "      <td>1016</td>\n",
       "      <td>984</td>\n",
       "      <td>31</td>\n",
       "    </tr>\n",
       "    <tr>\n",
       "      <th>1</th>\n",
       "      <td>400945031</td>\n",
       "      <td>2017-08-26T19:00:00.000Z</td>\n",
       "      <td>2017</td>\n",
       "      <td>BYU</td>\n",
       "      <td>FBS Independents</td>\n",
       "      <td>20</td>\n",
       "      <td>Portland State</td>\n",
       "      <td>None</td>\n",
       "      <td>6</td>\n",
       "      <td>1000</td>\n",
       "      <td>500</td>\n",
       "      <td>1000</td>\n",
       "      <td>500</td>\n",
       "      <td>14</td>\n",
       "    </tr>\n",
       "    <tr>\n",
       "      <th>2</th>\n",
       "      <td>400938887</td>\n",
       "      <td>2017-08-26T22:00:00.000Z</td>\n",
       "      <td>2017</td>\n",
       "      <td>UMass</td>\n",
       "      <td>FBS Independents</td>\n",
       "      <td>35</td>\n",
       "      <td>Hawai'i</td>\n",
       "      <td>Mountain West</td>\n",
       "      <td>38</td>\n",
       "      <td>1000</td>\n",
       "      <td>1000</td>\n",
       "      <td>998</td>\n",
       "      <td>1002</td>\n",
       "      <td>-3</td>\n",
       "    </tr>\n",
       "    <tr>\n",
       "      <th>3</th>\n",
       "      <td>400941786</td>\n",
       "      <td>2017-08-26T23:30:00.000Z</td>\n",
       "      <td>2017</td>\n",
       "      <td>San José State</td>\n",
       "      <td>Mountain West</td>\n",
       "      <td>22</td>\n",
       "      <td>South Florida</td>\n",
       "      <td>American Athletic</td>\n",
       "      <td>42</td>\n",
       "      <td>1000</td>\n",
       "      <td>1000</td>\n",
       "      <td>990</td>\n",
       "      <td>1010</td>\n",
       "      <td>-20</td>\n",
       "    </tr>\n",
       "    <tr>\n",
       "      <th>4</th>\n",
       "      <td>400935257</td>\n",
       "      <td>2017-08-27T02:00:00.000Z</td>\n",
       "      <td>2017</td>\n",
       "      <td>Rice</td>\n",
       "      <td>Conference USA</td>\n",
       "      <td>7</td>\n",
       "      <td>Stanford</td>\n",
       "      <td>Pac-12</td>\n",
       "      <td>62</td>\n",
       "      <td>1000</td>\n",
       "      <td>1000</td>\n",
       "      <td>972</td>\n",
       "      <td>1028</td>\n",
       "      <td>-55</td>\n",
       "    </tr>\n",
       "  </tbody>\n",
       "</table>\n",
       "</div>"
      ],
      "text/plain": [
       "     game_id                start_date  season       home_team  \\\n",
       "0  400935282  2017-08-26T18:30:00.000Z    2017  Colorado State   \n",
       "1  400945031  2017-08-26T19:00:00.000Z    2017             BYU   \n",
       "2  400938887  2017-08-26T22:00:00.000Z    2017           UMass   \n",
       "3  400941786  2017-08-26T23:30:00.000Z    2017  San José State   \n",
       "4  400935257  2017-08-27T02:00:00.000Z    2017            Rice   \n",
       "\n",
       "    home_conference  home_points       away_team    away_conference  \\\n",
       "0     Mountain West           58    Oregon State             Pac-12   \n",
       "1  FBS Independents           20  Portland State               None   \n",
       "2  FBS Independents           35         Hawai'i      Mountain West   \n",
       "3     Mountain West           22   South Florida  American Athletic   \n",
       "4    Conference USA            7        Stanford             Pac-12   \n",
       "\n",
       "   away_points  pregame_home_elo  pregame_away_elo  postgame_home_elo  \\\n",
       "0           27              1000              1000               1016   \n",
       "1            6              1000               500               1000   \n",
       "2           38              1000              1000                998   \n",
       "3           42              1000              1000                990   \n",
       "4           62              1000              1000                972   \n",
       "\n",
       "   postgame_away_elo  margin  \n",
       "0                984      31  \n",
       "1                500      14  \n",
       "2               1002      -3  \n",
       "3               1010     -20  \n",
       "4               1028     -55  "
      ]
     },
     "execution_count": 22,
     "metadata": {},
     "output_type": "execute_result"
    }
   ],
   "source": [
    "games2017.head()"
   ]
  },
  {
   "cell_type": "markdown",
   "id": "binding-conservative",
   "metadata": {},
   "source": [
    "**2018**"
   ]
  },
  {
   "cell_type": "code",
   "execution_count": 23,
   "id": "structural-sydney",
   "metadata": {},
   "outputs": [],
   "source": [
    "games1 = []\n",
    "\n",
    "# was 2014\n",
    "for year in range(2018, 2019):\n",
    "    response = games_api.get_games(year=year)\n",
    "    games1 = [*games1, *response]"
   ]
  },
  {
   "cell_type": "code",
   "execution_count": 24,
   "id": "small-basement",
   "metadata": {},
   "outputs": [
    {
     "data": {
      "text/plain": [
       "{'attendance': 8684,\n",
       " 'away_conference': None,\n",
       " 'away_id': 2184,\n",
       " 'away_line_scores': [3, 6, 0, 6],\n",
       " 'away_points': 15,\n",
       " 'away_post_win_prob': 0.001545757783768864,\n",
       " 'away_postgame_elo': None,\n",
       " 'away_pregame_elo': None,\n",
       " 'away_team': 'Duquesne',\n",
       " 'conference_game': False,\n",
       " 'excitement_index': 0.2139101303,\n",
       " 'highlights': 'https://www.youtube.com/watch?v=uwMMvX-tU_U',\n",
       " 'home_conference': 'FBS Independents',\n",
       " 'home_id': 113,\n",
       " 'home_line_scores': [21, 14, 21, 7],\n",
       " 'home_points': 63,\n",
       " 'home_post_win_prob': 0.9984542422162311,\n",
       " 'home_postgame_elo': None,\n",
       " 'home_pregame_elo': None,\n",
       " 'home_team': 'UMass',\n",
       " 'id': 401013357,\n",
       " 'neutral_site': False,\n",
       " 'notes': None,\n",
       " 'season': 2018,\n",
       " 'season_type': 'regular',\n",
       " 'start_date': '2018-08-25T21:30:00.000Z',\n",
       " 'start_time_tbd': None,\n",
       " 'venue': 'Warren McGuirk Alumni Stadium',\n",
       " 'venue_id': 3985,\n",
       " 'week': 1}"
      ]
     },
     "execution_count": 24,
     "metadata": {},
     "output_type": "execute_result"
    }
   ],
   "source": [
    "games1[0]"
   ]
  },
  {
   "cell_type": "code",
   "execution_count": 25,
   "id": "divided-department",
   "metadata": {},
   "outputs": [],
   "source": [
    "games1 = [dict(\n",
    "            game_id = g.id,\n",
    "            start_date = g.start_date,\n",
    "            season = g.season,\n",
    "            home_team = g.home_team,\n",
    "            home_conference = g.home_conference,\n",
    "            home_points = g.home_points,\n",
    "            away_team = g.away_team,\n",
    "            away_conference = g.away_conference,\n",
    "            away_points = g.away_points\n",
    "            ) for g in games1 if g.home_points is not None and g.away_points is not None]\n",
    "games1.sort(key=date_sort)"
   ]
  },
  {
   "cell_type": "code",
   "execution_count": 26,
   "id": "female-breath",
   "metadata": {},
   "outputs": [
    {
     "data": {
      "text/plain": [
       "{'game_id': 401013357,\n",
       " 'start_date': '2018-08-25T21:30:00.000Z',\n",
       " 'season': 2018,\n",
       " 'home_team': 'UMass',\n",
       " 'home_conference': 'FBS Independents',\n",
       " 'home_points': 63,\n",
       " 'away_team': 'Duquesne',\n",
       " 'away_conference': None,\n",
       " 'away_points': 15}"
      ]
     },
     "execution_count": 26,
     "metadata": {},
     "output_type": "execute_result"
    }
   ],
   "source": [
    "games1[0]"
   ]
  },
  {
   "cell_type": "code",
   "execution_count": 27,
   "id": "cooked-harvard",
   "metadata": {},
   "outputs": [],
   "source": [
    "# dict object to hold current Elo rating for each team\n",
    "teams1 = dict()\n",
    "\n",
    "# loop through games in order\n",
    "for game in games1:\n",
    "\n",
    "    # get current rating for home team\n",
    "    if game['home_team'] in teams1:\n",
    "        home_elo = teams1[game['home_team']]\n",
    "    # Power 5 get boost\n",
    "    elif game['home_conference'] is not None:\n",
    "        # if no rating, but FBS set to 1000\n",
    "        home_elo = 1000\n",
    "    else:\n",
    "        # otherwise, set initial rating to 500 for non-FBS teams\n",
    "        home_elo = 500\n",
    "\n",
    "    # get current rating for away team\n",
    "    if game['away_team'] in teams1:\n",
    "        away_elo = teams1[game['away_team']]\n",
    "    elif game['away_conference'] is not None:\n",
    "        # if no rating, but FBS set to 1000\n",
    "        away_elo = 1000\n",
    "    else:\n",
    "        # otherwise, set initial rating to 500 for non-FBS teams\n",
    "        away_elo = 500\n",
    "        \n",
    "        \n",
    "    # calculate score margin from game\n",
    "    margin = game['home_points'] - game['away_points']\n",
    "\n",
    "    # get new elo ratings\n",
    "    new_elos = get_new_elos(home_elo, away_elo, margin)\n",
    "\n",
    "    # set pregame elos on game dict\n",
    "    game['pregame_home_elo'] = home_elo\n",
    "    game['pregame_away_elo'] = away_elo\n",
    "\n",
    "    # set postgame elos on game dict\n",
    "    game['postgame_home_elo'] = new_elos[0]\n",
    "    game['postgame_away_elo'] = new_elos[1]\n",
    "\n",
    "    # set current elo values in teams dict\n",
    "    teams1[game['home_team']] = new_elos[0]\n",
    "    teams1[game['away_team']] = new_elos[1]"
   ]
  },
  {
   "cell_type": "code",
   "execution_count": 28,
   "id": "stuck-single",
   "metadata": {},
   "outputs": [],
   "source": [
    "end_elos1 = [dict(team=key, elo=teams1[key]) for key in teams1]\n",
    "end_elos1.sort(key=elo_sort, reverse=True)"
   ]
  },
  {
   "cell_type": "code",
   "execution_count": 29,
   "id": "female-proposition",
   "metadata": {},
   "outputs": [],
   "source": [
    "end_elos_df1 = pd.DataFrame(end_elos1).set_index('elo')"
   ]
  },
  {
   "cell_type": "code",
   "execution_count": 30,
   "id": "reverse-major",
   "metadata": {},
   "outputs": [
    {
     "data": {
      "text/html": [
       "<div>\n",
       "<style scoped>\n",
       "    .dataframe tbody tr th:only-of-type {\n",
       "        vertical-align: middle;\n",
       "    }\n",
       "\n",
       "    .dataframe tbody tr th {\n",
       "        vertical-align: top;\n",
       "    }\n",
       "\n",
       "    .dataframe thead th {\n",
       "        text-align: right;\n",
       "    }\n",
       "</style>\n",
       "<table border=\"1\" class=\"dataframe\">\n",
       "  <thead>\n",
       "    <tr style=\"text-align: right;\">\n",
       "      <th></th>\n",
       "      <th>team</th>\n",
       "    </tr>\n",
       "    <tr>\n",
       "      <th>elo</th>\n",
       "      <th></th>\n",
       "    </tr>\n",
       "  </thead>\n",
       "  <tbody>\n",
       "    <tr>\n",
       "      <th>1150</th>\n",
       "      <td>Alabama</td>\n",
       "    </tr>\n",
       "    <tr>\n",
       "      <th>1136</th>\n",
       "      <td>Clemson</td>\n",
       "    </tr>\n",
       "    <tr>\n",
       "      <th>1097</th>\n",
       "      <td>UCF</td>\n",
       "    </tr>\n",
       "    <tr>\n",
       "      <th>1097</th>\n",
       "      <td>Ohio State</td>\n",
       "    </tr>\n",
       "    <tr>\n",
       "      <th>1094</th>\n",
       "      <td>Oklahoma</td>\n",
       "    </tr>\n",
       "    <tr>\n",
       "      <th>1091</th>\n",
       "      <td>Georgia</td>\n",
       "    </tr>\n",
       "    <tr>\n",
       "      <th>1091</th>\n",
       "      <td>Michigan</td>\n",
       "    </tr>\n",
       "    <tr>\n",
       "      <th>1086</th>\n",
       "      <td>Notre Dame</td>\n",
       "    </tr>\n",
       "    <tr>\n",
       "      <th>1084</th>\n",
       "      <td>Utah State</td>\n",
       "    </tr>\n",
       "    <tr>\n",
       "      <th>1081</th>\n",
       "      <td>Fresno State</td>\n",
       "    </tr>\n",
       "    <tr>\n",
       "      <th>1075</th>\n",
       "      <td>Penn State</td>\n",
       "    </tr>\n",
       "    <tr>\n",
       "      <th>1072</th>\n",
       "      <td>Appalachian State</td>\n",
       "    </tr>\n",
       "    <tr>\n",
       "      <th>1071</th>\n",
       "      <td>Boise State</td>\n",
       "    </tr>\n",
       "    <tr>\n",
       "      <th>1067</th>\n",
       "      <td>Ohio</td>\n",
       "    </tr>\n",
       "    <tr>\n",
       "      <th>1064</th>\n",
       "      <td>Washington State</td>\n",
       "    </tr>\n",
       "    <tr>\n",
       "      <th>1064</th>\n",
       "      <td>Mississippi State</td>\n",
       "    </tr>\n",
       "    <tr>\n",
       "      <th>1063</th>\n",
       "      <td>Cincinnati</td>\n",
       "    </tr>\n",
       "    <tr>\n",
       "      <th>1062</th>\n",
       "      <td>Iowa</td>\n",
       "    </tr>\n",
       "    <tr>\n",
       "      <th>1061</th>\n",
       "      <td>West Virginia</td>\n",
       "    </tr>\n",
       "    <tr>\n",
       "      <th>1058</th>\n",
       "      <td>North Texas</td>\n",
       "    </tr>\n",
       "    <tr>\n",
       "      <th>1054</th>\n",
       "      <td>NC State</td>\n",
       "    </tr>\n",
       "    <tr>\n",
       "      <th>1053</th>\n",
       "      <td>Missouri</td>\n",
       "    </tr>\n",
       "    <tr>\n",
       "      <th>1051</th>\n",
       "      <td>Temple</td>\n",
       "    </tr>\n",
       "    <tr>\n",
       "      <th>1050</th>\n",
       "      <td>Washington</td>\n",
       "    </tr>\n",
       "    <tr>\n",
       "      <th>1048</th>\n",
       "      <td>Army</td>\n",
       "    </tr>\n",
       "  </tbody>\n",
       "</table>\n",
       "</div>"
      ],
      "text/plain": [
       "                   team\n",
       "elo                    \n",
       "1150            Alabama\n",
       "1136            Clemson\n",
       "1097                UCF\n",
       "1097         Ohio State\n",
       "1094           Oklahoma\n",
       "1091            Georgia\n",
       "1091           Michigan\n",
       "1086         Notre Dame\n",
       "1084         Utah State\n",
       "1081       Fresno State\n",
       "1075         Penn State\n",
       "1072  Appalachian State\n",
       "1071        Boise State\n",
       "1067               Ohio\n",
       "1064   Washington State\n",
       "1064  Mississippi State\n",
       "1063         Cincinnati\n",
       "1062               Iowa\n",
       "1061      West Virginia\n",
       "1058        North Texas\n",
       "1054           NC State\n",
       "1053           Missouri\n",
       "1051             Temple\n",
       "1050         Washington\n",
       "1048               Army"
      ]
     },
     "execution_count": 30,
     "metadata": {},
     "output_type": "execute_result"
    }
   ],
   "source": [
    "end_elos_df1.head(25)"
   ]
  },
  {
   "cell_type": "code",
   "execution_count": 31,
   "id": "excited-memorial",
   "metadata": {},
   "outputs": [],
   "source": [
    "games1_df = pd.DataFrame(games1)"
   ]
  },
  {
   "cell_type": "code",
   "execution_count": 32,
   "id": "operational-blast",
   "metadata": {},
   "outputs": [],
   "source": [
    "games1_df['margin'] = games1_df['home_points'] - games1_df['away_points']"
   ]
  },
  {
   "cell_type": "code",
   "execution_count": 33,
   "id": "timely-equilibrium",
   "metadata": {},
   "outputs": [],
   "source": [
    "games2018 = games1_df.loc[games1_df['season'] == 2018]"
   ]
  },
  {
   "cell_type": "code",
   "execution_count": 34,
   "id": "printable-sending",
   "metadata": {},
   "outputs": [
    {
     "data": {
      "text/html": [
       "<div>\n",
       "<style scoped>\n",
       "    .dataframe tbody tr th:only-of-type {\n",
       "        vertical-align: middle;\n",
       "    }\n",
       "\n",
       "    .dataframe tbody tr th {\n",
       "        vertical-align: top;\n",
       "    }\n",
       "\n",
       "    .dataframe thead th {\n",
       "        text-align: right;\n",
       "    }\n",
       "</style>\n",
       "<table border=\"1\" class=\"dataframe\">\n",
       "  <thead>\n",
       "    <tr style=\"text-align: right;\">\n",
       "      <th></th>\n",
       "      <th>game_id</th>\n",
       "      <th>start_date</th>\n",
       "      <th>season</th>\n",
       "      <th>home_team</th>\n",
       "      <th>home_conference</th>\n",
       "      <th>home_points</th>\n",
       "      <th>away_team</th>\n",
       "      <th>away_conference</th>\n",
       "      <th>away_points</th>\n",
       "      <th>pregame_home_elo</th>\n",
       "      <th>pregame_away_elo</th>\n",
       "      <th>postgame_home_elo</th>\n",
       "      <th>postgame_away_elo</th>\n",
       "      <th>margin</th>\n",
       "    </tr>\n",
       "  </thead>\n",
       "  <tbody>\n",
       "    <tr>\n",
       "      <th>0</th>\n",
       "      <td>401013357</td>\n",
       "      <td>2018-08-25T21:30:00.000Z</td>\n",
       "      <td>2018</td>\n",
       "      <td>UMass</td>\n",
       "      <td>FBS Independents</td>\n",
       "      <td>63</td>\n",
       "      <td>Duquesne</td>\n",
       "      <td>None</td>\n",
       "      <td>15</td>\n",
       "      <td>1000</td>\n",
       "      <td>500</td>\n",
       "      <td>1001</td>\n",
       "      <td>499</td>\n",
       "      <td>48</td>\n",
       "    </tr>\n",
       "    <tr>\n",
       "      <th>1</th>\n",
       "      <td>401014972</td>\n",
       "      <td>2018-08-25T23:00:00.000Z</td>\n",
       "      <td>2018</td>\n",
       "      <td>Rice</td>\n",
       "      <td>Conference USA</td>\n",
       "      <td>31</td>\n",
       "      <td>Prairie View</td>\n",
       "      <td>None</td>\n",
       "      <td>28</td>\n",
       "      <td>1000</td>\n",
       "      <td>500</td>\n",
       "      <td>1000</td>\n",
       "      <td>500</td>\n",
       "      <td>3</td>\n",
       "    </tr>\n",
       "    <tr>\n",
       "      <th>2</th>\n",
       "      <td>401022510</td>\n",
       "      <td>2018-08-25T23:30:00.000Z</td>\n",
       "      <td>2018</td>\n",
       "      <td>Colorado State</td>\n",
       "      <td>Mountain West</td>\n",
       "      <td>34</td>\n",
       "      <td>Hawai'i</td>\n",
       "      <td>Mountain West</td>\n",
       "      <td>43</td>\n",
       "      <td>1000</td>\n",
       "      <td>1000</td>\n",
       "      <td>996</td>\n",
       "      <td>1004</td>\n",
       "      <td>-9</td>\n",
       "    </tr>\n",
       "    <tr>\n",
       "      <th>3</th>\n",
       "      <td>401013437</td>\n",
       "      <td>2018-08-26T02:00:00.000Z</td>\n",
       "      <td>2018</td>\n",
       "      <td>New Mexico State</td>\n",
       "      <td>FBS Independents</td>\n",
       "      <td>7</td>\n",
       "      <td>Wyoming</td>\n",
       "      <td>Mountain West</td>\n",
       "      <td>29</td>\n",
       "      <td>1000</td>\n",
       "      <td>1000</td>\n",
       "      <td>989</td>\n",
       "      <td>1011</td>\n",
       "      <td>-22</td>\n",
       "    </tr>\n",
       "    <tr>\n",
       "      <th>4</th>\n",
       "      <td>401019470</td>\n",
       "      <td>2018-08-30T23:00:00.000Z</td>\n",
       "      <td>2018</td>\n",
       "      <td>Connecticut</td>\n",
       "      <td>American Athletic</td>\n",
       "      <td>17</td>\n",
       "      <td>UCF</td>\n",
       "      <td>American Athletic</td>\n",
       "      <td>56</td>\n",
       "      <td>1000</td>\n",
       "      <td>1000</td>\n",
       "      <td>980</td>\n",
       "      <td>1020</td>\n",
       "      <td>-39</td>\n",
       "    </tr>\n",
       "  </tbody>\n",
       "</table>\n",
       "</div>"
      ],
      "text/plain": [
       "     game_id                start_date  season         home_team  \\\n",
       "0  401013357  2018-08-25T21:30:00.000Z    2018             UMass   \n",
       "1  401014972  2018-08-25T23:00:00.000Z    2018              Rice   \n",
       "2  401022510  2018-08-25T23:30:00.000Z    2018    Colorado State   \n",
       "3  401013437  2018-08-26T02:00:00.000Z    2018  New Mexico State   \n",
       "4  401019470  2018-08-30T23:00:00.000Z    2018       Connecticut   \n",
       "\n",
       "     home_conference  home_points     away_team    away_conference  \\\n",
       "0   FBS Independents           63      Duquesne               None   \n",
       "1     Conference USA           31  Prairie View               None   \n",
       "2      Mountain West           34       Hawai'i      Mountain West   \n",
       "3   FBS Independents            7       Wyoming      Mountain West   \n",
       "4  American Athletic           17           UCF  American Athletic   \n",
       "\n",
       "   away_points  pregame_home_elo  pregame_away_elo  postgame_home_elo  \\\n",
       "0           15              1000               500               1001   \n",
       "1           28              1000               500               1000   \n",
       "2           43              1000              1000                996   \n",
       "3           29              1000              1000                989   \n",
       "4           56              1000              1000                980   \n",
       "\n",
       "   postgame_away_elo  margin  \n",
       "0                499      48  \n",
       "1                500       3  \n",
       "2               1004      -9  \n",
       "3               1011     -22  \n",
       "4               1020     -39  "
      ]
     },
     "execution_count": 34,
     "metadata": {},
     "output_type": "execute_result"
    }
   ],
   "source": [
    "games2018.head()"
   ]
  },
  {
   "cell_type": "markdown",
   "id": "fiscal-definition",
   "metadata": {},
   "source": [
    "**2019**"
   ]
  },
  {
   "cell_type": "code",
   "execution_count": 35,
   "id": "tough-uniform",
   "metadata": {},
   "outputs": [],
   "source": [
    "games2 = []\n",
    "\n",
    "# was 2015\n",
    "for year in range(2019, 2020):\n",
    "    response = games_api.get_games(year=year)\n",
    "    games2 = [*games2, *response]"
   ]
  },
  {
   "cell_type": "code",
   "execution_count": 36,
   "id": "common-zambia",
   "metadata": {},
   "outputs": [
    {
     "data": {
      "text/plain": [
       "{'attendance': 66543,\n",
       " 'away_conference': 'ACC',\n",
       " 'away_id': 2390,\n",
       " 'away_line_scores': [3, 10, 0, 7],\n",
       " 'away_points': 20,\n",
       " 'away_post_win_prob': 0.09404654178677352,\n",
       " 'away_postgame_elo': 1606,\n",
       " 'away_pregame_elo': 1611,\n",
       " 'away_team': 'Miami',\n",
       " 'conference_game': False,\n",
       " 'excitement_index': 8.7679102419,\n",
       " 'highlights': 'https://www.youtube.com/watch?v=WeJi4p0jqXA',\n",
       " 'home_conference': 'SEC',\n",
       " 'home_id': 57,\n",
       " 'home_line_scores': [7, 0, 10, 7],\n",
       " 'home_points': 24,\n",
       " 'home_post_win_prob': 0.9059534582132265,\n",
       " 'home_postgame_elo': 1688,\n",
       " 'home_pregame_elo': 1683,\n",
       " 'home_team': 'Florida',\n",
       " 'id': 401110723,\n",
       " 'neutral_site': True,\n",
       " 'notes': 'CAMPING WORLD KICKOFF',\n",
       " 'season': 2019,\n",
       " 'season_type': 'regular',\n",
       " 'start_date': '2019-08-24T23:00:00.000Z',\n",
       " 'start_time_tbd': None,\n",
       " 'venue': 'Camping World Stadium',\n",
       " 'venue_id': 4013,\n",
       " 'week': 1}"
      ]
     },
     "execution_count": 36,
     "metadata": {},
     "output_type": "execute_result"
    }
   ],
   "source": [
    "games2[0]"
   ]
  },
  {
   "cell_type": "code",
   "execution_count": 37,
   "id": "arabic-coach",
   "metadata": {},
   "outputs": [],
   "source": [
    "games2 = [dict(\n",
    "            game_id = g.id,\n",
    "            start_date = g.start_date,\n",
    "            season = g.season,\n",
    "            home_team = g.home_team,\n",
    "            home_conference = g.home_conference,\n",
    "            home_points = g.home_points,\n",
    "            away_team = g.away_team,\n",
    "            away_conference = g.away_conference,\n",
    "            away_points = g.away_points\n",
    "            ) for g in games2 if g.home_points is not None and g.away_points is not None]\n",
    "games2.sort(key=date_sort)"
   ]
  },
  {
   "cell_type": "code",
   "execution_count": 38,
   "id": "scheduled-graph",
   "metadata": {},
   "outputs": [],
   "source": [
    "# dict object to hold current Elo rating for each team\n",
    "teams2 = dict()\n",
    "\n",
    "# loop through games in order\n",
    "for game in games2:\n",
    "\n",
    "    \n",
    "    # get current rating for home team\n",
    "    if game['home_team'] in teams2:\n",
    "        home_elo = teams2[game['home_team']]\n",
    "    # Power 5 get boost\n",
    "    elif game['home_conference'] is not None:\n",
    "        # if no rating, but FBS set to 1000\n",
    "        home_elo = 1000\n",
    "    else:\n",
    "        # otherwise, set initial rating to 500 for non-FBS teams\n",
    "        home_elo = 500\n",
    "\n",
    "    # get current rating for away team\n",
    "    if game['away_team'] in teams2:\n",
    "        away_elo = teams2[game['away_team']]\n",
    "    elif game['away_conference'] is not None:\n",
    "        # if no rating, but FBS set to 1000\n",
    "        away_elo = 1000\n",
    "    else:\n",
    "        # otherwise, set initial rating to 500 for non-FBS teams\n",
    "        away_elo = 500\n",
    "\n",
    "    # calculate score margin from game\n",
    "    margin = game['home_points'] - game['away_points']\n",
    "\n",
    "    # get new elo ratings\n",
    "    new_elos = get_new_elos(home_elo, away_elo, margin)\n",
    "\n",
    "    # set pregame elos on game dict\n",
    "    game['pregame_home_elo'] = home_elo\n",
    "    game['pregame_away_elo'] = away_elo\n",
    "\n",
    "    # set postgame elos on game dict\n",
    "    game['postgame_home_elo'] = new_elos[0]\n",
    "    game['postgame_away_elo'] = new_elos[1]\n",
    "\n",
    "    # set current elo values in teams dict\n",
    "    teams2[game['home_team']] = new_elos[0]\n",
    "    teams2[game['away_team']] = new_elos[1]"
   ]
  },
  {
   "cell_type": "code",
   "execution_count": 39,
   "id": "diagnostic-setting",
   "metadata": {},
   "outputs": [],
   "source": [
    "end_elos2 = [dict(team=key, elo=teams2[key]) for key in teams2]\n",
    "end_elos2.sort(key=elo_sort, reverse=True)"
   ]
  },
  {
   "cell_type": "code",
   "execution_count": 40,
   "id": "happy-canada",
   "metadata": {},
   "outputs": [],
   "source": [
    "end_elos_df2 = pd.DataFrame(end_elos2).set_index('elo')"
   ]
  },
  {
   "cell_type": "code",
   "execution_count": 41,
   "id": "union-average",
   "metadata": {},
   "outputs": [
    {
     "data": {
      "text/html": [
       "<div>\n",
       "<style scoped>\n",
       "    .dataframe tbody tr th:only-of-type {\n",
       "        vertical-align: middle;\n",
       "    }\n",
       "\n",
       "    .dataframe tbody tr th {\n",
       "        vertical-align: top;\n",
       "    }\n",
       "\n",
       "    .dataframe thead th {\n",
       "        text-align: right;\n",
       "    }\n",
       "</style>\n",
       "<table border=\"1\" class=\"dataframe\">\n",
       "  <thead>\n",
       "    <tr style=\"text-align: right;\">\n",
       "      <th></th>\n",
       "      <th>team</th>\n",
       "    </tr>\n",
       "    <tr>\n",
       "      <th>elo</th>\n",
       "      <th></th>\n",
       "    </tr>\n",
       "  </thead>\n",
       "  <tbody>\n",
       "    <tr>\n",
       "      <th>1169</th>\n",
       "      <td>Ohio State</td>\n",
       "    </tr>\n",
       "    <tr>\n",
       "      <th>1154</th>\n",
       "      <td>Clemson</td>\n",
       "    </tr>\n",
       "    <tr>\n",
       "      <th>1123</th>\n",
       "      <td>LSU</td>\n",
       "    </tr>\n",
       "    <tr>\n",
       "      <th>1109</th>\n",
       "      <td>Alabama</td>\n",
       "    </tr>\n",
       "    <tr>\n",
       "      <th>1102</th>\n",
       "      <td>Oregon</td>\n",
       "    </tr>\n",
       "    <tr>\n",
       "      <th>1098</th>\n",
       "      <td>Wisconsin</td>\n",
       "    </tr>\n",
       "    <tr>\n",
       "      <th>1092</th>\n",
       "      <td>Utah</td>\n",
       "    </tr>\n",
       "    <tr>\n",
       "      <th>1086</th>\n",
       "      <td>Notre Dame</td>\n",
       "    </tr>\n",
       "    <tr>\n",
       "      <th>1084</th>\n",
       "      <td>Appalachian State</td>\n",
       "    </tr>\n",
       "    <tr>\n",
       "      <th>1080</th>\n",
       "      <td>Oklahoma</td>\n",
       "    </tr>\n",
       "    <tr>\n",
       "      <th>1079</th>\n",
       "      <td>Georgia</td>\n",
       "    </tr>\n",
       "    <tr>\n",
       "      <th>1078</th>\n",
       "      <td>Memphis</td>\n",
       "    </tr>\n",
       "    <tr>\n",
       "      <th>1076</th>\n",
       "      <td>Penn State</td>\n",
       "    </tr>\n",
       "    <tr>\n",
       "      <th>1076</th>\n",
       "      <td>Michigan</td>\n",
       "    </tr>\n",
       "    <tr>\n",
       "      <th>1072</th>\n",
       "      <td>UCF</td>\n",
       "    </tr>\n",
       "    <tr>\n",
       "      <th>1072</th>\n",
       "      <td>Louisiana</td>\n",
       "    </tr>\n",
       "    <tr>\n",
       "      <th>1071</th>\n",
       "      <td>Boise State</td>\n",
       "    </tr>\n",
       "    <tr>\n",
       "      <th>1071</th>\n",
       "      <td>Baylor</td>\n",
       "    </tr>\n",
       "    <tr>\n",
       "      <th>1062</th>\n",
       "      <td>Auburn</td>\n",
       "    </tr>\n",
       "    <tr>\n",
       "      <th>1061</th>\n",
       "      <td>Florida</td>\n",
       "    </tr>\n",
       "    <tr>\n",
       "      <th>1060</th>\n",
       "      <td>Florida Atlantic</td>\n",
       "    </tr>\n",
       "    <tr>\n",
       "      <th>1060</th>\n",
       "      <td>Navy</td>\n",
       "    </tr>\n",
       "    <tr>\n",
       "      <th>1059</th>\n",
       "      <td>Air Force</td>\n",
       "    </tr>\n",
       "    <tr>\n",
       "      <th>1056</th>\n",
       "      <td>SMU</td>\n",
       "    </tr>\n",
       "    <tr>\n",
       "      <th>1055</th>\n",
       "      <td>Minnesota</td>\n",
       "    </tr>\n",
       "  </tbody>\n",
       "</table>\n",
       "</div>"
      ],
      "text/plain": [
       "                   team\n",
       "elo                    \n",
       "1169         Ohio State\n",
       "1154            Clemson\n",
       "1123                LSU\n",
       "1109            Alabama\n",
       "1102             Oregon\n",
       "1098          Wisconsin\n",
       "1092               Utah\n",
       "1086         Notre Dame\n",
       "1084  Appalachian State\n",
       "1080           Oklahoma\n",
       "1079            Georgia\n",
       "1078            Memphis\n",
       "1076         Penn State\n",
       "1076           Michigan\n",
       "1072                UCF\n",
       "1072          Louisiana\n",
       "1071        Boise State\n",
       "1071             Baylor\n",
       "1062             Auburn\n",
       "1061            Florida\n",
       "1060   Florida Atlantic\n",
       "1060               Navy\n",
       "1059          Air Force\n",
       "1056                SMU\n",
       "1055          Minnesota"
      ]
     },
     "execution_count": 41,
     "metadata": {},
     "output_type": "execute_result"
    }
   ],
   "source": [
    "end_elos_df2.head(25)"
   ]
  },
  {
   "cell_type": "code",
   "execution_count": 42,
   "id": "dynamic-attack",
   "metadata": {},
   "outputs": [],
   "source": [
    "games2_df = pd.DataFrame(games2)"
   ]
  },
  {
   "cell_type": "code",
   "execution_count": 43,
   "id": "smart-thumb",
   "metadata": {},
   "outputs": [],
   "source": [
    "games2_df['margin'] = games2_df['home_points'] - games2_df['away_points']"
   ]
  },
  {
   "cell_type": "code",
   "execution_count": 44,
   "id": "decent-pointer",
   "metadata": {},
   "outputs": [],
   "source": [
    "games2019 = games2_df.loc[games2_df['season'] == 2019]"
   ]
  },
  {
   "cell_type": "code",
   "execution_count": 45,
   "id": "increasing-ghana",
   "metadata": {},
   "outputs": [
    {
     "data": {
      "text/html": [
       "<div>\n",
       "<style scoped>\n",
       "    .dataframe tbody tr th:only-of-type {\n",
       "        vertical-align: middle;\n",
       "    }\n",
       "\n",
       "    .dataframe tbody tr th {\n",
       "        vertical-align: top;\n",
       "    }\n",
       "\n",
       "    .dataframe thead th {\n",
       "        text-align: right;\n",
       "    }\n",
       "</style>\n",
       "<table border=\"1\" class=\"dataframe\">\n",
       "  <thead>\n",
       "    <tr style=\"text-align: right;\">\n",
       "      <th></th>\n",
       "      <th>game_id</th>\n",
       "      <th>start_date</th>\n",
       "      <th>season</th>\n",
       "      <th>home_team</th>\n",
       "      <th>home_conference</th>\n",
       "      <th>home_points</th>\n",
       "      <th>away_team</th>\n",
       "      <th>away_conference</th>\n",
       "      <th>away_points</th>\n",
       "      <th>pregame_home_elo</th>\n",
       "      <th>pregame_away_elo</th>\n",
       "      <th>postgame_home_elo</th>\n",
       "      <th>postgame_away_elo</th>\n",
       "      <th>margin</th>\n",
       "    </tr>\n",
       "  </thead>\n",
       "  <tbody>\n",
       "    <tr>\n",
       "      <th>0</th>\n",
       "      <td>401110723</td>\n",
       "      <td>2019-08-24T23:00:00.000Z</td>\n",
       "      <td>2019</td>\n",
       "      <td>Florida</td>\n",
       "      <td>SEC</td>\n",
       "      <td>24</td>\n",
       "      <td>Miami</td>\n",
       "      <td>ACC</td>\n",
       "      <td>20</td>\n",
       "      <td>1000</td>\n",
       "      <td>1000</td>\n",
       "      <td>1002</td>\n",
       "      <td>998</td>\n",
       "      <td>4</td>\n",
       "    </tr>\n",
       "    <tr>\n",
       "      <th>1</th>\n",
       "      <td>401114164</td>\n",
       "      <td>2019-08-25T02:30:00.000Z</td>\n",
       "      <td>2019</td>\n",
       "      <td>Hawai'i</td>\n",
       "      <td>Mountain West</td>\n",
       "      <td>45</td>\n",
       "      <td>Arizona</td>\n",
       "      <td>Pac-12</td>\n",
       "      <td>38</td>\n",
       "      <td>1000</td>\n",
       "      <td>1000</td>\n",
       "      <td>1004</td>\n",
       "      <td>996</td>\n",
       "      <td>7</td>\n",
       "    </tr>\n",
       "    <tr>\n",
       "      <th>2</th>\n",
       "      <td>401119254</td>\n",
       "      <td>2019-08-29T23:00:00.000Z</td>\n",
       "      <td>2019</td>\n",
       "      <td>Bowling Green</td>\n",
       "      <td>Mid-American</td>\n",
       "      <td>46</td>\n",
       "      <td>Morgan State</td>\n",
       "      <td>None</td>\n",
       "      <td>3</td>\n",
       "      <td>1000</td>\n",
       "      <td>500</td>\n",
       "      <td>1001</td>\n",
       "      <td>499</td>\n",
       "      <td>43</td>\n",
       "    </tr>\n",
       "    <tr>\n",
       "      <th>3</th>\n",
       "      <td>401117855</td>\n",
       "      <td>2019-08-29T23:00:00.000Z</td>\n",
       "      <td>2019</td>\n",
       "      <td>Connecticut</td>\n",
       "      <td>American Athletic</td>\n",
       "      <td>24</td>\n",
       "      <td>Wagner</td>\n",
       "      <td>None</td>\n",
       "      <td>21</td>\n",
       "      <td>1000</td>\n",
       "      <td>500</td>\n",
       "      <td>1000</td>\n",
       "      <td>500</td>\n",
       "      <td>3</td>\n",
       "    </tr>\n",
       "    <tr>\n",
       "      <th>4</th>\n",
       "      <td>401119255</td>\n",
       "      <td>2019-08-29T23:00:00.000Z</td>\n",
       "      <td>2019</td>\n",
       "      <td>Buffalo</td>\n",
       "      <td>Mid-American</td>\n",
       "      <td>38</td>\n",
       "      <td>Robert Morris</td>\n",
       "      <td>None</td>\n",
       "      <td>10</td>\n",
       "      <td>1000</td>\n",
       "      <td>500</td>\n",
       "      <td>1001</td>\n",
       "      <td>499</td>\n",
       "      <td>28</td>\n",
       "    </tr>\n",
       "  </tbody>\n",
       "</table>\n",
       "</div>"
      ],
      "text/plain": [
       "     game_id                start_date  season      home_team  \\\n",
       "0  401110723  2019-08-24T23:00:00.000Z    2019        Florida   \n",
       "1  401114164  2019-08-25T02:30:00.000Z    2019        Hawai'i   \n",
       "2  401119254  2019-08-29T23:00:00.000Z    2019  Bowling Green   \n",
       "3  401117855  2019-08-29T23:00:00.000Z    2019    Connecticut   \n",
       "4  401119255  2019-08-29T23:00:00.000Z    2019        Buffalo   \n",
       "\n",
       "     home_conference  home_points      away_team away_conference  away_points  \\\n",
       "0                SEC           24          Miami             ACC           20   \n",
       "1      Mountain West           45        Arizona          Pac-12           38   \n",
       "2       Mid-American           46   Morgan State            None            3   \n",
       "3  American Athletic           24         Wagner            None           21   \n",
       "4       Mid-American           38  Robert Morris            None           10   \n",
       "\n",
       "   pregame_home_elo  pregame_away_elo  postgame_home_elo  postgame_away_elo  \\\n",
       "0              1000              1000               1002                998   \n",
       "1              1000              1000               1004                996   \n",
       "2              1000               500               1001                499   \n",
       "3              1000               500               1000                500   \n",
       "4              1000               500               1001                499   \n",
       "\n",
       "   margin  \n",
       "0       4  \n",
       "1       7  \n",
       "2      43  \n",
       "3       3  \n",
       "4      28  "
      ]
     },
     "execution_count": 45,
     "metadata": {},
     "output_type": "execute_result"
    }
   ],
   "source": [
    "games2019.head()"
   ]
  },
  {
   "cell_type": "markdown",
   "id": "fallen-flower",
   "metadata": {},
   "source": [
    "**2020**"
   ]
  },
  {
   "cell_type": "code",
   "execution_count": 46,
   "id": "functioning-stadium",
   "metadata": {},
   "outputs": [],
   "source": [
    "games3 = []\n",
    "\n",
    "#was 2016\n",
    "for year in range(2020, 2021):\n",
    "    response = games_api.get_games(year=year)\n",
    "    games3 = [*games3, *response]"
   ]
  },
  {
   "cell_type": "code",
   "execution_count": 47,
   "id": "spread-shelter",
   "metadata": {},
   "outputs": [],
   "source": [
    "games3 = [dict(\n",
    "            game_id = g.id,\n",
    "            start_date = g.start_date,\n",
    "            season = g.season,\n",
    "            home_team = g.home_team,\n",
    "            home_conference = g.home_conference,\n",
    "            home_points = g.home_points,\n",
    "            away_team = g.away_team,\n",
    "            away_conference = g.away_conference,\n",
    "            away_points = g.away_points\n",
    "            ) for g in games3 if g.home_points is not None and g.away_points is not None]\n",
    "games3.sort(key=date_sort)"
   ]
  },
  {
   "cell_type": "code",
   "execution_count": 48,
   "id": "pointed-literacy",
   "metadata": {},
   "outputs": [],
   "source": [
    "# dict object to hold current Elo rating for each team\n",
    "teams3 = dict()\n",
    "\n",
    "# loop through games in order\n",
    "for game in games3:\n",
    "\n",
    "    # get current rating for home team\n",
    "    if game['home_team'] in teams3:\n",
    "        home_elo = teams3[game['home_team']]\n",
    "    # Power 5 get boost\n",
    "    elif game['home_conference'] is not None:\n",
    "        # if no rating, but FBS set to 1000\n",
    "        home_elo = 1000\n",
    "    else:\n",
    "        # otherwise, set initial rating to 500 for non-FBS teams\n",
    "        home_elo = 500\n",
    "\n",
    "    # get current rating for away team\n",
    "    if game['away_team'] in teams3:\n",
    "        away_elo = teams3[game['away_team']]\n",
    "    elif game['away_conference'] is not None:\n",
    "        # if no rating, but FBS set to 1000\n",
    "        away_elo = 1000\n",
    "    else:\n",
    "        # otherwise, set initial rating to 500 for non-FBS teams\n",
    "        away_elo = 500\n",
    "\n",
    "    # calculate score margin from game\n",
    "    margin = game['home_points'] - game['away_points']\n",
    "\n",
    "    # get new elo ratings\n",
    "    new_elos = get_new_elos(home_elo, away_elo, margin)\n",
    "\n",
    "    # set pregame elos on game dict\n",
    "    game['pregame_home_elo'] = home_elo\n",
    "    game['pregame_away_elo'] = away_elo\n",
    "\n",
    "    # set postgame elos on game dict\n",
    "    game['postgame_home_elo'] = new_elos[0]\n",
    "    game['postgame_away_elo'] = new_elos[1]\n",
    "\n",
    "    # set current elo values in teams dict\n",
    "    teams3[game['home_team']] = new_elos[0]\n",
    "    teams3[game['away_team']] = new_elos[1]"
   ]
  },
  {
   "cell_type": "code",
   "execution_count": 49,
   "id": "comfortable-division",
   "metadata": {},
   "outputs": [],
   "source": [
    "end_elos3 = [dict(team=key, elo=teams3[key]) for key in teams3]\n",
    "end_elos3.sort(key=elo_sort, reverse=True)"
   ]
  },
  {
   "cell_type": "code",
   "execution_count": 50,
   "id": "golden-standing",
   "metadata": {},
   "outputs": [],
   "source": [
    "end_elos_df3 = pd.DataFrame(end_elos3).set_index('elo')"
   ]
  },
  {
   "cell_type": "code",
   "execution_count": 51,
   "id": "static-mobile",
   "metadata": {},
   "outputs": [
    {
     "data": {
      "text/html": [
       "<div>\n",
       "<style scoped>\n",
       "    .dataframe tbody tr th:only-of-type {\n",
       "        vertical-align: middle;\n",
       "    }\n",
       "\n",
       "    .dataframe tbody tr th {\n",
       "        vertical-align: top;\n",
       "    }\n",
       "\n",
       "    .dataframe thead th {\n",
       "        text-align: right;\n",
       "    }\n",
       "</style>\n",
       "<table border=\"1\" class=\"dataframe\">\n",
       "  <thead>\n",
       "    <tr style=\"text-align: right;\">\n",
       "      <th></th>\n",
       "      <th>team</th>\n",
       "    </tr>\n",
       "    <tr>\n",
       "      <th>elo</th>\n",
       "      <th></th>\n",
       "    </tr>\n",
       "  </thead>\n",
       "  <tbody>\n",
       "    <tr>\n",
       "      <th>1129</th>\n",
       "      <td>Alabama</td>\n",
       "    </tr>\n",
       "    <tr>\n",
       "      <th>1107</th>\n",
       "      <td>Clemson</td>\n",
       "    </tr>\n",
       "    <tr>\n",
       "      <th>1106</th>\n",
       "      <td>BYU</td>\n",
       "    </tr>\n",
       "    <tr>\n",
       "      <th>1080</th>\n",
       "      <td>Coastal Carolina</td>\n",
       "    </tr>\n",
       "    <tr>\n",
       "      <th>1077</th>\n",
       "      <td>Cincinnati</td>\n",
       "    </tr>\n",
       "    <tr>\n",
       "      <th>1073</th>\n",
       "      <td>Notre Dame</td>\n",
       "    </tr>\n",
       "    <tr>\n",
       "      <th>1063</th>\n",
       "      <td>Oklahoma</td>\n",
       "    </tr>\n",
       "    <tr>\n",
       "      <th>1060</th>\n",
       "      <td>Florida</td>\n",
       "    </tr>\n",
       "    <tr>\n",
       "      <th>1060</th>\n",
       "      <td>Buffalo</td>\n",
       "    </tr>\n",
       "    <tr>\n",
       "      <th>1059</th>\n",
       "      <td>North Carolina</td>\n",
       "    </tr>\n",
       "    <tr>\n",
       "      <th>1058</th>\n",
       "      <td>Ohio State</td>\n",
       "    </tr>\n",
       "    <tr>\n",
       "      <th>1057</th>\n",
       "      <td>Iowa</td>\n",
       "    </tr>\n",
       "    <tr>\n",
       "      <th>1056</th>\n",
       "      <td>Iowa State</td>\n",
       "    </tr>\n",
       "    <tr>\n",
       "      <th>1052</th>\n",
       "      <td>Georgia</td>\n",
       "    </tr>\n",
       "    <tr>\n",
       "      <th>1051</th>\n",
       "      <td>Liberty</td>\n",
       "    </tr>\n",
       "    <tr>\n",
       "      <th>1050</th>\n",
       "      <td>Texas</td>\n",
       "    </tr>\n",
       "    <tr>\n",
       "      <th>1050</th>\n",
       "      <td>UCF</td>\n",
       "    </tr>\n",
       "    <tr>\n",
       "      <th>1048</th>\n",
       "      <td>Appalachian State</td>\n",
       "    </tr>\n",
       "    <tr>\n",
       "      <th>1047</th>\n",
       "      <td>Louisiana</td>\n",
       "    </tr>\n",
       "    <tr>\n",
       "      <th>1044</th>\n",
       "      <td>San José State</td>\n",
       "    </tr>\n",
       "    <tr>\n",
       "      <th>1043</th>\n",
       "      <td>Texas A&amp;M</td>\n",
       "    </tr>\n",
       "    <tr>\n",
       "      <th>1042</th>\n",
       "      <td>Tulane</td>\n",
       "    </tr>\n",
       "    <tr>\n",
       "      <th>1039</th>\n",
       "      <td>Marshall</td>\n",
       "    </tr>\n",
       "    <tr>\n",
       "      <th>1035</th>\n",
       "      <td>Indiana</td>\n",
       "    </tr>\n",
       "    <tr>\n",
       "      <th>1032</th>\n",
       "      <td>Arizona State</td>\n",
       "    </tr>\n",
       "  </tbody>\n",
       "</table>\n",
       "</div>"
      ],
      "text/plain": [
       "                   team\n",
       "elo                    \n",
       "1129            Alabama\n",
       "1107            Clemson\n",
       "1106                BYU\n",
       "1080   Coastal Carolina\n",
       "1077         Cincinnati\n",
       "1073         Notre Dame\n",
       "1063           Oklahoma\n",
       "1060            Florida\n",
       "1060            Buffalo\n",
       "1059     North Carolina\n",
       "1058         Ohio State\n",
       "1057               Iowa\n",
       "1056         Iowa State\n",
       "1052            Georgia\n",
       "1051            Liberty\n",
       "1050              Texas\n",
       "1050                UCF\n",
       "1048  Appalachian State\n",
       "1047          Louisiana\n",
       "1044     San José State\n",
       "1043          Texas A&M\n",
       "1042             Tulane\n",
       "1039           Marshall\n",
       "1035            Indiana\n",
       "1032      Arizona State"
      ]
     },
     "execution_count": 51,
     "metadata": {},
     "output_type": "execute_result"
    }
   ],
   "source": [
    "end_elos_df3.head(25)"
   ]
  },
  {
   "cell_type": "code",
   "execution_count": 52,
   "id": "wrong-wedding",
   "metadata": {},
   "outputs": [],
   "source": [
    "games3_df = pd.DataFrame(games3)"
   ]
  },
  {
   "cell_type": "code",
   "execution_count": 53,
   "id": "social-enzyme",
   "metadata": {},
   "outputs": [],
   "source": [
    "games3_df['margin'] = games3_df['home_points'] - games3_df['away_points']"
   ]
  },
  {
   "cell_type": "code",
   "execution_count": 54,
   "id": "academic-shepherd",
   "metadata": {},
   "outputs": [],
   "source": [
    "games2020 = games3_df.loc[games3_df['season'] == 2020]"
   ]
  },
  {
   "cell_type": "code",
   "execution_count": 55,
   "id": "chubby-landscape",
   "metadata": {},
   "outputs": [
    {
     "data": {
      "text/html": [
       "<div>\n",
       "<style scoped>\n",
       "    .dataframe tbody tr th:only-of-type {\n",
       "        vertical-align: middle;\n",
       "    }\n",
       "\n",
       "    .dataframe tbody tr th {\n",
       "        vertical-align: top;\n",
       "    }\n",
       "\n",
       "    .dataframe thead th {\n",
       "        text-align: right;\n",
       "    }\n",
       "</style>\n",
       "<table border=\"1\" class=\"dataframe\">\n",
       "  <thead>\n",
       "    <tr style=\"text-align: right;\">\n",
       "      <th></th>\n",
       "      <th>game_id</th>\n",
       "      <th>start_date</th>\n",
       "      <th>season</th>\n",
       "      <th>home_team</th>\n",
       "      <th>home_conference</th>\n",
       "      <th>home_points</th>\n",
       "      <th>away_team</th>\n",
       "      <th>away_conference</th>\n",
       "      <th>away_points</th>\n",
       "      <th>pregame_home_elo</th>\n",
       "      <th>pregame_away_elo</th>\n",
       "      <th>postgame_home_elo</th>\n",
       "      <th>postgame_away_elo</th>\n",
       "      <th>margin</th>\n",
       "    </tr>\n",
       "  </thead>\n",
       "  <tbody>\n",
       "    <tr>\n",
       "      <th>138</th>\n",
       "      <td>401234606</td>\n",
       "      <td>2020-10-10T23:30:00.000Z</td>\n",
       "      <td>2020</td>\n",
       "      <td>Notre Dame</td>\n",
       "      <td>FBS Independents</td>\n",
       "      <td>42</td>\n",
       "      <td>Florida State</td>\n",
       "      <td>ACC</td>\n",
       "      <td>26</td>\n",
       "      <td>1032</td>\n",
       "      <td>978</td>\n",
       "      <td>1038</td>\n",
       "      <td>972</td>\n",
       "      <td>16</td>\n",
       "    </tr>\n",
       "    <tr>\n",
       "      <th>540</th>\n",
       "      <td>401237074</td>\n",
       "      <td>2020-12-20T01:00:00.000Z</td>\n",
       "      <td>2020</td>\n",
       "      <td>Florida</td>\n",
       "      <td>SEC</td>\n",
       "      <td>46</td>\n",
       "      <td>Alabama</td>\n",
       "      <td>SEC</td>\n",
       "      <td>52</td>\n",
       "      <td>1062</td>\n",
       "      <td>1127</td>\n",
       "      <td>1060</td>\n",
       "      <td>1129</td>\n",
       "      <td>-6</td>\n",
       "    </tr>\n",
       "    <tr>\n",
       "      <th>82</th>\n",
       "      <td>401237096</td>\n",
       "      <td>2020-10-03T16:00:00.000Z</td>\n",
       "      <td>2020</td>\n",
       "      <td>Florida</td>\n",
       "      <td>SEC</td>\n",
       "      <td>38</td>\n",
       "      <td>South Carolina</td>\n",
       "      <td>SEC</td>\n",
       "      <td>24</td>\n",
       "      <td>1008</td>\n",
       "      <td>998</td>\n",
       "      <td>1015</td>\n",
       "      <td>991</td>\n",
       "      <td>14</td>\n",
       "    </tr>\n",
       "    <tr>\n",
       "      <th>296</th>\n",
       "      <td>401207169</td>\n",
       "      <td>2020-11-07T23:00:00.000Z</td>\n",
       "      <td>2020</td>\n",
       "      <td>Florida Atlantic</td>\n",
       "      <td>Conference USA</td>\n",
       "      <td>10</td>\n",
       "      <td>Western Kentucky</td>\n",
       "      <td>Conference USA</td>\n",
       "      <td>6</td>\n",
       "      <td>1007</td>\n",
       "      <td>961</td>\n",
       "      <td>1009</td>\n",
       "      <td>959</td>\n",
       "      <td>4</td>\n",
       "    </tr>\n",
       "    <tr>\n",
       "      <th>312</th>\n",
       "      <td>401249864</td>\n",
       "      <td>2020-11-12T01:00:00.000Z</td>\n",
       "      <td>2020</td>\n",
       "      <td>Northern Illinois</td>\n",
       "      <td>Mid-American</td>\n",
       "      <td>10</td>\n",
       "      <td>Central Michigan</td>\n",
       "      <td>Mid-American</td>\n",
       "      <td>40</td>\n",
       "      <td>990</td>\n",
       "      <td>1002</td>\n",
       "      <td>976</td>\n",
       "      <td>1016</td>\n",
       "      <td>-30</td>\n",
       "    </tr>\n",
       "  </tbody>\n",
       "</table>\n",
       "</div>"
      ],
      "text/plain": [
       "       game_id                start_date  season          home_team  \\\n",
       "138  401234606  2020-10-10T23:30:00.000Z    2020         Notre Dame   \n",
       "540  401237074  2020-12-20T01:00:00.000Z    2020            Florida   \n",
       "82   401237096  2020-10-03T16:00:00.000Z    2020            Florida   \n",
       "296  401207169  2020-11-07T23:00:00.000Z    2020   Florida Atlantic   \n",
       "312  401249864  2020-11-12T01:00:00.000Z    2020  Northern Illinois   \n",
       "\n",
       "      home_conference  home_points         away_team away_conference  \\\n",
       "138  FBS Independents           42     Florida State             ACC   \n",
       "540               SEC           46           Alabama             SEC   \n",
       "82                SEC           38    South Carolina             SEC   \n",
       "296    Conference USA           10  Western Kentucky  Conference USA   \n",
       "312      Mid-American           10  Central Michigan    Mid-American   \n",
       "\n",
       "     away_points  pregame_home_elo  pregame_away_elo  postgame_home_elo  \\\n",
       "138           26              1032               978               1038   \n",
       "540           52              1062              1127               1060   \n",
       "82            24              1008               998               1015   \n",
       "296            6              1007               961               1009   \n",
       "312           40               990              1002                976   \n",
       "\n",
       "     postgame_away_elo  margin  \n",
       "138                972      16  \n",
       "540               1129      -6  \n",
       "82                 991      14  \n",
       "296                959       4  \n",
       "312               1016     -30  "
      ]
     },
     "execution_count": 55,
     "metadata": {},
     "output_type": "execute_result"
    }
   ],
   "source": [
    "games2020.sample(5)"
   ]
  },
  {
   "cell_type": "markdown",
   "id": "directed-actress",
   "metadata": {},
   "source": [
    "**2021**"
   ]
  },
  {
   "cell_type": "code",
   "execution_count": 56,
   "id": "brilliant-sacrifice",
   "metadata": {},
   "outputs": [],
   "source": [
    "games4 = []\n",
    "\n",
    "# was 2017\n",
    "for year in range(2021, 2022):\n",
    "    response = games_api.get_games(year=year)\n",
    "    games4 = [*games4, *response]"
   ]
  },
  {
   "cell_type": "code",
   "execution_count": 57,
   "id": "processed-seeker",
   "metadata": {},
   "outputs": [],
   "source": [
    "games4 = [dict(\n",
    "            game_id = g.id,\n",
    "            start_date = g.start_date,\n",
    "            season = g.season,\n",
    "            home_team = g.home_team,\n",
    "            home_conference = g.home_conference,\n",
    "            home_points = g.home_points,\n",
    "            away_team = g.away_team,\n",
    "            away_conference = g.away_conference,\n",
    "            away_points = g.away_points\n",
    "            ) for g in games4 if g.home_points is not None and g.away_points is not None]\n",
    "games4.sort(key=date_sort)"
   ]
  },
  {
   "cell_type": "code",
   "execution_count": 58,
   "id": "committed-instruction",
   "metadata": {},
   "outputs": [],
   "source": [
    "# dict object to hold current Elo rating for each team\n",
    "teams4 = dict()\n",
    "\n",
    "# loop through games in order\n",
    "for game in games4:\n",
    "\n",
    "    # get current rating for home team\n",
    "    if game['home_team'] in teams4:\n",
    "        home_elo = teams4[game['home_team']]\n",
    "    # Power 5 get boost\n",
    "    elif game['home_conference'] is not None:\n",
    "        # if no rating, but FBS set to 1000\n",
    "        home_elo = 1000\n",
    "    else:\n",
    "        # otherwise, set initial rating to 500 for non-FBS teams\n",
    "        home_elo = 500\n",
    "\n",
    "    # get current rating for away team\n",
    "    if game['away_team'] in teams4:\n",
    "        away_elo = teams4[game['away_team']]\n",
    "    elif game['away_conference'] is not None:\n",
    "        # if no rating, but FBS set to 1000\n",
    "        away_elo = 1000\n",
    "    else:\n",
    "        # otherwise, set initial rating to 500 for non-FBS teams\n",
    "        away_elo = 500\n",
    "\n",
    "    # calculate score margin from game\n",
    "    margin = game['home_points'] - game['away_points']\n",
    "\n",
    "    # get new elo ratings\n",
    "    new_elos = get_new_elos(home_elo, away_elo, margin)\n",
    "\n",
    "    # set pregame elos on game dict\n",
    "    game['pregame_home_elo'] = home_elo\n",
    "    game['pregame_away_elo'] = away_elo\n",
    "\n",
    "    # set postgame elos on game dict\n",
    "    game['postgame_home_elo'] = new_elos[0]\n",
    "    game['postgame_away_elo'] = new_elos[1]\n",
    "\n",
    "    # set current elo values in teams dict\n",
    "    teams4[game['home_team']] = new_elos[0]\n",
    "    teams4[game['away_team']] = new_elos[1]"
   ]
  },
  {
   "cell_type": "code",
   "execution_count": 59,
   "id": "original-sewing",
   "metadata": {},
   "outputs": [],
   "source": [
    "end_elos4 = [dict(team=key, elo=teams4[key]) for key in teams4]\n",
    "end_elos4.sort(key=elo_sort, reverse=True)"
   ]
  },
  {
   "cell_type": "code",
   "execution_count": 60,
   "id": "senior-albany",
   "metadata": {},
   "outputs": [],
   "source": [
    "end_elos_df4 = pd.DataFrame(end_elos4).set_index('elo')"
   ]
  },
  {
   "cell_type": "code",
   "execution_count": 61,
   "id": "traditional-basic",
   "metadata": {},
   "outputs": [
    {
     "data": {
      "text/html": [
       "<div>\n",
       "<style scoped>\n",
       "    .dataframe tbody tr th:only-of-type {\n",
       "        vertical-align: middle;\n",
       "    }\n",
       "\n",
       "    .dataframe tbody tr th {\n",
       "        vertical-align: top;\n",
       "    }\n",
       "\n",
       "    .dataframe thead th {\n",
       "        text-align: right;\n",
       "    }\n",
       "</style>\n",
       "<table border=\"1\" class=\"dataframe\">\n",
       "  <thead>\n",
       "    <tr style=\"text-align: right;\">\n",
       "      <th></th>\n",
       "      <th>team</th>\n",
       "    </tr>\n",
       "    <tr>\n",
       "      <th>elo</th>\n",
       "      <th></th>\n",
       "    </tr>\n",
       "  </thead>\n",
       "  <tbody>\n",
       "    <tr>\n",
       "      <th>1125</th>\n",
       "      <td>Georgia</td>\n",
       "    </tr>\n",
       "    <tr>\n",
       "      <th>1114</th>\n",
       "      <td>Ohio State</td>\n",
       "    </tr>\n",
       "    <tr>\n",
       "      <th>1112</th>\n",
       "      <td>Michigan</td>\n",
       "    </tr>\n",
       "    <tr>\n",
       "      <th>1109</th>\n",
       "      <td>Cincinnati</td>\n",
       "    </tr>\n",
       "    <tr>\n",
       "      <th>1106</th>\n",
       "      <td>Alabama</td>\n",
       "    </tr>\n",
       "    <tr>\n",
       "      <th>1083</th>\n",
       "      <td>Notre Dame</td>\n",
       "    </tr>\n",
       "    <tr>\n",
       "      <th>1081</th>\n",
       "      <td>Pittsburgh</td>\n",
       "    </tr>\n",
       "    <tr>\n",
       "      <th>1079</th>\n",
       "      <td>Coastal Carolina</td>\n",
       "    </tr>\n",
       "    <tr>\n",
       "      <th>1078</th>\n",
       "      <td>Utah</td>\n",
       "    </tr>\n",
       "    <tr>\n",
       "      <th>1069</th>\n",
       "      <td>Louisiana</td>\n",
       "    </tr>\n",
       "    <tr>\n",
       "      <th>1069</th>\n",
       "      <td>Oklahoma State</td>\n",
       "    </tr>\n",
       "    <tr>\n",
       "      <th>1066</th>\n",
       "      <td>Western Kentucky</td>\n",
       "    </tr>\n",
       "    <tr>\n",
       "      <th>1062</th>\n",
       "      <td>Appalachian State</td>\n",
       "    </tr>\n",
       "    <tr>\n",
       "      <th>1062</th>\n",
       "      <td>Houston</td>\n",
       "    </tr>\n",
       "    <tr>\n",
       "      <th>1057</th>\n",
       "      <td>NC State</td>\n",
       "    </tr>\n",
       "    <tr>\n",
       "      <th>1057</th>\n",
       "      <td>Iowa State</td>\n",
       "    </tr>\n",
       "    <tr>\n",
       "      <th>1056</th>\n",
       "      <td>Baylor</td>\n",
       "    </tr>\n",
       "    <tr>\n",
       "      <th>1054</th>\n",
       "      <td>Wisconsin</td>\n",
       "    </tr>\n",
       "    <tr>\n",
       "      <th>1053</th>\n",
       "      <td>Kentucky</td>\n",
       "    </tr>\n",
       "    <tr>\n",
       "      <th>1051</th>\n",
       "      <td>Boise State</td>\n",
       "    </tr>\n",
       "    <tr>\n",
       "      <th>1051</th>\n",
       "      <td>Air Force</td>\n",
       "    </tr>\n",
       "    <tr>\n",
       "      <th>1051</th>\n",
       "      <td>UT San Antonio</td>\n",
       "    </tr>\n",
       "    <tr>\n",
       "      <th>1051</th>\n",
       "      <td>Texas A&amp;M</td>\n",
       "    </tr>\n",
       "    <tr>\n",
       "      <th>1050</th>\n",
       "      <td>UCLA</td>\n",
       "    </tr>\n",
       "    <tr>\n",
       "      <th>1047</th>\n",
       "      <td>Wake Forest</td>\n",
       "    </tr>\n",
       "  </tbody>\n",
       "</table>\n",
       "</div>"
      ],
      "text/plain": [
       "                   team\n",
       "elo                    \n",
       "1125            Georgia\n",
       "1114         Ohio State\n",
       "1112           Michigan\n",
       "1109         Cincinnati\n",
       "1106            Alabama\n",
       "1083         Notre Dame\n",
       "1081         Pittsburgh\n",
       "1079   Coastal Carolina\n",
       "1078               Utah\n",
       "1069          Louisiana\n",
       "1069     Oklahoma State\n",
       "1066   Western Kentucky\n",
       "1062  Appalachian State\n",
       "1062            Houston\n",
       "1057           NC State\n",
       "1057         Iowa State\n",
       "1056             Baylor\n",
       "1054          Wisconsin\n",
       "1053           Kentucky\n",
       "1051        Boise State\n",
       "1051          Air Force\n",
       "1051     UT San Antonio\n",
       "1051          Texas A&M\n",
       "1050               UCLA\n",
       "1047        Wake Forest"
      ]
     },
     "execution_count": 61,
     "metadata": {},
     "output_type": "execute_result"
    }
   ],
   "source": [
    "end_elos_df4.head(25)"
   ]
  },
  {
   "cell_type": "code",
   "execution_count": 62,
   "id": "visible-eight",
   "metadata": {},
   "outputs": [],
   "source": [
    "games4_df = pd.DataFrame(games4)"
   ]
  },
  {
   "cell_type": "code",
   "execution_count": 63,
   "id": "wooden-signal",
   "metadata": {},
   "outputs": [],
   "source": [
    "games4_df['margin'] = games4_df['home_points'] - games4_df['away_points']"
   ]
  },
  {
   "cell_type": "code",
   "execution_count": 64,
   "id": "innovative-siemens",
   "metadata": {},
   "outputs": [],
   "source": [
    "games2021 = games4_df.loc[games4_df['season'] == 2021]"
   ]
  },
  {
   "cell_type": "code",
   "execution_count": 65,
   "id": "supported-pound",
   "metadata": {},
   "outputs": [
    {
     "data": {
      "text/html": [
       "<div>\n",
       "<style scoped>\n",
       "    .dataframe tbody tr th:only-of-type {\n",
       "        vertical-align: middle;\n",
       "    }\n",
       "\n",
       "    .dataframe tbody tr th {\n",
       "        vertical-align: top;\n",
       "    }\n",
       "\n",
       "    .dataframe thead th {\n",
       "        text-align: right;\n",
       "    }\n",
       "</style>\n",
       "<table border=\"1\" class=\"dataframe\">\n",
       "  <thead>\n",
       "    <tr style=\"text-align: right;\">\n",
       "      <th></th>\n",
       "      <th>game_id</th>\n",
       "      <th>start_date</th>\n",
       "      <th>season</th>\n",
       "      <th>home_team</th>\n",
       "      <th>home_conference</th>\n",
       "      <th>home_points</th>\n",
       "      <th>away_team</th>\n",
       "      <th>away_conference</th>\n",
       "      <th>away_points</th>\n",
       "      <th>pregame_home_elo</th>\n",
       "      <th>pregame_away_elo</th>\n",
       "      <th>postgame_home_elo</th>\n",
       "      <th>postgame_away_elo</th>\n",
       "      <th>margin</th>\n",
       "    </tr>\n",
       "  </thead>\n",
       "  <tbody>\n",
       "    <tr>\n",
       "      <th>0</th>\n",
       "      <td>401282714</td>\n",
       "      <td>2021-08-28T17:20:00.000Z</td>\n",
       "      <td>2021</td>\n",
       "      <td>Illinois</td>\n",
       "      <td>Big Ten</td>\n",
       "      <td>30</td>\n",
       "      <td>Nebraska</td>\n",
       "      <td>Big Ten</td>\n",
       "      <td>22</td>\n",
       "      <td>1000</td>\n",
       "      <td>1000</td>\n",
       "      <td>1004</td>\n",
       "      <td>996</td>\n",
       "      <td>8</td>\n",
       "    </tr>\n",
       "    <tr>\n",
       "      <th>1</th>\n",
       "      <td>401286187</td>\n",
       "      <td>2021-08-28T18:00:00.000Z</td>\n",
       "      <td>2021</td>\n",
       "      <td>Fresno State</td>\n",
       "      <td>Mountain West</td>\n",
       "      <td>45</td>\n",
       "      <td>Connecticut</td>\n",
       "      <td>American Athletic</td>\n",
       "      <td>0</td>\n",
       "      <td>1000</td>\n",
       "      <td>1000</td>\n",
       "      <td>1022</td>\n",
       "      <td>978</td>\n",
       "      <td>45</td>\n",
       "    </tr>\n",
       "    <tr>\n",
       "      <th>2</th>\n",
       "      <td>401309833</td>\n",
       "      <td>2021-08-28T19:30:00.000Z</td>\n",
       "      <td>2021</td>\n",
       "      <td>UCLA</td>\n",
       "      <td>Pac-12</td>\n",
       "      <td>44</td>\n",
       "      <td>Hawai'i</td>\n",
       "      <td>Mountain West</td>\n",
       "      <td>10</td>\n",
       "      <td>1000</td>\n",
       "      <td>1000</td>\n",
       "      <td>1017</td>\n",
       "      <td>983</td>\n",
       "      <td>34</td>\n",
       "    </tr>\n",
       "    <tr>\n",
       "      <th>3</th>\n",
       "      <td>401282049</td>\n",
       "      <td>2021-08-29T01:30:00.000Z</td>\n",
       "      <td>2021</td>\n",
       "      <td>New Mexico State</td>\n",
       "      <td>FBS Independents</td>\n",
       "      <td>3</td>\n",
       "      <td>UTEP</td>\n",
       "      <td>Conference USA</td>\n",
       "      <td>30</td>\n",
       "      <td>1000</td>\n",
       "      <td>1000</td>\n",
       "      <td>986</td>\n",
       "      <td>1014</td>\n",
       "      <td>-27</td>\n",
       "    </tr>\n",
       "    <tr>\n",
       "      <th>4</th>\n",
       "      <td>401310693</td>\n",
       "      <td>2021-08-29T02:00:00.000Z</td>\n",
       "      <td>2021</td>\n",
       "      <td>San José State</td>\n",
       "      <td>Mountain West</td>\n",
       "      <td>45</td>\n",
       "      <td>Southern Utah</td>\n",
       "      <td>None</td>\n",
       "      <td>14</td>\n",
       "      <td>1000</td>\n",
       "      <td>500</td>\n",
       "      <td>1001</td>\n",
       "      <td>499</td>\n",
       "      <td>31</td>\n",
       "    </tr>\n",
       "  </tbody>\n",
       "</table>\n",
       "</div>"
      ],
      "text/plain": [
       "     game_id                start_date  season         home_team  \\\n",
       "0  401282714  2021-08-28T17:20:00.000Z    2021          Illinois   \n",
       "1  401286187  2021-08-28T18:00:00.000Z    2021      Fresno State   \n",
       "2  401309833  2021-08-28T19:30:00.000Z    2021              UCLA   \n",
       "3  401282049  2021-08-29T01:30:00.000Z    2021  New Mexico State   \n",
       "4  401310693  2021-08-29T02:00:00.000Z    2021    San José State   \n",
       "\n",
       "    home_conference  home_points      away_team    away_conference  \\\n",
       "0           Big Ten           30       Nebraska            Big Ten   \n",
       "1     Mountain West           45    Connecticut  American Athletic   \n",
       "2            Pac-12           44        Hawai'i      Mountain West   \n",
       "3  FBS Independents            3           UTEP     Conference USA   \n",
       "4     Mountain West           45  Southern Utah               None   \n",
       "\n",
       "   away_points  pregame_home_elo  pregame_away_elo  postgame_home_elo  \\\n",
       "0           22              1000              1000               1004   \n",
       "1            0              1000              1000               1022   \n",
       "2           10              1000              1000               1017   \n",
       "3           30              1000              1000                986   \n",
       "4           14              1000               500               1001   \n",
       "\n",
       "   postgame_away_elo  margin  \n",
       "0                996       8  \n",
       "1                978      45  \n",
       "2                983      34  \n",
       "3               1014     -27  \n",
       "4                499      31  "
      ]
     },
     "execution_count": 65,
     "metadata": {},
     "output_type": "execute_result"
    }
   ],
   "source": [
    "games2021.head()"
   ]
  },
  {
   "cell_type": "markdown",
   "id": "specified-gambling",
   "metadata": {},
   "source": [
    "**Building a Model to Predict Results**\n",
    "  \n",
    "Building this model to run through games, based on the pre game elo rating will learn the post game margin in order to begin to predict games in the future."
   ]
  },
  {
   "cell_type": "markdown",
   "id": "searching-clarity",
   "metadata": {},
   "source": [
    "Concatenating 2017-2020 retroactively to create a test group of data."
   ]
  },
  {
   "cell_type": "code",
   "execution_count": 66,
   "id": "powerful-virtue",
   "metadata": {},
   "outputs": [],
   "source": [
    "games2017_2020 = pd.concat([games2017, games2018, games2019, games2020])"
   ]
  },
  {
   "cell_type": "code",
   "execution_count": 67,
   "id": "capital-drama",
   "metadata": {},
   "outputs": [
    {
     "data": {
      "text/plain": [
       "(3069, 14)"
      ]
     },
     "execution_count": 67,
     "metadata": {},
     "output_type": "execute_result"
    }
   ],
   "source": [
    "games2017_2020.shape"
   ]
  },
  {
   "cell_type": "markdown",
   "id": "acting-humidity",
   "metadata": {},
   "source": [
    "Over 3000 different games to use should be plenty to train the model I build."
   ]
  },
  {
   "cell_type": "code",
   "execution_count": 68,
   "id": "cooked-renaissance",
   "metadata": {},
   "outputs": [],
   "source": [
    "import matplotlib.pyplot as plt"
   ]
  },
  {
   "cell_type": "code",
   "execution_count": 69,
   "id": "banned-mixer",
   "metadata": {},
   "outputs": [
    {
     "data": {
      "image/png": "[encoded data removed]",
      "text/plain": [
       "<Figure size 432x288 with 1 Axes>"
      ]
     },
     "metadata": {
      "needs_background": "light"
     },
     "output_type": "display_data"
    }
   ],
   "source": [
    "plt.scatter(x=games2017_2020['home_points'], y=games2017_2020['away_points'])\n",
    "plt.xlabel('Home Points')\n",
    "plt.ylabel('Away Points')\n",
    "plt.title('Home Points and Away Points in Games')\n",
    "plt.show()"
   ]
  },
  {
   "cell_type": "code",
   "execution_count": 70,
   "id": "confirmed-mention",
   "metadata": {},
   "outputs": [
    {
     "data": {
      "image/png": "[encoded data removed]",
      "text/plain": [
       "<Figure size 432x288 with 1 Axes>"
      ]
     },
     "metadata": {
      "needs_background": "light"
     },
     "output_type": "display_data"
    }
   ],
   "source": [
    "plt.scatter(x=games2017_2020['pregame_home_elo'], y=games2017_2020['pregame_away_elo'])\n",
    "plt.xlabel('Pregame Home Elo')\n",
    "plt.ylabel('Pregame Away Elo')\n",
    "plt.title('Elo Matchups in Games')\n",
    "plt.show()"
   ]
  },
  {
   "cell_type": "code",
   "execution_count": 71,
   "id": "communist-command",
   "metadata": {},
   "outputs": [
    {
     "data": {
      "image/png": "[encoded data removed]",
      "text/plain": [
       "<Figure size 432x288 with 1 Axes>"
      ]
     },
     "metadata": {
      "needs_background": "light"
     },
     "output_type": "display_data"
    }
   ],
   "source": [
    "plt.scatter(x=games2017_2020['pregame_home_elo'], y=games2017_2020['postgame_home_elo'])\n",
    "plt.xlabel('Pregame Home Elo')\n",
    "plt.ylabel('Postgame Home Elo')\n",
    "plt.title('Pregame Home Elo and Postgame Home Elo')\n",
    "plt.show()"
   ]
  },
  {
   "cell_type": "code",
   "execution_count": 72,
   "id": "lyric-preview",
   "metadata": {},
   "outputs": [
    {
     "data": {
      "image/png": "[encoded data removed]",
      "text/plain": [
       "<Figure size 432x288 with 1 Axes>"
      ]
     },
     "metadata": {
      "needs_background": "light"
     },
     "output_type": "display_data"
    }
   ],
   "source": [
    "plt.scatter(x=games2017_2020['pregame_away_elo'], y=games2017_2020['postgame_away_elo'])\n",
    "plt.xlabel('Pregame Away Elo')\n",
    "plt.ylabel('Postgame Away Elo')\n",
    "plt.title('Pregame Away Elo and Postgame Away Elo')\n",
    "plt.show()"
   ]
  },
  {
   "cell_type": "code",
   "execution_count": 73,
   "id": "found-kernel",
   "metadata": {},
   "outputs": [
    {
     "data": {
      "image/png": "[encoded data removed]",
      "text/plain": [
       "<Figure size 432x288 with 1 Axes>"
      ]
     },
     "metadata": {
      "needs_background": "light"
     },
     "output_type": "display_data"
    }
   ],
   "source": [
    "plt.hist(games2017_2020['margin'])\n",
    "plt.xlabel('Margin')\n",
    "plt.title('Margin In Games')\n",
    "plt.show()"
   ]
  },
  {
   "cell_type": "code",
   "execution_count": 74,
   "id": "proud-console",
   "metadata": {},
   "outputs": [
    {
     "data": {
      "image/png": "[encoded data removed]",
      "text/plain": [
       "<Figure size 432x288 with 1 Axes>"
      ]
     },
     "metadata": {
      "needs_background": "light"
     },
     "output_type": "display_data"
    }
   ],
   "source": [
    "sns.kdeplot(games2017_2020['margin'], shade=True)\n",
    "plt.title('Margin In Games')\n",
    "plt.show()"
   ]
  },
  {
   "cell_type": "code",
   "execution_count": 75,
   "id": "developmental-angel",
   "metadata": {},
   "outputs": [
    {
     "data": {
      "image/png": "[encoded data removed]",
      "text/plain": [
       "<Figure size 432x288 with 1 Axes>"
      ]
     },
     "metadata": {
      "needs_background": "light"
     },
     "output_type": "display_data"
    }
   ],
   "source": [
    "plt.hist(games2021['margin'])\n",
    "plt.xlabel('Margin')\n",
    "plt.title('Margin In Games')\n",
    "plt.show()"
   ]
  },
  {
   "cell_type": "code",
   "execution_count": 76,
   "id": "female-maker",
   "metadata": {},
   "outputs": [
    {
     "data": {
      "image/png": "[encoded data removed]",
      "text/plain": [
       "<Figure size 432x288 with 1 Axes>"
      ]
     },
     "metadata": {
      "needs_background": "light"
     },
     "output_type": "display_data"
    }
   ],
   "source": [
    "sns.kdeplot(games2021['margin'], shade=True)\n",
    "plt.title('Margin In Games')\n",
    "plt.show()"
   ]
  },
  {
   "cell_type": "markdown",
   "id": "heavy-cleanup",
   "metadata": {},
   "source": [
    "Separating the pregame elo rankings from the target variable of margin in order to begin to predict games."
   ]
  },
  {
   "cell_type": "code",
   "execution_count": 77,
   "id": "still-applicant",
   "metadata": {},
   "outputs": [],
   "source": [
    "games17_20 = pd.get_dummies(games2017_2020, columns=['home_conference', 'away_conference'])"
   ]
  },
  {
   "cell_type": "code",
   "execution_count": 78,
   "id": "cognitive-lawyer",
   "metadata": {},
   "outputs": [
    {
     "data": {
      "text/html": [
       "<div>\n",
       "<style scoped>\n",
       "    .dataframe tbody tr th:only-of-type {\n",
       "        vertical-align: middle;\n",
       "    }\n",
       "\n",
       "    .dataframe tbody tr th {\n",
       "        vertical-align: top;\n",
       "    }\n",
       "\n",
       "    .dataframe thead th {\n",
       "        text-align: right;\n",
       "    }\n",
       "</style>\n",
       "<table border=\"1\" class=\"dataframe\">\n",
       "  <thead>\n",
       "    <tr style=\"text-align: right;\">\n",
       "      <th></th>\n",
       "      <th>game_id</th>\n",
       "      <th>start_date</th>\n",
       "      <th>season</th>\n",
       "      <th>home_team</th>\n",
       "      <th>home_points</th>\n",
       "      <th>away_team</th>\n",
       "      <th>away_points</th>\n",
       "      <th>pregame_home_elo</th>\n",
       "      <th>pregame_away_elo</th>\n",
       "      <th>postgame_home_elo</th>\n",
       "      <th>...</th>\n",
       "      <th>away_conference_American Athletic</th>\n",
       "      <th>away_conference_Big 12</th>\n",
       "      <th>away_conference_Big Ten</th>\n",
       "      <th>away_conference_Conference USA</th>\n",
       "      <th>away_conference_FBS Independents</th>\n",
       "      <th>away_conference_Mid-American</th>\n",
       "      <th>away_conference_Mountain West</th>\n",
       "      <th>away_conference_Pac-12</th>\n",
       "      <th>away_conference_SEC</th>\n",
       "      <th>away_conference_Sun Belt</th>\n",
       "    </tr>\n",
       "  </thead>\n",
       "  <tbody>\n",
       "    <tr>\n",
       "      <th>0</th>\n",
       "      <td>400935282</td>\n",
       "      <td>2017-08-26T18:30:00.000Z</td>\n",
       "      <td>2017</td>\n",
       "      <td>Colorado State</td>\n",
       "      <td>58</td>\n",
       "      <td>Oregon State</td>\n",
       "      <td>27</td>\n",
       "      <td>1000</td>\n",
       "      <td>1000</td>\n",
       "      <td>1016</td>\n",
       "      <td>...</td>\n",
       "      <td>0</td>\n",
       "      <td>0</td>\n",
       "      <td>0</td>\n",
       "      <td>0</td>\n",
       "      <td>0</td>\n",
       "      <td>0</td>\n",
       "      <td>0</td>\n",
       "      <td>1</td>\n",
       "      <td>0</td>\n",
       "      <td>0</td>\n",
       "    </tr>\n",
       "    <tr>\n",
       "      <th>1</th>\n",
       "      <td>400945031</td>\n",
       "      <td>2017-08-26T19:00:00.000Z</td>\n",
       "      <td>2017</td>\n",
       "      <td>BYU</td>\n",
       "      <td>20</td>\n",
       "      <td>Portland State</td>\n",
       "      <td>6</td>\n",
       "      <td>1000</td>\n",
       "      <td>500</td>\n",
       "      <td>1000</td>\n",
       "      <td>...</td>\n",
       "      <td>0</td>\n",
       "      <td>0</td>\n",
       "      <td>0</td>\n",
       "      <td>0</td>\n",
       "      <td>0</td>\n",
       "      <td>0</td>\n",
       "      <td>0</td>\n",
       "      <td>0</td>\n",
       "      <td>0</td>\n",
       "      <td>0</td>\n",
       "    </tr>\n",
       "    <tr>\n",
       "      <th>2</th>\n",
       "      <td>400938887</td>\n",
       "      <td>2017-08-26T22:00:00.000Z</td>\n",
       "      <td>2017</td>\n",
       "      <td>UMass</td>\n",
       "      <td>35</td>\n",
       "      <td>Hawai'i</td>\n",
       "      <td>38</td>\n",
       "      <td>1000</td>\n",
       "      <td>1000</td>\n",
       "      <td>998</td>\n",
       "      <td>...</td>\n",
       "      <td>0</td>\n",
       "      <td>0</td>\n",
       "      <td>0</td>\n",
       "      <td>0</td>\n",
       "      <td>0</td>\n",
       "      <td>0</td>\n",
       "      <td>1</td>\n",
       "      <td>0</td>\n",
       "      <td>0</td>\n",
       "      <td>0</td>\n",
       "    </tr>\n",
       "    <tr>\n",
       "      <th>3</th>\n",
       "      <td>400941786</td>\n",
       "      <td>2017-08-26T23:30:00.000Z</td>\n",
       "      <td>2017</td>\n",
       "      <td>San José State</td>\n",
       "      <td>22</td>\n",
       "      <td>South Florida</td>\n",
       "      <td>42</td>\n",
       "      <td>1000</td>\n",
       "      <td>1000</td>\n",
       "      <td>990</td>\n",
       "      <td>...</td>\n",
       "      <td>1</td>\n",
       "      <td>0</td>\n",
       "      <td>0</td>\n",
       "      <td>0</td>\n",
       "      <td>0</td>\n",
       "      <td>0</td>\n",
       "      <td>0</td>\n",
       "      <td>0</td>\n",
       "      <td>0</td>\n",
       "      <td>0</td>\n",
       "    </tr>\n",
       "    <tr>\n",
       "      <th>4</th>\n",
       "      <td>400935257</td>\n",
       "      <td>2017-08-27T02:00:00.000Z</td>\n",
       "      <td>2017</td>\n",
       "      <td>Rice</td>\n",
       "      <td>7</td>\n",
       "      <td>Stanford</td>\n",
       "      <td>62</td>\n",
       "      <td>1000</td>\n",
       "      <td>1000</td>\n",
       "      <td>972</td>\n",
       "      <td>...</td>\n",
       "      <td>0</td>\n",
       "      <td>0</td>\n",
       "      <td>0</td>\n",
       "      <td>0</td>\n",
       "      <td>0</td>\n",
       "      <td>0</td>\n",
       "      <td>0</td>\n",
       "      <td>1</td>\n",
       "      <td>0</td>\n",
       "      <td>0</td>\n",
       "    </tr>\n",
       "  </tbody>\n",
       "</table>\n",
       "<p>5 rows × 34 columns</p>\n",
       "</div>"
      ],
      "text/plain": [
       "     game_id                start_date  season       home_team  home_points  \\\n",
       "0  400935282  2017-08-26T18:30:00.000Z    2017  Colorado State           58   \n",
       "1  400945031  2017-08-26T19:00:00.000Z    2017             BYU           20   \n",
       "2  400938887  2017-08-26T22:00:00.000Z    2017           UMass           35   \n",
       "3  400941786  2017-08-26T23:30:00.000Z    2017  San José State           22   \n",
       "4  400935257  2017-08-27T02:00:00.000Z    2017            Rice            7   \n",
       "\n",
       "        away_team  away_points  pregame_home_elo  pregame_away_elo  \\\n",
       "0    Oregon State           27              1000              1000   \n",
       "1  Portland State            6              1000               500   \n",
       "2         Hawai'i           38              1000              1000   \n",
       "3   South Florida           42              1000              1000   \n",
       "4        Stanford           62              1000              1000   \n",
       "\n",
       "   postgame_home_elo  ...  away_conference_American Athletic  \\\n",
       "0               1016  ...                                  0   \n",
       "1               1000  ...                                  0   \n",
       "2                998  ...                                  0   \n",
       "3                990  ...                                  1   \n",
       "4                972  ...                                  0   \n",
       "\n",
       "   away_conference_Big 12  away_conference_Big Ten  \\\n",
       "0                       0                        0   \n",
       "1                       0                        0   \n",
       "2                       0                        0   \n",
       "3                       0                        0   \n",
       "4                       0                        0   \n",
       "\n",
       "   away_conference_Conference USA  away_conference_FBS Independents  \\\n",
       "0                               0                                 0   \n",
       "1                               0                                 0   \n",
       "2                               0                                 0   \n",
       "3                               0                                 0   \n",
       "4                               0                                 0   \n",
       "\n",
       "   away_conference_Mid-American  away_conference_Mountain West  \\\n",
       "0                             0                              0   \n",
       "1                             0                              0   \n",
       "2                             0                              1   \n",
       "3                             0                              0   \n",
       "4                             0                              0   \n",
       "\n",
       "   away_conference_Pac-12  away_conference_SEC  away_conference_Sun Belt  \n",
       "0                       1                    0                         0  \n",
       "1                       0                    0                         0  \n",
       "2                       0                    0                         0  \n",
       "3                       0                    0                         0  \n",
       "4                       1                    0                         0  \n",
       "\n",
       "[5 rows x 34 columns]"
      ]
     },
     "execution_count": 78,
     "metadata": {},
     "output_type": "execute_result"
    }
   ],
   "source": [
    "games17_20.head()"
   ]
  },
  {
   "cell_type": "code",
   "execution_count": 79,
   "id": "mathematical-footwear",
   "metadata": {},
   "outputs": [
    {
     "data": {
      "text/plain": [
       "Index(['game_id', 'start_date', 'season', 'home_team', 'home_points',\n",
       "       'away_team', 'away_points', 'pregame_home_elo', 'pregame_away_elo',\n",
       "       'postgame_home_elo', 'postgame_away_elo', 'margin',\n",
       "       'home_conference_ACC', 'home_conference_American Athletic',\n",
       "       'home_conference_Big 12', 'home_conference_Big Ten',\n",
       "       'home_conference_Conference USA', 'home_conference_FBS Independents',\n",
       "       'home_conference_Mid-American', 'home_conference_Mountain West',\n",
       "       'home_conference_Pac-12', 'home_conference_SEC',\n",
       "       'home_conference_Sun Belt', 'away_conference_ACC',\n",
       "       'away_conference_American Athletic', 'away_conference_Big 12',\n",
       "       'away_conference_Big Ten', 'away_conference_Conference USA',\n",
       "       'away_conference_FBS Independents', 'away_conference_Mid-American',\n",
       "       'away_conference_Mountain West', 'away_conference_Pac-12',\n",
       "       'away_conference_SEC', 'away_conference_Sun Belt'],\n",
       "      dtype='object')"
      ]
     },
     "execution_count": 79,
     "metadata": {},
     "output_type": "execute_result"
    }
   ],
   "source": [
    "games17_20.columns"
   ]
  },
  {
   "cell_type": "code",
   "execution_count": 80,
   "id": "crazy-sender",
   "metadata": {},
   "outputs": [],
   "source": [
    "features = ['pregame_home_elo', 'pregame_away_elo', 'home_conference_ACC', 'home_conference_American Athletic',\n",
    "       'home_conference_Big 12', 'home_conference_Big Ten',\n",
    "       'home_conference_Conference USA', 'home_conference_FBS Independents',\n",
    "       'home_conference_Mid-American', 'home_conference_Mountain West',\n",
    "       'home_conference_Pac-12', 'home_conference_SEC',\n",
    "       'home_conference_Sun Belt', 'away_conference_ACC',\n",
    "       'away_conference_American Athletic', 'away_conference_Big 12',\n",
    "       'away_conference_Big Ten', 'away_conference_Conference USA',\n",
    "       'away_conference_FBS Independents', 'away_conference_Mid-American',\n",
    "       'away_conference_Mountain West', 'away_conference_Pac-12',\n",
    "       'away_conference_SEC', 'away_conference_Sun Belt']\n",
    "\n",
    "x = games17_20[features]\n",
    "y = games17_20['margin']"
   ]
  },
  {
   "cell_type": "code",
   "execution_count": 81,
   "id": "communist-shell",
   "metadata": {},
   "outputs": [],
   "source": [
    "games21 = pd.get_dummies(games2021, columns=['home_conference', 'away_conference'])"
   ]
  },
  {
   "cell_type": "code",
   "execution_count": 82,
   "id": "saving-prerequisite",
   "metadata": {},
   "outputs": [],
   "source": [
    "x_test = games21[features]\n",
    "y_test = games21['margin']"
   ]
  },
  {
   "cell_type": "markdown",
   "id": "elder-programming",
   "metadata": {},
   "source": [
    "**Linear Regression**"
   ]
  },
  {
   "cell_type": "code",
   "execution_count": 83,
   "id": "handmade-honey",
   "metadata": {},
   "outputs": [],
   "source": [
    "from sklearn.linear_model import LinearRegression"
   ]
  },
  {
   "cell_type": "code",
   "execution_count": 84,
   "id": "sexual-toddler",
   "metadata": {},
   "outputs": [],
   "source": [
    "lr = LinearRegression()"
   ]
  },
  {
   "cell_type": "code",
   "execution_count": 85,
   "id": "actual-responsibility",
   "metadata": {},
   "outputs": [
    {
     "data": {
      "text/plain": [
       "LinearRegression()"
      ]
     },
     "execution_count": 85,
     "metadata": {},
     "output_type": "execute_result"
    }
   ],
   "source": [
    "lr.fit(x,y)"
   ]
  },
  {
   "cell_type": "code",
   "execution_count": 86,
   "id": "invalid-diagram",
   "metadata": {},
   "outputs": [],
   "source": [
    "y_pred = lr.predict(x_test)"
   ]
  },
  {
   "cell_type": "code",
   "execution_count": 87,
   "id": "supreme-transcript",
   "metadata": {},
   "outputs": [],
   "source": [
    "# importing r2_score module\n",
    "from sklearn.metrics import r2_score\n",
    "from sklearn.metrics import mean_squared_error"
   ]
  },
  {
   "cell_type": "code",
   "execution_count": 88,
   "id": "elect-kitty",
   "metadata": {},
   "outputs": [
    {
     "name": "stdout",
     "output_type": "stream",
     "text": [
      "r2 score is  0.38262381370022713\n",
      "mean_sqrd_error is  315.1952017173782\n",
      "root_mean_squared error of is  17.75373768301701\n"
     ]
    }
   ],
   "source": [
    "# predicting the accuracy score\n",
    "score=r2_score(y_test,y_pred)\n",
    "print('r2 score is ',score)\n",
    "print('mean_sqrd_error is ',mean_squared_error(y_test,y_pred))\n",
    "print('root_mean_squared error of is ',np.sqrt(mean_squared_error(y_test,y_pred)))"
   ]
  },
  {
   "cell_type": "code",
   "execution_count": 89,
   "id": "julian-fountain",
   "metadata": {},
   "outputs": [
    {
     "data": {
      "image/png": "[encoded data removed]",
      "text/plain": [
       "<Figure size 432x288 with 1 Axes>"
      ]
     },
     "metadata": {
      "needs_background": "light"
     },
     "output_type": "display_data"
    }
   ],
   "source": [
    "plt.scatter(x_test['pregame_home_elo'], y_test, marker='o')\n",
    "plt.scatter(x_test['pregame_home_elo'], y_pred, marker='+')\n",
    "plt.title('Comparing Linear Regression Predictions to Actual')\n",
    "plt.legend(labels='AP')\n",
    "plt.xlabel('Pregame Home Elo')\n",
    "plt.ylabel('Margin')\n",
    "plt.show()"
   ]
  },
  {
   "cell_type": "markdown",
   "id": "short-schema",
   "metadata": {},
   "source": [
    "**Linear Regression returns rather poor scores, will likely need to look into other modeling methods**"
   ]
  },
  {
   "cell_type": "markdown",
   "id": "union-courage",
   "metadata": {},
   "source": [
    "**Random Forest Regressor**"
   ]
  },
  {
   "cell_type": "code",
   "execution_count": 90,
   "id": "another-consumption",
   "metadata": {},
   "outputs": [],
   "source": [
    "from sklearn.ensemble import RandomForestRegressor"
   ]
  },
  {
   "cell_type": "code",
   "execution_count": 91,
   "id": "vietnamese-regular",
   "metadata": {},
   "outputs": [],
   "source": [
    "forest = RandomForestRegressor(random_state=42)"
   ]
  },
  {
   "cell_type": "code",
   "execution_count": 92,
   "id": "united-baghdad",
   "metadata": {},
   "outputs": [
    {
     "data": {
      "text/plain": [
       "RandomForestRegressor(random_state=42)"
      ]
     },
     "execution_count": 92,
     "metadata": {},
     "output_type": "execute_result"
    }
   ],
   "source": [
    "forest.fit(x,y)"
   ]
  },
  {
   "cell_type": "code",
   "execution_count": 93,
   "id": "valuable-plane",
   "metadata": {},
   "outputs": [],
   "source": [
    "y_pred = forest.predict(x_test)"
   ]
  },
  {
   "cell_type": "code",
   "execution_count": 94,
   "id": "invisible-victor",
   "metadata": {},
   "outputs": [
    {
     "name": "stdout",
     "output_type": "stream",
     "text": [
      "r2 score is  0.2643281369083236\n",
      "mean_sqrd_error is  375.5898695651807\n",
      "root_mean_squared error of is  19.380141113139004\n"
     ]
    }
   ],
   "source": [
    "score=r2_score(y_test,y_pred)\n",
    "print('r2 score is ',score)\n",
    "print('mean_sqrd_error is ',mean_squared_error(y_test,y_pred))\n",
    "print('root_mean_squared error of is ',np.sqrt(mean_squared_error(y_test,y_pred)))"
   ]
  },
  {
   "cell_type": "code",
   "execution_count": 95,
   "id": "configured-premiere",
   "metadata": {},
   "outputs": [
    {
     "data": {
      "image/png": "[encoded data removed]",
      "text/plain": [
       "<Figure size 432x288 with 1 Axes>"
      ]
     },
     "metadata": {
      "needs_background": "light"
     },
     "output_type": "display_data"
    }
   ],
   "source": [
    "plt.scatter(x_test['pregame_home_elo'], y_test, marker='o')\n",
    "plt.scatter(x_test['pregame_home_elo'], y_pred, marker='+')\n",
    "plt.title('Comparing Random Forest Regressor Predictions to Actual')\n",
    "plt.legend(labels='AP')\n",
    "plt.xlabel('Pregame Home Elo')\n",
    "plt.ylabel('Margin')\n",
    "plt.show()"
   ]
  },
  {
   "cell_type": "code",
   "execution_count": 96,
   "id": "alert-intensity",
   "metadata": {},
   "outputs": [],
   "source": [
    "from sklearn.svm import SVR\n",
    "from sklearn.pipeline import make_pipeline\n",
    "from sklearn.preprocessing import StandardScaler"
   ]
  },
  {
   "cell_type": "code",
   "execution_count": 97,
   "id": "significant-toner",
   "metadata": {},
   "outputs": [],
   "source": [
    "regr = make_pipeline(StandardScaler(), SVR(C=1.0, epsilon=0.2))"
   ]
  },
  {
   "cell_type": "code",
   "execution_count": 98,
   "id": "advised-leonard",
   "metadata": {},
   "outputs": [
    {
     "data": {
      "text/plain": [
       "Pipeline(steps=[('standardscaler', StandardScaler()),\n",
       "                ('svr', SVR(epsilon=0.2))])"
      ]
     },
     "execution_count": 98,
     "metadata": {},
     "output_type": "execute_result"
    }
   ],
   "source": [
    "regr.fit(x,y)"
   ]
  },
  {
   "cell_type": "code",
   "execution_count": 99,
   "id": "killing-bubble",
   "metadata": {},
   "outputs": [],
   "source": [
    "y_pred = regr.predict(x_test)"
   ]
  },
  {
   "cell_type": "code",
   "execution_count": 100,
   "id": "hispanic-injury",
   "metadata": {},
   "outputs": [
    {
     "name": "stdout",
     "output_type": "stream",
     "text": [
      "r2 score is  0.27964039040148214\n",
      "mean_sqrd_error is  367.77235257047715\n",
      "root_mean_squared error of is  19.17739170404769\n"
     ]
    }
   ],
   "source": [
    "score=r2_score(y_test,y_pred)\n",
    "print('r2 score is ',score)\n",
    "print('mean_sqrd_error is ',mean_squared_error(y_test,y_pred))\n",
    "print('root_mean_squared error of is ',np.sqrt(mean_squared_error(y_test,y_pred)))"
   ]
  },
  {
   "cell_type": "code",
   "execution_count": 101,
   "id": "overall-geneva",
   "metadata": {},
   "outputs": [
    {
     "data": {
      "image/png": "[encoded data removed]",
      "text/plain": [
       "<Figure size 432x288 with 1 Axes>"
      ]
     },
     "metadata": {
      "needs_background": "light"
     },
     "output_type": "display_data"
    }
   ],
   "source": [
    "plt.scatter(x_test['pregame_home_elo'], y_test, marker='o')\n",
    "plt.scatter(x_test['pregame_home_elo'], y_pred, marker='+')\n",
    "plt.title('Comparing SVR Predictions to Actual')\n",
    "plt.legend(labels='AP')\n",
    "plt.xlabel('Pregame Home Elo')\n",
    "plt.ylabel('Margin')\n",
    "plt.show()"
   ]
  },
  {
   "cell_type": "markdown",
   "id": "adaptive-chosen",
   "metadata": {},
   "source": [
    "**Support Vector Regression**"
   ]
  },
  {
   "cell_type": "code",
   "execution_count": 102,
   "id": "vanilla-formation",
   "metadata": {},
   "outputs": [],
   "source": [
    "features = ['pregame_home_elo', 'pregame_away_elo']\n",
    "\n",
    "x = games2017_2020[features]\n",
    "y = games2017_2020['margin']\n",
    "\n",
    "x_test = games2021[features]\n",
    "y_test = games2021['margin']"
   ]
  },
  {
   "cell_type": "code",
   "execution_count": 103,
   "id": "civil-advertising",
   "metadata": {},
   "outputs": [],
   "source": [
    "regr = make_pipeline(StandardScaler(), SVR(C=1.0, epsilon=0.2))"
   ]
  },
  {
   "cell_type": "code",
   "execution_count": 104,
   "id": "least-spoke",
   "metadata": {},
   "outputs": [
    {
     "data": {
      "text/plain": [
       "Pipeline(steps=[('standardscaler', StandardScaler()),\n",
       "                ('svr', SVR(epsilon=0.2))])"
      ]
     },
     "execution_count": 104,
     "metadata": {},
     "output_type": "execute_result"
    }
   ],
   "source": [
    "regr.fit(x,y)"
   ]
  },
  {
   "cell_type": "code",
   "execution_count": 105,
   "id": "diverse-essex",
   "metadata": {},
   "outputs": [],
   "source": [
    "y_pred = regr.predict(x_test)"
   ]
  },
  {
   "cell_type": "code",
   "execution_count": 106,
   "id": "legal-cleanup",
   "metadata": {},
   "outputs": [
    {
     "name": "stdout",
     "output_type": "stream",
     "text": [
      "r2 score is  0.3319445619194592\n",
      "mean_sqrd_error is  341.0689839305598\n",
      "root_mean_squared error of is  18.468053062804422\n"
     ]
    }
   ],
   "source": [
    "score=r2_score(y_test,y_pred)\n",
    "print('r2 score is ',score)\n",
    "print('mean_sqrd_error is ',mean_squared_error(y_test,y_pred))\n",
    "print('root_mean_squared error of is ',np.sqrt(mean_squared_error(y_test,y_pred)))"
   ]
  },
  {
   "cell_type": "code",
   "execution_count": 107,
   "id": "cosmetic-austria",
   "metadata": {},
   "outputs": [
    {
     "data": {
      "image/png": "[encoded data removed]",
      "text/plain": [
       "<Figure size 432x288 with 1 Axes>"
      ]
     },
     "metadata": {
      "needs_background": "light"
     },
     "output_type": "display_data"
    }
   ],
   "source": [
    "plt.scatter(x_test['pregame_home_elo'], y_test, marker='o')\n",
    "plt.scatter(x_test['pregame_home_elo'], y_pred, marker='+')\n",
    "plt.title('Comparing SVR Predictions to Actual')\n",
    "plt.legend(labels='AP')\n",
    "plt.xlabel('Pregame Home Elo')\n",
    "plt.ylabel('Margin')\n",
    "plt.show()"
   ]
  },
  {
   "cell_type": "markdown",
   "id": "backed-stuart",
   "metadata": {},
   "source": [
    "**Linear Regression**"
   ]
  },
  {
   "cell_type": "code",
   "execution_count": 108,
   "id": "crude-closure",
   "metadata": {},
   "outputs": [],
   "source": [
    "lr = LinearRegression()"
   ]
  },
  {
   "cell_type": "code",
   "execution_count": 109,
   "id": "fantastic-spouse",
   "metadata": {},
   "outputs": [
    {
     "data": {
      "text/plain": [
       "LinearRegression()"
      ]
     },
     "execution_count": 109,
     "metadata": {},
     "output_type": "execute_result"
    }
   ],
   "source": [
    "lr.fit(x,y)"
   ]
  },
  {
   "cell_type": "code",
   "execution_count": 110,
   "id": "standard-ferry",
   "metadata": {},
   "outputs": [],
   "source": [
    "y_pred = lr.predict(x_test)"
   ]
  },
  {
   "cell_type": "code",
   "execution_count": 111,
   "id": "heated-arrest",
   "metadata": {},
   "outputs": [
    {
     "name": "stdout",
     "output_type": "stream",
     "text": [
      "r2 score is  0.2686092429933037\n",
      "mean_sqrd_error is  373.4041939172159\n",
      "root_mean_squared error of is  19.323669266400103\n"
     ]
    }
   ],
   "source": [
    "score=r2_score(y_test,y_pred)\n",
    "print('r2 score is ',score)\n",
    "print('mean_sqrd_error is ',mean_squared_error(y_test,y_pred))\n",
    "print('root_mean_squared error of is ',np.sqrt(mean_squared_error(y_test,y_pred)))"
   ]
  },
  {
   "cell_type": "code",
   "execution_count": 112,
   "id": "outer-soundtrack",
   "metadata": {},
   "outputs": [
    {
     "data": {
      "image/png": "[encoded data removed]",
      "text/plain": [
       "<Figure size 432x288 with 1 Axes>"
      ]
     },
     "metadata": {
      "needs_background": "light"
     },
     "output_type": "display_data"
    }
   ],
   "source": [
    "plt.scatter(x_test['pregame_home_elo'], y_test, marker='o')\n",
    "plt.scatter(x_test['pregame_home_elo'], y_pred, marker='+')\n",
    "plt.title('Comparing Linear Regression Predictions to Actual')\n",
    "plt.legend(labels='AP')\n",
    "plt.xlabel('Pregame Home Elo')\n",
    "plt.ylabel('Margin')\n",
    "plt.show()"
   ]
  },
  {
   "cell_type": "code",
   "execution_count": 113,
   "id": "noble-ordinary",
   "metadata": {},
   "outputs": [],
   "source": [
    "from sklearn.ensemble import RandomForestRegressor"
   ]
  },
  {
   "cell_type": "code",
   "execution_count": 114,
   "id": "cooperative-joining",
   "metadata": {},
   "outputs": [],
   "source": [
    "forest = RandomForestRegressor()"
   ]
  },
  {
   "cell_type": "code",
   "execution_count": 115,
   "id": "romantic-reset",
   "metadata": {},
   "outputs": [
    {
     "data": {
      "text/plain": [
       "RandomForestRegressor()"
      ]
     },
     "execution_count": 115,
     "metadata": {},
     "output_type": "execute_result"
    }
   ],
   "source": [
    "forest.fit(x,y)"
   ]
  },
  {
   "cell_type": "code",
   "execution_count": 116,
   "id": "modern-denver",
   "metadata": {},
   "outputs": [],
   "source": [
    "y_pred = forest.predict(x_test)"
   ]
  },
  {
   "cell_type": "code",
   "execution_count": 117,
   "id": "major-inside",
   "metadata": {},
   "outputs": [
    {
     "name": "stdout",
     "output_type": "stream",
     "text": [
      "r2 score is  0.14986773402253628\n",
      "mean_sqrd_error is  434.0264768993036\n",
      "root_mean_squared error of is  20.83330211222656\n"
     ]
    }
   ],
   "source": [
    "score=r2_score(y_test,y_pred)\n",
    "print('r2 score is ',score)\n",
    "print('mean_sqrd_error is ',mean_squared_error(y_test,y_pred))\n",
    "print('root_mean_squared error of is ',np.sqrt(mean_squared_error(y_test,y_pred)))"
   ]
  },
  {
   "cell_type": "code",
   "execution_count": 118,
   "id": "protective-enemy",
   "metadata": {},
   "outputs": [
    {
     "data": {
      "image/png": "[encoded data removed]",
      "text/plain": [
       "<Figure size 432x288 with 1 Axes>"
      ]
     },
     "metadata": {
      "needs_background": "light"
     },
     "output_type": "display_data"
    }
   ],
   "source": [
    "plt.scatter(x_test['pregame_home_elo'], y_test, marker='o')\n",
    "plt.scatter(x_test['pregame_home_elo'], y_pred, marker='+')\n",
    "plt.title('Comparing Random Forest Regressor Predictions to Actual')\n",
    "plt.legend(labels='AP')\n",
    "plt.xlabel('Pregame Home Elo')\n",
    "plt.ylabel('Margin')\n",
    "plt.show()"
   ]
  },
  {
   "cell_type": "markdown",
   "id": "controlled-browser",
   "metadata": {},
   "source": [
    "#### Summary\n",
    "\n",
    "Overall it is rather difficult to guess the end of game margin accurately. The next step in this process would be trying to accurate predict who the winner is. Predicting the winner of a game would help tremendously with an accurate model predicting who wins."
   ]
  },
  {
   "cell_type": "code",
   "execution_count": 119,
   "id": "promising-bailey",
   "metadata": {},
   "outputs": [],
   "source": [
    "HomeWin1 = games2017_2020[games2017_2020['margin'] > 0]\n",
    "\n",
    "AwayWin1 = games2017_2020[games2017_2020['margin'] < 0]"
   ]
  },
  {
   "cell_type": "code",
   "execution_count": 120,
   "id": "communist-cooling",
   "metadata": {},
   "outputs": [
    {
     "data": {
      "text/html": [
       "<div>\n",
       "<style scoped>\n",
       "    .dataframe tbody tr th:only-of-type {\n",
       "        vertical-align: middle;\n",
       "    }\n",
       "\n",
       "    .dataframe tbody tr th {\n",
       "        vertical-align: top;\n",
       "    }\n",
       "\n",
       "    .dataframe thead th {\n",
       "        text-align: right;\n",
       "    }\n",
       "</style>\n",
       "<table border=\"1\" class=\"dataframe\">\n",
       "  <thead>\n",
       "    <tr style=\"text-align: right;\">\n",
       "      <th></th>\n",
       "      <th>game_id</th>\n",
       "      <th>start_date</th>\n",
       "      <th>season</th>\n",
       "      <th>home_team</th>\n",
       "      <th>home_conference</th>\n",
       "      <th>home_points</th>\n",
       "      <th>away_team</th>\n",
       "      <th>away_conference</th>\n",
       "      <th>away_points</th>\n",
       "      <th>pregame_home_elo</th>\n",
       "      <th>pregame_away_elo</th>\n",
       "      <th>postgame_home_elo</th>\n",
       "      <th>postgame_away_elo</th>\n",
       "      <th>margin</th>\n",
       "    </tr>\n",
       "  </thead>\n",
       "  <tbody>\n",
       "    <tr>\n",
       "      <th>462</th>\n",
       "      <td>401012765</td>\n",
       "      <td>2018-10-14T02:30:00.000Z</td>\n",
       "      <td>2018</td>\n",
       "      <td>USC</td>\n",
       "      <td>Pac-12</td>\n",
       "      <td>31</td>\n",
       "      <td>Colorado</td>\n",
       "      <td>Pac-12</td>\n",
       "      <td>20</td>\n",
       "      <td>996</td>\n",
       "      <td>1031</td>\n",
       "      <td>1002</td>\n",
       "      <td>1025</td>\n",
       "      <td>11</td>\n",
       "    </tr>\n",
       "    <tr>\n",
       "      <th>6</th>\n",
       "      <td>400937445</td>\n",
       "      <td>2017-08-31T22:30:00.000Z</td>\n",
       "      <td>2017</td>\n",
       "      <td>Wake Forest</td>\n",
       "      <td>ACC</td>\n",
       "      <td>51</td>\n",
       "      <td>Presbyterian College</td>\n",
       "      <td>None</td>\n",
       "      <td>7</td>\n",
       "      <td>1000</td>\n",
       "      <td>500</td>\n",
       "      <td>1001</td>\n",
       "      <td>499</td>\n",
       "      <td>44</td>\n",
       "    </tr>\n",
       "    <tr>\n",
       "      <th>587</th>\n",
       "      <td>401013341</td>\n",
       "      <td>2018-11-03T16:00:00.000Z</td>\n",
       "      <td>2018</td>\n",
       "      <td>Ohio State</td>\n",
       "      <td>Big Ten</td>\n",
       "      <td>36</td>\n",
       "      <td>Nebraska</td>\n",
       "      <td>Big Ten</td>\n",
       "      <td>31</td>\n",
       "      <td>1067</td>\n",
       "      <td>977</td>\n",
       "      <td>1069</td>\n",
       "      <td>975</td>\n",
       "      <td>5</td>\n",
       "    </tr>\n",
       "    <tr>\n",
       "      <th>601</th>\n",
       "      <td>401114189</td>\n",
       "      <td>2019-11-03T01:00:00.000Z</td>\n",
       "      <td>2019</td>\n",
       "      <td>UCLA</td>\n",
       "      <td>Pac-12</td>\n",
       "      <td>31</td>\n",
       "      <td>Colorado</td>\n",
       "      <td>Pac-12</td>\n",
       "      <td>14</td>\n",
       "      <td>984</td>\n",
       "      <td>972</td>\n",
       "      <td>992</td>\n",
       "      <td>964</td>\n",
       "      <td>17</td>\n",
       "    </tr>\n",
       "    <tr>\n",
       "      <th>597</th>\n",
       "      <td>401022552</td>\n",
       "      <td>2018-11-03T18:00:00.000Z</td>\n",
       "      <td>2018</td>\n",
       "      <td>Wyoming</td>\n",
       "      <td>Mountain West</td>\n",
       "      <td>24</td>\n",
       "      <td>San José State</td>\n",
       "      <td>Mountain West</td>\n",
       "      <td>9</td>\n",
       "      <td>970</td>\n",
       "      <td>952</td>\n",
       "      <td>977</td>\n",
       "      <td>945</td>\n",
       "      <td>15</td>\n",
       "    </tr>\n",
       "  </tbody>\n",
       "</table>\n",
       "</div>"
      ],
      "text/plain": [
       "       game_id                start_date  season    home_team home_conference  \\\n",
       "462  401012765  2018-10-14T02:30:00.000Z    2018          USC          Pac-12   \n",
       "6    400937445  2017-08-31T22:30:00.000Z    2017  Wake Forest             ACC   \n",
       "587  401013341  2018-11-03T16:00:00.000Z    2018   Ohio State         Big Ten   \n",
       "601  401114189  2019-11-03T01:00:00.000Z    2019         UCLA          Pac-12   \n",
       "597  401022552  2018-11-03T18:00:00.000Z    2018      Wyoming   Mountain West   \n",
       "\n",
       "     home_points             away_team away_conference  away_points  \\\n",
       "462           31              Colorado          Pac-12           20   \n",
       "6             51  Presbyterian College            None            7   \n",
       "587           36              Nebraska         Big Ten           31   \n",
       "601           31              Colorado          Pac-12           14   \n",
       "597           24        San José State   Mountain West            9   \n",
       "\n",
       "     pregame_home_elo  pregame_away_elo  postgame_home_elo  postgame_away_elo  \\\n",
       "462               996              1031               1002               1025   \n",
       "6                1000               500               1001                499   \n",
       "587              1067               977               1069                975   \n",
       "601               984               972                992                964   \n",
       "597               970               952                977                945   \n",
       "\n",
       "     margin  \n",
       "462      11  \n",
       "6        44  \n",
       "587       5  \n",
       "601      17  \n",
       "597      15  "
      ]
     },
     "execution_count": 120,
     "metadata": {},
     "output_type": "execute_result"
    }
   ],
   "source": [
    "HomeWin1.sample(5)"
   ]
  },
  {
   "cell_type": "code",
   "execution_count": 121,
   "id": "delayed-crest",
   "metadata": {},
   "outputs": [
    {
     "data": {
      "text/html": [
       "<div>\n",
       "<style scoped>\n",
       "    .dataframe tbody tr th:only-of-type {\n",
       "        vertical-align: middle;\n",
       "    }\n",
       "\n",
       "    .dataframe tbody tr th {\n",
       "        vertical-align: top;\n",
       "    }\n",
       "\n",
       "    .dataframe thead th {\n",
       "        text-align: right;\n",
       "    }\n",
       "</style>\n",
       "<table border=\"1\" class=\"dataframe\">\n",
       "  <thead>\n",
       "    <tr style=\"text-align: right;\">\n",
       "      <th></th>\n",
       "      <th>game_id</th>\n",
       "      <th>start_date</th>\n",
       "      <th>season</th>\n",
       "      <th>home_team</th>\n",
       "      <th>home_conference</th>\n",
       "      <th>home_points</th>\n",
       "      <th>away_team</th>\n",
       "      <th>away_conference</th>\n",
       "      <th>away_points</th>\n",
       "      <th>pregame_home_elo</th>\n",
       "      <th>pregame_away_elo</th>\n",
       "      <th>postgame_home_elo</th>\n",
       "      <th>postgame_away_elo</th>\n",
       "      <th>margin</th>\n",
       "    </tr>\n",
       "  </thead>\n",
       "  <tbody>\n",
       "    <tr>\n",
       "      <th>51</th>\n",
       "      <td>401235996</td>\n",
       "      <td>2020-09-26T16:00:00.000Z</td>\n",
       "      <td>2020</td>\n",
       "      <td>Oklahoma</td>\n",
       "      <td>Big 12</td>\n",
       "      <td>35</td>\n",
       "      <td>Kansas State</td>\n",
       "      <td>Big 12</td>\n",
       "      <td>38</td>\n",
       "      <td>1001</td>\n",
       "      <td>998</td>\n",
       "      <td>999</td>\n",
       "      <td>1000</td>\n",
       "      <td>-3</td>\n",
       "    </tr>\n",
       "    <tr>\n",
       "      <th>704</th>\n",
       "      <td>401022560</td>\n",
       "      <td>2018-11-17T02:00:00.000Z</td>\n",
       "      <td>2018</td>\n",
       "      <td>New Mexico</td>\n",
       "      <td>Mountain West</td>\n",
       "      <td>14</td>\n",
       "      <td>Boise State</td>\n",
       "      <td>Mountain West</td>\n",
       "      <td>45</td>\n",
       "      <td>964</td>\n",
       "      <td>1057</td>\n",
       "      <td>954</td>\n",
       "      <td>1067</td>\n",
       "      <td>-31</td>\n",
       "    </tr>\n",
       "    <tr>\n",
       "      <th>677</th>\n",
       "      <td>401021702</td>\n",
       "      <td>2018-11-10T21:00:00.000Z</td>\n",
       "      <td>2018</td>\n",
       "      <td>Texas State</td>\n",
       "      <td>Sun Belt</td>\n",
       "      <td>7</td>\n",
       "      <td>Appalachian State</td>\n",
       "      <td>Sun Belt</td>\n",
       "      <td>38</td>\n",
       "      <td>975</td>\n",
       "      <td>1044</td>\n",
       "      <td>964</td>\n",
       "      <td>1055</td>\n",
       "      <td>-31</td>\n",
       "    </tr>\n",
       "    <tr>\n",
       "      <th>63</th>\n",
       "      <td>401014974</td>\n",
       "      <td>2018-09-01T23:00:00.000Z</td>\n",
       "      <td>2018</td>\n",
       "      <td>South Alabama</td>\n",
       "      <td>Sun Belt</td>\n",
       "      <td>26</td>\n",
       "      <td>Louisiana Tech</td>\n",
       "      <td>Conference USA</td>\n",
       "      <td>30</td>\n",
       "      <td>1000</td>\n",
       "      <td>1000</td>\n",
       "      <td>998</td>\n",
       "      <td>1002</td>\n",
       "      <td>-4</td>\n",
       "    </tr>\n",
       "    <tr>\n",
       "      <th>519</th>\n",
       "      <td>401249432</td>\n",
       "      <td>2020-12-13T03:00:00.000Z</td>\n",
       "      <td>2020</td>\n",
       "      <td>Oregon State</td>\n",
       "      <td>Pac-12</td>\n",
       "      <td>24</td>\n",
       "      <td>Stanford</td>\n",
       "      <td>Pac-12</td>\n",
       "      <td>27</td>\n",
       "      <td>993</td>\n",
       "      <td>992</td>\n",
       "      <td>991</td>\n",
       "      <td>994</td>\n",
       "      <td>-3</td>\n",
       "    </tr>\n",
       "  </tbody>\n",
       "</table>\n",
       "</div>"
      ],
      "text/plain": [
       "       game_id                start_date  season      home_team  \\\n",
       "51   401235996  2020-09-26T16:00:00.000Z    2020       Oklahoma   \n",
       "704  401022560  2018-11-17T02:00:00.000Z    2018     New Mexico   \n",
       "677  401021702  2018-11-10T21:00:00.000Z    2018    Texas State   \n",
       "63   401014974  2018-09-01T23:00:00.000Z    2018  South Alabama   \n",
       "519  401249432  2020-12-13T03:00:00.000Z    2020   Oregon State   \n",
       "\n",
       "    home_conference  home_points          away_team away_conference  \\\n",
       "51           Big 12           35       Kansas State          Big 12   \n",
       "704   Mountain West           14        Boise State   Mountain West   \n",
       "677        Sun Belt            7  Appalachian State        Sun Belt   \n",
       "63         Sun Belt           26     Louisiana Tech  Conference USA   \n",
       "519          Pac-12           24           Stanford          Pac-12   \n",
       "\n",
       "     away_points  pregame_home_elo  pregame_away_elo  postgame_home_elo  \\\n",
       "51            38              1001               998                999   \n",
       "704           45               964              1057                954   \n",
       "677           38               975              1044                964   \n",
       "63            30              1000              1000                998   \n",
       "519           27               993               992                991   \n",
       "\n",
       "     postgame_away_elo  margin  \n",
       "51                1000      -3  \n",
       "704               1067     -31  \n",
       "677               1055     -31  \n",
       "63                1002      -4  \n",
       "519                994      -3  "
      ]
     },
     "execution_count": 121,
     "metadata": {},
     "output_type": "execute_result"
    }
   ],
   "source": [
    "AwayWin1.sample(5)"
   ]
  },
  {
   "cell_type": "code",
   "execution_count": 122,
   "id": "crucial-request",
   "metadata": {},
   "outputs": [
    {
     "name": "stderr",
     "output_type": "stream",
     "text": [
      "/Users/wrasmussen/opt/anaconda3/lib/python3.7/site-packages/ipykernel_launcher.py:1: SettingWithCopyWarning: \n",
      "A value is trying to be set on a copy of a slice from a DataFrame.\n",
      "Try using .loc[row_indexer,col_indexer] = value instead\n",
      "\n",
      "See the caveats in the documentation: https://pandas.pydata.org/pandas-docs/stable/user_guide/indexing.html#returning-a-view-versus-a-copy\n",
      "  \"\"\"Entry point for launching an IPython kernel.\n",
      "/Users/wrasmussen/opt/anaconda3/lib/python3.7/site-packages/ipykernel_launcher.py:2: SettingWithCopyWarning: \n",
      "A value is trying to be set on a copy of a slice from a DataFrame.\n",
      "Try using .loc[row_indexer,col_indexer] = value instead\n",
      "\n",
      "See the caveats in the documentation: https://pandas.pydata.org/pandas-docs/stable/user_guide/indexing.html#returning-a-view-versus-a-copy\n",
      "  \n"
     ]
    }
   ],
   "source": [
    "HomeWin1['Winner'] = 'H'\n",
    "AwayWin1['Winner'] = 'A'"
   ]
  },
  {
   "cell_type": "code",
   "execution_count": 123,
   "id": "continuing-teens",
   "metadata": {},
   "outputs": [
    {
     "data": {
      "text/html": [
       "<div>\n",
       "<style scoped>\n",
       "    .dataframe tbody tr th:only-of-type {\n",
       "        vertical-align: middle;\n",
       "    }\n",
       "\n",
       "    .dataframe tbody tr th {\n",
       "        vertical-align: top;\n",
       "    }\n",
       "\n",
       "    .dataframe thead th {\n",
       "        text-align: right;\n",
       "    }\n",
       "</style>\n",
       "<table border=\"1\" class=\"dataframe\">\n",
       "  <thead>\n",
       "    <tr style=\"text-align: right;\">\n",
       "      <th></th>\n",
       "      <th>game_id</th>\n",
       "      <th>start_date</th>\n",
       "      <th>season</th>\n",
       "      <th>home_team</th>\n",
       "      <th>home_conference</th>\n",
       "      <th>home_points</th>\n",
       "      <th>away_team</th>\n",
       "      <th>away_conference</th>\n",
       "      <th>away_points</th>\n",
       "      <th>pregame_home_elo</th>\n",
       "      <th>pregame_away_elo</th>\n",
       "      <th>postgame_home_elo</th>\n",
       "      <th>postgame_away_elo</th>\n",
       "      <th>margin</th>\n",
       "      <th>Winner</th>\n",
       "    </tr>\n",
       "  </thead>\n",
       "  <tbody>\n",
       "    <tr>\n",
       "      <th>0</th>\n",
       "      <td>400935282</td>\n",
       "      <td>2017-08-26T18:30:00.000Z</td>\n",
       "      <td>2017</td>\n",
       "      <td>Colorado State</td>\n",
       "      <td>Mountain West</td>\n",
       "      <td>58</td>\n",
       "      <td>Oregon State</td>\n",
       "      <td>Pac-12</td>\n",
       "      <td>27</td>\n",
       "      <td>1000</td>\n",
       "      <td>1000</td>\n",
       "      <td>1016</td>\n",
       "      <td>984</td>\n",
       "      <td>31</td>\n",
       "      <td>H</td>\n",
       "    </tr>\n",
       "    <tr>\n",
       "      <th>1</th>\n",
       "      <td>400945031</td>\n",
       "      <td>2017-08-26T19:00:00.000Z</td>\n",
       "      <td>2017</td>\n",
       "      <td>BYU</td>\n",
       "      <td>FBS Independents</td>\n",
       "      <td>20</td>\n",
       "      <td>Portland State</td>\n",
       "      <td>None</td>\n",
       "      <td>6</td>\n",
       "      <td>1000</td>\n",
       "      <td>500</td>\n",
       "      <td>1000</td>\n",
       "      <td>500</td>\n",
       "      <td>14</td>\n",
       "      <td>H</td>\n",
       "    </tr>\n",
       "    <tr>\n",
       "      <th>5</th>\n",
       "      <td>400938591</td>\n",
       "      <td>2017-08-31T22:00:00.000Z</td>\n",
       "      <td>2017</td>\n",
       "      <td>UCF</td>\n",
       "      <td>American Athletic</td>\n",
       "      <td>61</td>\n",
       "      <td>Florida International</td>\n",
       "      <td>Conference USA</td>\n",
       "      <td>17</td>\n",
       "      <td>1000</td>\n",
       "      <td>1000</td>\n",
       "      <td>1022</td>\n",
       "      <td>978</td>\n",
       "      <td>44</td>\n",
       "      <td>H</td>\n",
       "    </tr>\n",
       "    <tr>\n",
       "      <th>6</th>\n",
       "      <td>400937445</td>\n",
       "      <td>2017-08-31T22:30:00.000Z</td>\n",
       "      <td>2017</td>\n",
       "      <td>Wake Forest</td>\n",
       "      <td>ACC</td>\n",
       "      <td>51</td>\n",
       "      <td>Presbyterian College</td>\n",
       "      <td>None</td>\n",
       "      <td>7</td>\n",
       "      <td>1000</td>\n",
       "      <td>500</td>\n",
       "      <td>1001</td>\n",
       "      <td>499</td>\n",
       "      <td>44</td>\n",
       "      <td>H</td>\n",
       "    </tr>\n",
       "    <tr>\n",
       "      <th>8</th>\n",
       "      <td>400941787</td>\n",
       "      <td>2017-08-31T23:00:00.000Z</td>\n",
       "      <td>2017</td>\n",
       "      <td>Cincinnati</td>\n",
       "      <td>American Athletic</td>\n",
       "      <td>26</td>\n",
       "      <td>Austin Peay</td>\n",
       "      <td>None</td>\n",
       "      <td>14</td>\n",
       "      <td>1000</td>\n",
       "      <td>500</td>\n",
       "      <td>1000</td>\n",
       "      <td>500</td>\n",
       "      <td>12</td>\n",
       "      <td>H</td>\n",
       "    </tr>\n",
       "  </tbody>\n",
       "</table>\n",
       "</div>"
      ],
      "text/plain": [
       "     game_id                start_date  season       home_team  \\\n",
       "0  400935282  2017-08-26T18:30:00.000Z    2017  Colorado State   \n",
       "1  400945031  2017-08-26T19:00:00.000Z    2017             BYU   \n",
       "5  400938591  2017-08-31T22:00:00.000Z    2017             UCF   \n",
       "6  400937445  2017-08-31T22:30:00.000Z    2017     Wake Forest   \n",
       "8  400941787  2017-08-31T23:00:00.000Z    2017      Cincinnati   \n",
       "\n",
       "     home_conference  home_points              away_team away_conference  \\\n",
       "0      Mountain West           58           Oregon State          Pac-12   \n",
       "1   FBS Independents           20         Portland State            None   \n",
       "5  American Athletic           61  Florida International  Conference USA   \n",
       "6                ACC           51   Presbyterian College            None   \n",
       "8  American Athletic           26            Austin Peay            None   \n",
       "\n",
       "   away_points  pregame_home_elo  pregame_away_elo  postgame_home_elo  \\\n",
       "0           27              1000              1000               1016   \n",
       "1            6              1000               500               1000   \n",
       "5           17              1000              1000               1022   \n",
       "6            7              1000               500               1001   \n",
       "8           14              1000               500               1000   \n",
       "\n",
       "   postgame_away_elo  margin Winner  \n",
       "0                984      31      H  \n",
       "1                500      14      H  \n",
       "5                978      44      H  \n",
       "6                499      44      H  \n",
       "8                500      12      H  "
      ]
     },
     "execution_count": 123,
     "metadata": {},
     "output_type": "execute_result"
    }
   ],
   "source": [
    "HomeWin1.head()"
   ]
  },
  {
   "cell_type": "code",
   "execution_count": 124,
   "id": "registered-firmware",
   "metadata": {},
   "outputs": [],
   "source": [
    "frames = [HomeWin1, AwayWin1]\n",
    "\n",
    "games20172020 = pd.concat(frames)"
   ]
  },
  {
   "cell_type": "code",
   "execution_count": 125,
   "id": "tight-soviet",
   "metadata": {
    "scrolled": true
   },
   "outputs": [
    {
     "data": {
      "text/html": [
       "<div>\n",
       "<style scoped>\n",
       "    .dataframe tbody tr th:only-of-type {\n",
       "        vertical-align: middle;\n",
       "    }\n",
       "\n",
       "    .dataframe tbody tr th {\n",
       "        vertical-align: top;\n",
       "    }\n",
       "\n",
       "    .dataframe thead th {\n",
       "        text-align: right;\n",
       "    }\n",
       "</style>\n",
       "<table border=\"1\" class=\"dataframe\">\n",
       "  <thead>\n",
       "    <tr style=\"text-align: right;\">\n",
       "      <th></th>\n",
       "      <th>game_id</th>\n",
       "      <th>start_date</th>\n",
       "      <th>season</th>\n",
       "      <th>home_team</th>\n",
       "      <th>home_conference</th>\n",
       "      <th>home_points</th>\n",
       "      <th>away_team</th>\n",
       "      <th>away_conference</th>\n",
       "      <th>away_points</th>\n",
       "      <th>pregame_home_elo</th>\n",
       "      <th>pregame_away_elo</th>\n",
       "      <th>postgame_home_elo</th>\n",
       "      <th>postgame_away_elo</th>\n",
       "      <th>margin</th>\n",
       "      <th>Winner</th>\n",
       "    </tr>\n",
       "  </thead>\n",
       "  <tbody>\n",
       "    <tr>\n",
       "      <th>513</th>\n",
       "      <td>401022541</td>\n",
       "      <td>2018-10-20T23:30:00.000Z</td>\n",
       "      <td>2018</td>\n",
       "      <td>New Mexico</td>\n",
       "      <td>Mountain West</td>\n",
       "      <td>7</td>\n",
       "      <td>Fresno State</td>\n",
       "      <td>Mountain West</td>\n",
       "      <td>38</td>\n",
       "      <td>1006</td>\n",
       "      <td>1037</td>\n",
       "      <td>992</td>\n",
       "      <td>1051</td>\n",
       "      <td>-31</td>\n",
       "      <td>A</td>\n",
       "    </tr>\n",
       "    <tr>\n",
       "      <th>337</th>\n",
       "      <td>401215331</td>\n",
       "      <td>2020-11-14T20:30:00.000Z</td>\n",
       "      <td>2020</td>\n",
       "      <td>Georgia Southern</td>\n",
       "      <td>Sun Belt</td>\n",
       "      <td>40</td>\n",
       "      <td>Texas State</td>\n",
       "      <td>Sun Belt</td>\n",
       "      <td>38</td>\n",
       "      <td>1020</td>\n",
       "      <td>964</td>\n",
       "      <td>1021</td>\n",
       "      <td>963</td>\n",
       "      <td>2</td>\n",
       "      <td>H</td>\n",
       "    </tr>\n",
       "    <tr>\n",
       "      <th>810</th>\n",
       "      <td>400938669</td>\n",
       "      <td>2017-11-26T00:30:00.000Z</td>\n",
       "      <td>2017</td>\n",
       "      <td>Louisiana Tech</td>\n",
       "      <td>Conference USA</td>\n",
       "      <td>20</td>\n",
       "      <td>UT San Antonio</td>\n",
       "      <td>Conference USA</td>\n",
       "      <td>6</td>\n",
       "      <td>989</td>\n",
       "      <td>1018</td>\n",
       "      <td>997</td>\n",
       "      <td>1010</td>\n",
       "      <td>14</td>\n",
       "      <td>H</td>\n",
       "    </tr>\n",
       "    <tr>\n",
       "      <th>534</th>\n",
       "      <td>401013044</td>\n",
       "      <td>2018-10-27T16:00:00.000Z</td>\n",
       "      <td>2018</td>\n",
       "      <td>Iowa State</td>\n",
       "      <td>Big 12</td>\n",
       "      <td>40</td>\n",
       "      <td>Texas Tech</td>\n",
       "      <td>Big 12</td>\n",
       "      <td>31</td>\n",
       "      <td>1009</td>\n",
       "      <td>1026</td>\n",
       "      <td>1014</td>\n",
       "      <td>1021</td>\n",
       "      <td>9</td>\n",
       "      <td>H</td>\n",
       "    </tr>\n",
       "    <tr>\n",
       "      <th>731</th>\n",
       "      <td>401013064</td>\n",
       "      <td>2018-11-17T20:30:00.000Z</td>\n",
       "      <td>2018</td>\n",
       "      <td>Kansas State</td>\n",
       "      <td>Big 12</td>\n",
       "      <td>21</td>\n",
       "      <td>Texas Tech</td>\n",
       "      <td>Big 12</td>\n",
       "      <td>6</td>\n",
       "      <td>983</td>\n",
       "      <td>1016</td>\n",
       "      <td>991</td>\n",
       "      <td>1008</td>\n",
       "      <td>15</td>\n",
       "      <td>H</td>\n",
       "    </tr>\n",
       "  </tbody>\n",
       "</table>\n",
       "</div>"
      ],
      "text/plain": [
       "       game_id                start_date  season         home_team  \\\n",
       "513  401022541  2018-10-20T23:30:00.000Z    2018        New Mexico   \n",
       "337  401215331  2020-11-14T20:30:00.000Z    2020  Georgia Southern   \n",
       "810  400938669  2017-11-26T00:30:00.000Z    2017    Louisiana Tech   \n",
       "534  401013044  2018-10-27T16:00:00.000Z    2018        Iowa State   \n",
       "731  401013064  2018-11-17T20:30:00.000Z    2018      Kansas State   \n",
       "\n",
       "    home_conference  home_points       away_team away_conference  away_points  \\\n",
       "513   Mountain West            7    Fresno State   Mountain West           38   \n",
       "337        Sun Belt           40     Texas State        Sun Belt           38   \n",
       "810  Conference USA           20  UT San Antonio  Conference USA            6   \n",
       "534          Big 12           40      Texas Tech          Big 12           31   \n",
       "731          Big 12           21      Texas Tech          Big 12            6   \n",
       "\n",
       "     pregame_home_elo  pregame_away_elo  postgame_home_elo  postgame_away_elo  \\\n",
       "513              1006              1037                992               1051   \n",
       "337              1020               964               1021                963   \n",
       "810               989              1018                997               1010   \n",
       "534              1009              1026               1014               1021   \n",
       "731               983              1016                991               1008   \n",
       "\n",
       "     margin Winner  \n",
       "513     -31      A  \n",
       "337       2      H  \n",
       "810      14      H  \n",
       "534       9      H  \n",
       "731      15      H  "
      ]
     },
     "execution_count": 125,
     "metadata": {},
     "output_type": "execute_result"
    }
   ],
   "source": [
    "games20172020.sample(5)"
   ]
  },
  {
   "cell_type": "code",
   "execution_count": 126,
   "id": "written-probe",
   "metadata": {},
   "outputs": [],
   "source": [
    "HomeWin2 = games2021[games2021['margin'] > 0]\n",
    "\n",
    "AwayWin2 = games2021[games2021['margin'] < 0]"
   ]
  },
  {
   "cell_type": "code",
   "execution_count": 127,
   "id": "assumed-synthetic",
   "metadata": {},
   "outputs": [
    {
     "name": "stderr",
     "output_type": "stream",
     "text": [
      "/Users/wrasmussen/opt/anaconda3/lib/python3.7/site-packages/ipykernel_launcher.py:1: SettingWithCopyWarning: \n",
      "A value is trying to be set on a copy of a slice from a DataFrame.\n",
      "Try using .loc[row_indexer,col_indexer] = value instead\n",
      "\n",
      "See the caveats in the documentation: https://pandas.pydata.org/pandas-docs/stable/user_guide/indexing.html#returning-a-view-versus-a-copy\n",
      "  \"\"\"Entry point for launching an IPython kernel.\n",
      "/Users/wrasmussen/opt/anaconda3/lib/python3.7/site-packages/ipykernel_launcher.py:2: SettingWithCopyWarning: \n",
      "A value is trying to be set on a copy of a slice from a DataFrame.\n",
      "Try using .loc[row_indexer,col_indexer] = value instead\n",
      "\n",
      "See the caveats in the documentation: https://pandas.pydata.org/pandas-docs/stable/user_guide/indexing.html#returning-a-view-versus-a-copy\n",
      "  \n"
     ]
    }
   ],
   "source": [
    "HomeWin2['Winner'] = 'H'\n",
    "AwayWin2['Winner'] = 'A'"
   ]
  },
  {
   "cell_type": "code",
   "execution_count": 128,
   "id": "written-wonder",
   "metadata": {},
   "outputs": [],
   "source": [
    "frames = [HomeWin2, AwayWin2]\n",
    "\n",
    "games2021 = pd.concat(frames)"
   ]
  },
  {
   "cell_type": "markdown",
   "id": "foreign-piano",
   "metadata": {},
   "source": [
    "Now that we have created a column value for who won the game we can use a model that will predict whether the home team or away team will win a game."
   ]
  },
  {
   "cell_type": "markdown",
   "id": "temporal-mediterranean",
   "metadata": {},
   "source": [
    "**Logistic Regression of Winning Team**"
   ]
  },
  {
   "cell_type": "code",
   "execution_count": 129,
   "id": "naked-mortgage",
   "metadata": {},
   "outputs": [],
   "source": [
    "from sklearn.linear_model import LogisticRegression"
   ]
  },
  {
   "cell_type": "code",
   "execution_count": 130,
   "id": "toxic-choice",
   "metadata": {},
   "outputs": [],
   "source": [
    "# minimal features\n",
    "\n",
    "features = ['pregame_home_elo', 'pregame_away_elo']\n",
    "\n",
    "x = games20172020[features]\n",
    "y = games20172020['Winner']\n",
    "\n",
    "x_test = games2021[features]\n",
    "y_test = games2021['Winner']"
   ]
  },
  {
   "cell_type": "code",
   "execution_count": 131,
   "id": "pleased-frost",
   "metadata": {},
   "outputs": [],
   "source": [
    "log = LogisticRegression()"
   ]
  },
  {
   "cell_type": "code",
   "execution_count": 132,
   "id": "handled-somalia",
   "metadata": {},
   "outputs": [
    {
     "data": {
      "text/plain": [
       "LogisticRegression()"
      ]
     },
     "execution_count": 132,
     "metadata": {},
     "output_type": "execute_result"
    }
   ],
   "source": [
    "log.fit(x,y)"
   ]
  },
  {
   "cell_type": "code",
   "execution_count": 133,
   "id": "bizarre-clone",
   "metadata": {},
   "outputs": [],
   "source": [
    "y_pred = log.predict(x_test)"
   ]
  },
  {
   "cell_type": "code",
   "execution_count": 134,
   "id": "developing-possibility",
   "metadata": {},
   "outputs": [],
   "source": [
    "from sklearn.metrics import accuracy_score"
   ]
  },
  {
   "cell_type": "code",
   "execution_count": 135,
   "id": "referenced-reader",
   "metadata": {},
   "outputs": [
    {
     "name": "stdout",
     "output_type": "stream",
     "text": [
      "Accuracy score is  0.696113074204947\n"
     ]
    }
   ],
   "source": [
    "score=accuracy_score(y_test,y_pred)\n",
    "print('Accuracy score is ',score)"
   ]
  },
  {
   "cell_type": "code",
   "execution_count": 136,
   "id": "fifty-reader",
   "metadata": {},
   "outputs": [
    {
     "data": {
      "image/png": "[encoded data removed]",
      "text/plain": [
       "<Figure size 432x288 with 1 Axes>"
      ]
     },
     "metadata": {
      "needs_background": "light"
     },
     "output_type": "display_data"
    }
   ],
   "source": [
    "plt.scatter(x_test['pregame_home_elo'], y_test, marker='o')\n",
    "plt.scatter(x_test['pregame_home_elo'], y_pred, marker='+')\n",
    "plt.title('Comparing Winner Predictions with Logistic Regression to Actual')\n",
    "plt.legend(labels='AP')\n",
    "plt.xlabel('Pregame Home Elo')\n",
    "plt.ylabel('Winner')\n",
    "plt.show()"
   ]
  },
  {
   "cell_type": "code",
   "execution_count": 137,
   "id": "scenic-franchise",
   "metadata": {},
   "outputs": [],
   "source": [
    "from sklearn.ensemble import RandomForestClassifier"
   ]
  },
  {
   "cell_type": "code",
   "execution_count": 138,
   "id": "banned-screw",
   "metadata": {},
   "outputs": [],
   "source": [
    "forest = RandomForestClassifier(random_state=42)"
   ]
  },
  {
   "cell_type": "code",
   "execution_count": 139,
   "id": "unnecessary-affiliation",
   "metadata": {},
   "outputs": [
    {
     "data": {
      "text/plain": [
       "RandomForestClassifier(random_state=42)"
      ]
     },
     "execution_count": 139,
     "metadata": {},
     "output_type": "execute_result"
    }
   ],
   "source": [
    "forest.fit(x,y)"
   ]
  },
  {
   "cell_type": "code",
   "execution_count": 140,
   "id": "systematic-capitol",
   "metadata": {},
   "outputs": [],
   "source": [
    "y_pred = forest.predict(x_test)"
   ]
  },
  {
   "cell_type": "code",
   "execution_count": 141,
   "id": "sonic-authorization",
   "metadata": {},
   "outputs": [
    {
     "name": "stdout",
     "output_type": "stream",
     "text": [
      "Accuracy score is  0.6855123674911661\n"
     ]
    }
   ],
   "source": [
    "score=accuracy_score(y_test,y_pred)\n",
    "print('Accuracy score is ',score)"
   ]
  },
  {
   "cell_type": "code",
   "execution_count": 142,
   "id": "monetary-aerospace",
   "metadata": {},
   "outputs": [
    {
     "data": {
      "image/png": "[encoded data removed]",
      "text/plain": [
       "<Figure size 432x288 with 1 Axes>"
      ]
     },
     "metadata": {
      "needs_background": "light"
     },
     "output_type": "display_data"
    }
   ],
   "source": [
    "plt.scatter(x_test['pregame_home_elo'], y_test, marker='o')\n",
    "plt.scatter(x_test['pregame_home_elo'], y_pred, marker='+')\n",
    "plt.title('Comparing Winner Predictions with Random Forest Classifier to Actual')\n",
    "plt.legend(labels='AP')\n",
    "plt.xlabel('Pregame Home Elo')\n",
    "plt.ylabel('Winner')\n",
    "plt.show()"
   ]
  },
  {
   "cell_type": "code",
   "execution_count": 143,
   "id": "yellow-attack",
   "metadata": {},
   "outputs": [],
   "source": [
    "from sklearn.tree import DecisionTreeClassifier"
   ]
  },
  {
   "cell_type": "code",
   "execution_count": 144,
   "id": "portuguese-bicycle",
   "metadata": {},
   "outputs": [],
   "source": [
    "tree = DecisionTreeClassifier(random_state=42)"
   ]
  },
  {
   "cell_type": "code",
   "execution_count": 145,
   "id": "color-gardening",
   "metadata": {},
   "outputs": [
    {
     "data": {
      "text/plain": [
       "DecisionTreeClassifier(random_state=42)"
      ]
     },
     "execution_count": 145,
     "metadata": {},
     "output_type": "execute_result"
    }
   ],
   "source": [
    "tree.fit(x,y)"
   ]
  },
  {
   "cell_type": "code",
   "execution_count": 146,
   "id": "desirable-indonesian",
   "metadata": {},
   "outputs": [],
   "source": [
    "y_pred = tree.predict(x_test)"
   ]
  },
  {
   "cell_type": "code",
   "execution_count": 147,
   "id": "equivalent-subsection",
   "metadata": {},
   "outputs": [
    {
     "name": "stdout",
     "output_type": "stream",
     "text": [
      "Accuracy score is  0.64075382803298\n"
     ]
    }
   ],
   "source": [
    "score=accuracy_score(y_test,y_pred)\n",
    "print('Accuracy score is ',score)"
   ]
  },
  {
   "cell_type": "code",
   "execution_count": 148,
   "id": "little-print",
   "metadata": {},
   "outputs": [
    {
     "data": {
      "image/png": "[encoded data removed]",
      "text/plain": [
       "<Figure size 432x288 with 1 Axes>"
      ]
     },
     "metadata": {
      "needs_background": "light"
     },
     "output_type": "display_data"
    }
   ],
   "source": [
    "plt.scatter(x_test['pregame_home_elo'], y_test, marker='o')\n",
    "plt.scatter(x_test['pregame_home_elo'], y_pred, marker='+')\n",
    "plt.title('Comparing Winner Predictions with Decision Tree Classifier to Actual')\n",
    "plt.legend(labels='AP')\n",
    "plt.xlabel('Pregame Home Elo')\n",
    "plt.ylabel('Winner')\n",
    "plt.show()"
   ]
  },
  {
   "cell_type": "code",
   "execution_count": 149,
   "id": "reduced-jones",
   "metadata": {},
   "outputs": [],
   "source": [
    "games1720 = pd.get_dummies(games20172020, columns=['home_conference', 'away_conference'])"
   ]
  },
  {
   "cell_type": "code",
   "execution_count": 150,
   "id": "legitimate-enemy",
   "metadata": {},
   "outputs": [],
   "source": [
    "features = ['pregame_home_elo', 'pregame_away_elo', 'home_conference_ACC', 'home_conference_American Athletic',\n",
    "       'home_conference_Big 12', 'home_conference_Big Ten',\n",
    "       'home_conference_Conference USA', 'home_conference_FBS Independents',\n",
    "       'home_conference_Mid-American', 'home_conference_Mountain West',\n",
    "       'home_conference_Pac-12', 'home_conference_SEC',\n",
    "       'home_conference_Sun Belt', 'away_conference_ACC',\n",
    "       'away_conference_American Athletic', 'away_conference_Big 12',\n",
    "       'away_conference_Big Ten', 'away_conference_Conference USA',\n",
    "       'away_conference_FBS Independents', 'away_conference_Mid-American',\n",
    "       'away_conference_Mountain West', 'away_conference_Pac-12',\n",
    "       'away_conference_SEC', 'away_conference_Sun Belt']\n",
    "\n",
    "x = games1720[features]\n",
    "y = games1720['Winner']"
   ]
  },
  {
   "cell_type": "code",
   "execution_count": 151,
   "id": "second-generator",
   "metadata": {},
   "outputs": [],
   "source": [
    "games21 = pd.get_dummies(games2021, columns=['home_conference', 'away_conference'])"
   ]
  },
  {
   "cell_type": "code",
   "execution_count": 152,
   "id": "quick-costa",
   "metadata": {},
   "outputs": [],
   "source": [
    "x_test = games21[features]\n",
    "y_test = games21['Winner']"
   ]
  },
  {
   "cell_type": "code",
   "execution_count": 153,
   "id": "suitable-thing",
   "metadata": {},
   "outputs": [],
   "source": [
    "log = LogisticRegression()"
   ]
  },
  {
   "cell_type": "code",
   "execution_count": 154,
   "id": "norman-combining",
   "metadata": {},
   "outputs": [
    {
     "data": {
      "text/plain": [
       "LogisticRegression()"
      ]
     },
     "execution_count": 154,
     "metadata": {},
     "output_type": "execute_result"
    }
   ],
   "source": [
    "log.fit(x,y)"
   ]
  },
  {
   "cell_type": "code",
   "execution_count": 155,
   "id": "incomplete-occupation",
   "metadata": {},
   "outputs": [],
   "source": [
    "y_pred = log.predict(x_test)"
   ]
  },
  {
   "cell_type": "code",
   "execution_count": 156,
   "id": "successful-craps",
   "metadata": {},
   "outputs": [
    {
     "name": "stdout",
     "output_type": "stream",
     "text": [
      "Accuracy score is  0.7078916372202592\n"
     ]
    }
   ],
   "source": [
    "score=accuracy_score(y_test,y_pred)\n",
    "print('Accuracy score is ',score)"
   ]
  },
  {
   "cell_type": "code",
   "execution_count": 157,
   "id": "widespread-fetish",
   "metadata": {},
   "outputs": [
    {
     "data": {
      "image/png": "[encoded data removed]",
      "text/plain": [
       "<Figure size 432x288 with 1 Axes>"
      ]
     },
     "metadata": {
      "needs_background": "light"
     },
     "output_type": "display_data"
    }
   ],
   "source": [
    "plt.scatter(x_test['pregame_home_elo'], y_test, marker='o')\n",
    "plt.scatter(x_test['pregame_home_elo'], y_pred, marker='+')\n",
    "plt.title('Comparing Winner Predictions with Logistic Regression to Actual')\n",
    "plt.legend(labels='AP')\n",
    "plt.xlabel('Pregame Home Elo')\n",
    "plt.ylabel('Winner')\n",
    "plt.show()"
   ]
  },
  {
   "cell_type": "markdown",
   "id": "parallel-license",
   "metadata": {},
   "source": [
    "Adding in the conference really doesn't improve the accuracy enough and is bordering on overfitting."
   ]
  },
  {
   "cell_type": "code",
   "execution_count": 158,
   "id": "dense-consistency",
   "metadata": {},
   "outputs": [],
   "source": [
    "from sklearn.ensemble import RandomForestClassifier"
   ]
  },
  {
   "cell_type": "code",
   "execution_count": 159,
   "id": "expressed-respect",
   "metadata": {},
   "outputs": [],
   "source": [
    "forest = RandomForestClassifier(random_state=42)"
   ]
  },
  {
   "cell_type": "code",
   "execution_count": 160,
   "id": "transsexual-riding",
   "metadata": {},
   "outputs": [
    {
     "data": {
      "text/plain": [
       "RandomForestClassifier(random_state=42)"
      ]
     },
     "execution_count": 160,
     "metadata": {},
     "output_type": "execute_result"
    }
   ],
   "source": [
    "forest.fit(x,y)"
   ]
  },
  {
   "cell_type": "code",
   "execution_count": 161,
   "id": "executive-measurement",
   "metadata": {},
   "outputs": [],
   "source": [
    "y_pred = forest.predict(x_test)"
   ]
  },
  {
   "cell_type": "code",
   "execution_count": 162,
   "id": "successful-mercury",
   "metadata": {},
   "outputs": [
    {
     "name": "stdout",
     "output_type": "stream",
     "text": [
      "Accuracy score is  0.6866902237926973\n"
     ]
    }
   ],
   "source": [
    "score=accuracy_score(y_test,y_pred)\n",
    "print('Accuracy score is ',score)"
   ]
  },
  {
   "cell_type": "code",
   "execution_count": 163,
   "id": "smooth-ticket",
   "metadata": {},
   "outputs": [
    {
     "data": {
      "image/png": "[encoded data removed]",
      "text/plain": [
       "<Figure size 432x288 with 1 Axes>"
      ]
     },
     "metadata": {
      "needs_background": "light"
     },
     "output_type": "display_data"
    }
   ],
   "source": [
    "plt.scatter(x_test['pregame_home_elo'], y_test, marker='o')\n",
    "plt.scatter(x_test['pregame_home_elo'], y_pred, marker='+')\n",
    "plt.title('Comparing Winner Predictions with Random Forest Classifier to Actual')\n",
    "plt.legend(labels='AP')\n",
    "plt.xlabel('Pregame Home Elo')\n",
    "plt.ylabel('Winner')\n",
    "plt.show()"
   ]
  },
  {
   "cell_type": "code",
   "execution_count": 164,
   "id": "verbal-loading",
   "metadata": {},
   "outputs": [],
   "source": [
    "from sklearn.tree import DecisionTreeClassifier"
   ]
  },
  {
   "cell_type": "code",
   "execution_count": 165,
   "id": "missing-utilization",
   "metadata": {},
   "outputs": [],
   "source": [
    "tree = DecisionTreeClassifier(random_state=42)"
   ]
  },
  {
   "cell_type": "code",
   "execution_count": 166,
   "id": "strange-hepatitis",
   "metadata": {},
   "outputs": [
    {
     "data": {
      "text/plain": [
       "DecisionTreeClassifier(random_state=42)"
      ]
     },
     "execution_count": 166,
     "metadata": {},
     "output_type": "execute_result"
    }
   ],
   "source": [
    "tree.fit(x,y)"
   ]
  },
  {
   "cell_type": "code",
   "execution_count": 167,
   "id": "ceramic-classics",
   "metadata": {},
   "outputs": [],
   "source": [
    "y_pred = tree.predict(x_test)"
   ]
  },
  {
   "cell_type": "code",
   "execution_count": 168,
   "id": "color-montana",
   "metadata": {},
   "outputs": [
    {
     "name": "stdout",
     "output_type": "stream",
     "text": [
      "Accuracy score is  0.6395759717314488\n"
     ]
    }
   ],
   "source": [
    "score=accuracy_score(y_test,y_pred)\n",
    "print('Accuracy score is ',score)"
   ]
  },
  {
   "cell_type": "code",
   "execution_count": 169,
   "id": "hairy-current",
   "metadata": {},
   "outputs": [
    {
     "data": {
      "image/png": "[encoded data removed]",
      "text/plain": [
       "<Figure size 432x288 with 1 Axes>"
      ]
     },
     "metadata": {
      "needs_background": "light"
     },
     "output_type": "display_data"
    }
   ],
   "source": [
    "plt.scatter(x_test['pregame_home_elo'], y_test, marker='o')\n",
    "plt.scatter(x_test['pregame_home_elo'], y_pred, marker='+')\n",
    "plt.title('Comparing Winner Predictions with Decision Tree Classifier to Actual')\n",
    "plt.legend(labels='AP')\n",
    "plt.xlabel('Pregame Home Elo')\n",
    "plt.ylabel('Winner')\n",
    "plt.show()"
   ]
  },
  {
   "cell_type": "markdown",
   "id": "introductory-exercise",
   "metadata": {},
   "source": [
    "### A few more data visualizations"
   ]
  },
  {
   "cell_type": "code",
   "execution_count": 170,
   "id": "fifteen-berry",
   "metadata": {},
   "outputs": [
    {
     "data": {
      "text/html": [
       "<div>\n",
       "<style scoped>\n",
       "    .dataframe tbody tr th:only-of-type {\n",
       "        vertical-align: middle;\n",
       "    }\n",
       "\n",
       "    .dataframe tbody tr th {\n",
       "        vertical-align: top;\n",
       "    }\n",
       "\n",
       "    .dataframe thead th {\n",
       "        text-align: right;\n",
       "    }\n",
       "</style>\n",
       "<table border=\"1\" class=\"dataframe\">\n",
       "  <thead>\n",
       "    <tr style=\"text-align: right;\">\n",
       "      <th></th>\n",
       "      <th>game_id</th>\n",
       "      <th>start_date</th>\n",
       "      <th>season</th>\n",
       "      <th>home_team</th>\n",
       "      <th>home_conference</th>\n",
       "      <th>home_points</th>\n",
       "      <th>away_team</th>\n",
       "      <th>away_conference</th>\n",
       "      <th>away_points</th>\n",
       "      <th>pregame_home_elo</th>\n",
       "      <th>pregame_away_elo</th>\n",
       "      <th>postgame_home_elo</th>\n",
       "      <th>postgame_away_elo</th>\n",
       "      <th>margin</th>\n",
       "      <th>Winner</th>\n",
       "    </tr>\n",
       "  </thead>\n",
       "  <tbody>\n",
       "    <tr>\n",
       "      <th>0</th>\n",
       "      <td>400935282</td>\n",
       "      <td>2017-08-26T18:30:00.000Z</td>\n",
       "      <td>2017</td>\n",
       "      <td>Colorado State</td>\n",
       "      <td>Mountain West</td>\n",
       "      <td>58</td>\n",
       "      <td>Oregon State</td>\n",
       "      <td>Pac-12</td>\n",
       "      <td>27</td>\n",
       "      <td>1000</td>\n",
       "      <td>1000</td>\n",
       "      <td>1016</td>\n",
       "      <td>984</td>\n",
       "      <td>31</td>\n",
       "      <td>H</td>\n",
       "    </tr>\n",
       "    <tr>\n",
       "      <th>1</th>\n",
       "      <td>400945031</td>\n",
       "      <td>2017-08-26T19:00:00.000Z</td>\n",
       "      <td>2017</td>\n",
       "      <td>BYU</td>\n",
       "      <td>FBS Independents</td>\n",
       "      <td>20</td>\n",
       "      <td>Portland State</td>\n",
       "      <td>None</td>\n",
       "      <td>6</td>\n",
       "      <td>1000</td>\n",
       "      <td>500</td>\n",
       "      <td>1000</td>\n",
       "      <td>500</td>\n",
       "      <td>14</td>\n",
       "      <td>H</td>\n",
       "    </tr>\n",
       "    <tr>\n",
       "      <th>5</th>\n",
       "      <td>400938591</td>\n",
       "      <td>2017-08-31T22:00:00.000Z</td>\n",
       "      <td>2017</td>\n",
       "      <td>UCF</td>\n",
       "      <td>American Athletic</td>\n",
       "      <td>61</td>\n",
       "      <td>Florida International</td>\n",
       "      <td>Conference USA</td>\n",
       "      <td>17</td>\n",
       "      <td>1000</td>\n",
       "      <td>1000</td>\n",
       "      <td>1022</td>\n",
       "      <td>978</td>\n",
       "      <td>44</td>\n",
       "      <td>H</td>\n",
       "    </tr>\n",
       "    <tr>\n",
       "      <th>6</th>\n",
       "      <td>400937445</td>\n",
       "      <td>2017-08-31T22:30:00.000Z</td>\n",
       "      <td>2017</td>\n",
       "      <td>Wake Forest</td>\n",
       "      <td>ACC</td>\n",
       "      <td>51</td>\n",
       "      <td>Presbyterian College</td>\n",
       "      <td>None</td>\n",
       "      <td>7</td>\n",
       "      <td>1000</td>\n",
       "      <td>500</td>\n",
       "      <td>1001</td>\n",
       "      <td>499</td>\n",
       "      <td>44</td>\n",
       "      <td>H</td>\n",
       "    </tr>\n",
       "    <tr>\n",
       "      <th>8</th>\n",
       "      <td>400941787</td>\n",
       "      <td>2017-08-31T23:00:00.000Z</td>\n",
       "      <td>2017</td>\n",
       "      <td>Cincinnati</td>\n",
       "      <td>American Athletic</td>\n",
       "      <td>26</td>\n",
       "      <td>Austin Peay</td>\n",
       "      <td>None</td>\n",
       "      <td>14</td>\n",
       "      <td>1000</td>\n",
       "      <td>500</td>\n",
       "      <td>1000</td>\n",
       "      <td>500</td>\n",
       "      <td>12</td>\n",
       "      <td>H</td>\n",
       "    </tr>\n",
       "  </tbody>\n",
       "</table>\n",
       "</div>"
      ],
      "text/plain": [
       "     game_id                start_date  season       home_team  \\\n",
       "0  400935282  2017-08-26T18:30:00.000Z    2017  Colorado State   \n",
       "1  400945031  2017-08-26T19:00:00.000Z    2017             BYU   \n",
       "5  400938591  2017-08-31T22:00:00.000Z    2017             UCF   \n",
       "6  400937445  2017-08-31T22:30:00.000Z    2017     Wake Forest   \n",
       "8  400941787  2017-08-31T23:00:00.000Z    2017      Cincinnati   \n",
       "\n",
       "     home_conference  home_points              away_team away_conference  \\\n",
       "0      Mountain West           58           Oregon State          Pac-12   \n",
       "1   FBS Independents           20         Portland State            None   \n",
       "5  American Athletic           61  Florida International  Conference USA   \n",
       "6                ACC           51   Presbyterian College            None   \n",
       "8  American Athletic           26            Austin Peay            None   \n",
       "\n",
       "   away_points  pregame_home_elo  pregame_away_elo  postgame_home_elo  \\\n",
       "0           27              1000              1000               1016   \n",
       "1            6              1000               500               1000   \n",
       "5           17              1000              1000               1022   \n",
       "6            7              1000               500               1001   \n",
       "8           14              1000               500               1000   \n",
       "\n",
       "   postgame_away_elo  margin Winner  \n",
       "0                984      31      H  \n",
       "1                500      14      H  \n",
       "5                978      44      H  \n",
       "6                499      44      H  \n",
       "8                500      12      H  "
      ]
     },
     "execution_count": 170,
     "metadata": {},
     "output_type": "execute_result"
    }
   ],
   "source": [
    "HomeWin1.head()"
   ]
  },
  {
   "cell_type": "code",
   "execution_count": 171,
   "id": "tender-trouble",
   "metadata": {},
   "outputs": [
    {
     "data": {
      "image/png": "[encoded data removed]",
      "text/plain": [
       "<Figure size 432x288 with 1 Axes>"
      ]
     },
     "metadata": {
      "needs_background": "light"
     },
     "output_type": "display_data"
    }
   ],
   "source": [
    "plt.scatter(HomeWin1['pregame_home_elo'], HomeWin1['pregame_away_elo'], marker='o')\n",
    "plt.scatter(AwayWin1['pregame_home_elo'], AwayWin1['pregame_away_elo'], marker='+')\n",
    "plt.legend(labels='HA')\n",
    "plt.title('Comparing Home Winning vs Away Winning Elo from 2017-2020')\n",
    "plt.xlabel('Pregame Home Elo')\n",
    "plt.ylabel('Pregame Away Elo')\n",
    "plt.show()"
   ]
  },
  {
   "cell_type": "code",
   "execution_count": 172,
   "id": "ranking-stockholm",
   "metadata": {},
   "outputs": [
    {
     "data": {
      "image/png": "[encoded data removed]",
      "text/plain": [
       "<Figure size 432x288 with 1 Axes>"
      ]
     },
     "metadata": {
      "needs_background": "light"
     },
     "output_type": "display_data"
    }
   ],
   "source": [
    "plt.scatter(HomeWin2['pregame_home_elo'], HomeWin2['pregame_away_elo'], marker='o')\n",
    "plt.scatter(AwayWin2['pregame_home_elo'], AwayWin2['pregame_away_elo'], marker='+')\n",
    "plt.legend(labels='HA')\n",
    "plt.title('Comparing Home Winning vs Away Winning Elo in 2021')\n",
    "plt.xlabel('Pregame Home Elo')\n",
    "plt.ylabel('Pregame Away Elo')\n",
    "plt.show()"
   ]
  },
  {
   "cell_type": "code",
   "execution_count": 173,
   "id": "wicked-litigation",
   "metadata": {},
   "outputs": [
    {
     "data": {
      "image/png": "[encoded data removed]",
      "text/plain": [
       "<Figure size 432x288 with 1 Axes>"
      ]
     },
     "metadata": {
      "needs_background": "light"
     },
     "output_type": "display_data"
    }
   ],
   "source": [
    "plt.scatter(HomeWin1['home_points'], HomeWin1['away_points'], marker='o')\n",
    "plt.scatter(AwayWin1['home_points'], AwayWin1['away_points'], marker='+')\n",
    "plt.legend(labels='HA')\n",
    "plt.title('Points Scored by Each Team Split By Winner (2017-2020)')\n",
    "plt.xlabel('Home Points')\n",
    "plt.ylabel('Away Points')\n",
    "plt.show()"
   ]
  },
  {
   "cell_type": "code",
   "execution_count": 174,
   "id": "coupled-singles",
   "metadata": {},
   "outputs": [
    {
     "data": {
      "image/png": "[encoded data removed]",
      "text/plain": [
       "<Figure size 432x288 with 1 Axes>"
      ]
     },
     "metadata": {
      "needs_background": "light"
     },
     "output_type": "display_data"
    }
   ],
   "source": [
    "plt.scatter(HomeWin2['home_points'], HomeWin2['away_points'], marker='o')\n",
    "plt.scatter(AwayWin2['home_points'], AwayWin2['away_points'], marker='+')\n",
    "plt.legend(labels='HA')\n",
    "plt.title('Points Scored by Each Team Split By Winner (2021)')\n",
    "plt.xlabel('Home Points')\n",
    "plt.ylabel('Away Points')\n",
    "plt.show()"
   ]
  },
  {
   "cell_type": "code",
   "execution_count": 175,
   "id": "representative-automation",
   "metadata": {},
   "outputs": [
    {
     "data": {
      "image/png": "[encoded data removed]",
      "text/plain": [
       "<Figure size 432x288 with 1 Axes>"
      ]
     },
     "metadata": {
      "needs_background": "light"
     },
     "output_type": "display_data"
    }
   ],
   "source": [
    "plt.scatter(HomeWin1['home_points'], HomeWin1['margin'], marker='o')\n",
    "plt.scatter(AwayWin1['away_points'], AwayWin1['margin'], marker='+')\n",
    "plt.legend(labels='HA')\n",
    "plt.title('Margin and Points Scored by Winning Team (2017-2020)')\n",
    "plt.xlabel('Points by Winning Team')\n",
    "plt.ylabel('Margin')\n",
    "plt.show()"
   ]
  },
  {
   "cell_type": "code",
   "execution_count": 176,
   "id": "urban-attempt",
   "metadata": {},
   "outputs": [
    {
     "data": {
      "image/png": "[encoded data removed]",
      "text/plain": [
       "<Figure size 432x288 with 1 Axes>"
      ]
     },
     "metadata": {
      "needs_background": "light"
     },
     "output_type": "display_data"
    }
   ],
   "source": [
    "plt.scatter(HomeWin2['home_points'], HomeWin2['margin'], marker='o')\n",
    "plt.scatter(AwayWin2['away_points'], AwayWin2['margin'], marker='+')\n",
    "plt.legend(labels='HA')\n",
    "plt.title('Margin and Points Scored by Winning Team (2021)')\n",
    "plt.xlabel('Points by Winning Team')\n",
    "plt.ylabel('Margin')\n",
    "plt.show()"
   ]
  },
  {
   "cell_type": "code",
   "execution_count": 177,
   "id": "mineral-bloom",
   "metadata": {},
   "outputs": [
    {
     "data": {
      "image/png": "[encoded data removed]",
      "text/plain": [
       "<Figure size 432x288 with 1 Axes>"
      ]
     },
     "metadata": {
      "needs_background": "light"
     },
     "output_type": "display_data"
    }
   ],
   "source": [
    "plt.hist(HomeWin1['margin'])\n",
    "plt.title('Histogram of Margin in Home Team Wins (2017-2020)')\n",
    "plt.xlabel('Margin')\n",
    "plt.show()"
   ]
  },
  {
   "cell_type": "code",
   "execution_count": 178,
   "id": "israeli-invention",
   "metadata": {},
   "outputs": [
    {
     "data": {
      "image/png": "[encoded data removed]",
      "text/plain": [
       "<Figure size 432x288 with 1 Axes>"
      ]
     },
     "metadata": {
      "needs_background": "light"
     },
     "output_type": "display_data"
    }
   ],
   "source": [
    "plt.hist(HomeWin2['margin'])\n",
    "plt.title('Histogram of Margin in Home Team Wins (2021)')\n",
    "plt.xlabel('Margin')\n",
    "plt.show()"
   ]
  },
  {
   "cell_type": "code",
   "execution_count": 179,
   "id": "played-complex",
   "metadata": {},
   "outputs": [
    {
     "data": {
      "image/png": "[encoded data removed]",
      "text/plain": [
       "<Figure size 432x288 with 1 Axes>"
      ]
     },
     "metadata": {
      "needs_background": "light"
     },
     "output_type": "display_data"
    }
   ],
   "source": [
    "plt.hist(AwayWin1['margin'])\n",
    "plt.title('Histogram of Margin in Away Team Wins (2017-2020)')\n",
    "plt.xlabel('Margin')\n",
    "plt.show()"
   ]
  },
  {
   "cell_type": "code",
   "execution_count": 180,
   "id": "reflected-president",
   "metadata": {},
   "outputs": [
    {
     "data": {
      "image/png": "[encoded data removed]",
      "text/plain": [
       "<Figure size 432x288 with 1 Axes>"
      ]
     },
     "metadata": {
      "needs_background": "light"
     },
     "output_type": "display_data"
    }
   ],
   "source": [
    "plt.hist(AwayWin2['margin'])\n",
    "plt.title('Histogram of Margin in Away Team Wins (2021)')\n",
    "plt.xlabel('Margin')\n",
    "plt.show()"
   ]
  },
  {
   "cell_type": "code",
   "execution_count": 181,
   "id": "powerful-drawing",
   "metadata": {},
   "outputs": [],
   "source": [
    "import seaborn as sns"
   ]
  },
  {
   "cell_type": "code",
   "execution_count": 182,
   "id": "handmade-commander",
   "metadata": {},
   "outputs": [
    {
     "data": {
      "image/png": "[encoded data removed]",
      "text/plain": [
       "<Figure size 432x288 with 1 Axes>"
      ]
     },
     "metadata": {
      "needs_background": "light"
     },
     "output_type": "display_data"
    }
   ],
   "source": [
    "sns.boxplot(x=games1720['Winner'], y=games1720['margin'])\n",
    "plt.title('Box Plot of Winner and Margin')\n",
    "plt.show()"
   ]
  },
  {
   "cell_type": "code",
   "execution_count": 183,
   "id": "bottom-treat",
   "metadata": {},
   "outputs": [
    {
     "data": {
      "image/png": "[encoded data removed]",
      "text/plain": [
       "<Figure size 432x288 with 1 Axes>"
      ]
     },
     "metadata": {
      "needs_background": "light"
     },
     "output_type": "display_data"
    }
   ],
   "source": [
    "sns.boxplot(x=games1720['Winner'], y=games1720['home_points'])\n",
    "plt.title('Box Plot of Winner and Home Points')\n",
    "plt.show()"
   ]
  },
  {
   "cell_type": "code",
   "execution_count": 184,
   "id": "narrative-elevation",
   "metadata": {},
   "outputs": [
    {
     "data": {
      "image/png": "[encoded data removed]",
      "text/plain": [
       "<Figure size 432x288 with 1 Axes>"
      ]
     },
     "metadata": {
      "needs_background": "light"
     },
     "output_type": "display_data"
    }
   ],
   "source": [
    "sns.boxplot(x=games1720['Winner'], y=games1720['away_points'])\n",
    "plt.title('Box Plot of Winner and Away Points')\n",
    "plt.show()"
   ]
  },
  {
   "cell_type": "code",
   "execution_count": 185,
   "id": "pharmaceutical-convert",
   "metadata": {},
   "outputs": [
    {
     "data": {
      "image/png": "[encoded data removed]",
      "text/plain": [
       "<Figure size 432x288 with 1 Axes>"
      ]
     },
     "metadata": {},
     "output_type": "display_data"
    }
   ],
   "source": [
    "sns.set_style('white')\n",
    "\n",
    "sns.kdeplot(x=games1720['home_points'], y=games1720['away_points'], cmap='Reds', shade=True)\n",
    "plt.title('Contour Plot of Home and Away Scoring in Game')\n",
    "plt.show()"
   ]
  },
  {
   "cell_type": "code",
   "execution_count": null,
   "id": "returning-software",
   "metadata": {},
   "outputs": [],
   "source": []
  }
 ],
 "metadata": {
  "kernelspec": {
   "display_name": "Python 3",
   "language": "python",
   "name": "python3"
  },
  "language_info": {
   "codemirror_mode": {
    "name": "ipython",
    "version": 3
   },
   "file_extension": ".py",
   "mimetype": "text/x-python",
   "name": "python",
   "nbconvert_exporter": "python",
   "pygments_lexer": "ipython3",
   "version": "3.7.6"
  }
 },
 "nbformat": 4,
 "nbformat_minor": 5
}
